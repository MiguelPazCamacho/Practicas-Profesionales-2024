{
 "cells": [
  {
   "cell_type": "code",
   "execution_count": 1,
   "metadata": {},
   "outputs": [],
   "source": [
    "import numpy as np\n",
    "import torch"
   ]
  },
  {
   "cell_type": "code",
   "execution_count": 2,
   "metadata": {},
   "outputs": [],
   "source": [
    "sample_per_carpet = 20"
   ]
  },
  {
   "cell_type": "markdown",
   "metadata": {},
   "source": [
    "# 1. Lectura de archivos"
   ]
  },
  {
   "cell_type": "markdown",
   "metadata": {},
   "source": [
    "## Funciones de Lectura de archivos"
   ]
  },
  {
   "cell_type": "code",
   "execution_count": 3,
   "metadata": {},
   "outputs": [],
   "source": [
    "def read_cloud_csv(file):\n",
    "    #Leer todo el archivo y saltamos el encabezado del archivo\n",
    "    data = np.loadtxt(file, delimiter=',', skiprows=1)\n",
    "\n",
    "    # Separar la primera línea de los datos que son las posiciones\n",
    "    first_row_data = data[0, :]     #Posiciones del robot\n",
    "    rest_data = data[1:, :]         #Nube de puntos\n",
    "\n",
    "    #first_row_data, rest_data[:5]  #Mostramos la posicion y las primeras 5 del resto para verificar\n",
    "\n",
    "    return first_row_data[::-1], rest_data"
   ]
  },
  {
   "cell_type": "code",
   "execution_count": 4,
   "metadata": {},
   "outputs": [],
   "source": [
    "import os\n",
    "\n",
    "def get_positions_and_cloud_points(sample_per_carpet):\n",
    "\n",
    "    Posiciones_robot = []\n",
    "    Nubes = []\n",
    "\n",
    "    # Define la dirección (ruta) en la que deseas buscar los directorios\n",
    "    ruta = 'Nubes'\n",
    "\n",
    "    Elementos_en_orden = []\n",
    "    for i in range(82):\n",
    "        caso1= \"mundo_\"+str(i)\n",
    "        Elementos_en_orden.append(caso1)\n",
    "        caso2= \"mundo_\"+str(i)+\"_1\"\n",
    "        Elementos_en_orden.append(caso2)\n",
    "\n",
    "    # Lista todos los archivos y directorios en la ruta especificada\n",
    "    todos_los_elementos = os.listdir(ruta)\n",
    "\n",
    "    # Filtra solo los directorios\n",
    "    solo_directorios = [elemento for elemento in todos_los_elementos if os.path.isdir(os.path.join(ruta, elemento))]\n",
    "\n",
    "    Directorios_nubes = []\n",
    "    for n in Elementos_en_orden:\n",
    "        if n in solo_directorios:\n",
    "            Directorios_nubes.append(n)\n",
    "\n",
    "\n",
    "    inicio = 0\n",
    "    for directorio in Directorios_nubes:\n",
    "\n",
    "        ruta_directorio = ruta+\"/\"+directorio\n",
    "\n",
    "        print(ruta_directorio, \"inicio:\", inicio)\n",
    "\n",
    "        #Lista todos los archivos y directorios en la ruta especificada\n",
    "        len_nombres_nubes = len(os.listdir(ruta_directorio))\n",
    "\n",
    "        nombres_nubes = []\n",
    "        for i in range(len_nombres_nubes):\n",
    "            nombres_nubes.append(\"intersection_points_\"+str(i)+\".csv\")\n",
    "            \n",
    "        #Tomamos una muestra por cada carpeta\n",
    "        rand_index = [i for i in np.random.randint(0, len_nombres_nubes, sample_per_carpet)]\n",
    "\n",
    "        nombres_nubes= [nombres_nubes[i] for i in np.sort(rand_index)]\n",
    "\n",
    "        for nube in nombres_nubes:\n",
    "\n",
    "            ruta_nubes = ruta_directorio +\"/\"+nube\n",
    "            #Obtenemos a: la posicion y b: la nube de puntos\n",
    "            a,b = read_cloud_csv(ruta_nubes)\n",
    "\n",
    "            #!!!Si hay un valor infinito en la nube de puntos no la incluimos en nuestro conjunto\n",
    "            if(np.any(np.isinf(b)) == False):\n",
    "                Posiciones_robot.append(a)\n",
    "                Nubes.append(b)\n",
    "                inicio +=1\n",
    "        \n",
    "\n",
    "    Posiciones_robot= np.array(Posiciones_robot)\n",
    "\n",
    "    return Posiciones_robot, Nubes"
   ]
  },
  {
   "cell_type": "markdown",
   "metadata": {},
   "source": [
    "## Lectura"
   ]
  },
  {
   "cell_type": "code",
   "execution_count": 5,
   "metadata": {},
   "outputs": [
    {
     "name": "stdout",
     "output_type": "stream",
     "text": [
      "Nubes/mundo_0 inicio: 0\n",
      "Nubes/mundo_1 inicio: 19\n",
      "Nubes/mundo_2 inicio: 36\n",
      "Nubes/mundo_2_1 inicio: 53\n",
      "Nubes/mundo_3 inicio: 53\n",
      "Nubes/mundo_3_1 inicio: 70\n",
      "Nubes/mundo_4 inicio: 70\n",
      "Nubes/mundo_4_1 inicio: 90\n",
      "Nubes/mundo_5 inicio: 90\n",
      "Nubes/mundo_5_1 inicio: 110\n",
      "Nubes/mundo_6 inicio: 110\n",
      "Nubes/mundo_7 inicio: 110\n",
      "Nubes/mundo_8 inicio: 110\n",
      "Nubes/mundo_9 inicio: 110\n",
      "Nubes/mundo_10 inicio: 110\n",
      "Nubes/mundo_11 inicio: 110\n",
      "Nubes/mundo_12 inicio: 110\n",
      "Nubes/mundo_13 inicio: 110\n",
      "Nubes/mundo_13_1 inicio: 126\n",
      "Nubes/mundo_14 inicio: 126\n",
      "Nubes/mundo_14_1 inicio: 138\n",
      "Nubes/mundo_15 inicio: 138\n",
      "Nubes/mundo_15_1 inicio: 149\n",
      "Nubes/mundo_16 inicio: 149\n",
      "Nubes/mundo_16_1 inicio: 165\n",
      "Nubes/mundo_17 inicio: 165\n",
      "Nubes/mundo_17_1 inicio: 173\n",
      "Nubes/mundo_18 inicio: 173\n",
      "Nubes/mundo_18_1 inicio: 180\n",
      "Nubes/mundo_19 inicio: 180\n",
      "Nubes/mundo_19_1 inicio: 189\n",
      "Nubes/mundo_20 inicio: 189\n",
      "Nubes/mundo_20_1 inicio: 194\n",
      "Nubes/mundo_21 inicio: 194\n",
      "Nubes/mundo_21_1 inicio: 202\n",
      "Nubes/mundo_22 inicio: 202\n",
      "Nubes/mundo_22_1 inicio: 208\n",
      "Nubes/mundo_23 inicio: 208\n",
      "Nubes/mundo_23_1 inicio: 209\n",
      "Nubes/mundo_24 inicio: 213\n",
      "Nubes/mundo_24_1 inicio: 216\n",
      "Nubes/mundo_25 inicio: 224\n",
      "Nubes/mundo_25_1 inicio: 228\n",
      "Nubes/mundo_26 inicio: 239\n",
      "Nubes/mundo_26_1 inicio: 239\n",
      "Nubes/mundo_27 inicio: 259\n",
      "Nubes/mundo_27_1 inicio: 259\n",
      "Nubes/mundo_28 inicio: 277\n",
      "Nubes/mundo_29 inicio: 291\n",
      "Nubes/mundo_30 inicio: 308\n",
      "Nubes/mundo_31 inicio: 327\n",
      "Nubes/mundo_32 inicio: 346\n",
      "Nubes/mundo_33 inicio: 363\n",
      "Nubes/mundo_34 inicio: 375\n",
      "Nubes/mundo_35 inicio: 386\n",
      "Nubes/mundo_36 inicio: 386\n",
      "Nubes/mundo_37 inicio: 386\n",
      "Nubes/mundo_38 inicio: 386\n",
      "Nubes/mundo_39 inicio: 386\n",
      "Nubes/mundo_40 inicio: 386\n",
      "Nubes/mundo_41 inicio: 386\n",
      "Nubes/mundo_42 inicio: 386\n",
      "Nubes/mundo_43 inicio: 386\n",
      "Nubes/mundo_44 inicio: 386\n",
      "Nubes/mundo_45 inicio: 386\n",
      "Nubes/mundo_46 inicio: 386\n",
      "Nubes/mundo_47 inicio: 386\n",
      "Nubes/mundo_48 inicio: 386\n",
      "Nubes/mundo_49 inicio: 386\n",
      "Nubes/mundo_50 inicio: 386\n",
      "Nubes/mundo_51 inicio: 386\n",
      "Nubes/mundo_52 inicio: 399\n",
      "Nubes/mundo_53 inicio: 409\n",
      "Nubes/mundo_54 inicio: 421\n",
      "Nubes/mundo_55 inicio: 433\n",
      "Nubes/mundo_56 inicio: 443\n",
      "Nubes/mundo_57 inicio: 453\n",
      "Nubes/mundo_58 inicio: 462\n",
      "Nubes/mundo_59 inicio: 476\n",
      "Nubes/mundo_60 inicio: 486\n",
      "Nubes/mundo_61 inicio: 497\n",
      "Nubes/mundo_62 inicio: 517\n",
      "Nubes/mundo_63 inicio: 537\n",
      "Nubes/mundo_64 inicio: 557\n",
      "Nubes/mundo_65 inicio: 577\n",
      "Nubes/mundo_66 inicio: 597\n",
      "Nubes/mundo_67 inicio: 616\n",
      "Nubes/mundo_68 inicio: 634\n",
      "Nubes/mundo_69 inicio: 654\n",
      "Nubes/mundo_70 inicio: 673\n",
      "Nubes/mundo_71 inicio: 693\n",
      "Nubes/mundo_72 inicio: 713\n",
      "Nubes/mundo_73 inicio: 733\n",
      "Nubes/mundo_74 inicio: 753\n",
      "Nubes/mundo_75 inicio: 773\n",
      "Nubes/mundo_76 inicio: 793\n",
      "Nubes/mundo_77 inicio: 813\n",
      "Nubes/mundo_78 inicio: 833\n",
      "Nubes/mundo_79 inicio: 851\n",
      "Nubes/mundo_80 inicio: 867\n",
      "Nubes/mundo_81 inicio: 881\n"
     ]
    }
   ],
   "source": [
    "Posiciones_robot, Nubes = get_positions_and_cloud_points(sample_per_carpet)"
   ]
  },
  {
   "cell_type": "markdown",
   "metadata": {},
   "source": [
    "# 2. "
   ]
  },
  {
   "cell_type": "code",
   "execution_count": 6,
   "metadata": {},
   "outputs": [
    {
     "data": {
      "text/plain": [
       "892"
      ]
     },
     "execution_count": 6,
     "metadata": {},
     "output_type": "execute_result"
    }
   ],
   "source": [
    "len(Posiciones_robot)"
   ]
  },
  {
   "cell_type": "code",
   "execution_count": 7,
   "metadata": {},
   "outputs": [
    {
     "data": {
      "text/plain": [
       "640"
      ]
     },
     "execution_count": 7,
     "metadata": {},
     "output_type": "execute_result"
    }
   ],
   "source": [
    "len(Nubes[0])"
   ]
  },
  {
   "cell_type": "code",
   "execution_count": 8,
   "metadata": {},
   "outputs": [
    {
     "data": {
      "text/plain": [
       "892"
      ]
     },
     "execution_count": 8,
     "metadata": {},
     "output_type": "execute_result"
    }
   ],
   "source": [
    "len(Nubes)"
   ]
  },
  {
   "cell_type": "markdown",
   "metadata": {},
   "source": [
    "# 3. Medidas de Similitud"
   ]
  },
  {
   "cell_type": "code",
   "execution_count": 9,
   "metadata": {},
   "outputs": [],
   "source": [
    "def mean_squared_error(nube1, nube2):\n",
    "    return np.sum( (nube1[:,0] - nube2[:,0]) ** 2 + (nube1[:,1] - nube2[:,1]) ** 2) / len(nube1)"
   ]
  },
  {
   "cell_type": "markdown",
   "metadata": {},
   "source": [
    "# 4. Aplicando Similitud"
   ]
  },
  {
   "cell_type": "markdown",
   "metadata": {},
   "source": [
    "Ejemplo de similitud entre la nube 0 y la nube 1"
   ]
  },
  {
   "cell_type": "code",
   "execution_count": 10,
   "metadata": {},
   "outputs": [
    {
     "data": {
      "text/plain": [
       "0.0"
      ]
     },
     "execution_count": 10,
     "metadata": {},
     "output_type": "execute_result"
    }
   ],
   "source": [
    "mean_squared_error(Nubes[0],Nubes[1])"
   ]
  },
  {
   "cell_type": "markdown",
   "metadata": {},
   "source": [
    "Calculo de Similitud para cada nube con el resto de nubes"
   ]
  },
  {
   "cell_type": "code",
   "execution_count": 11,
   "metadata": {},
   "outputs": [
    {
     "name": "stdout",
     "output_type": "stream",
     "text": [
      "0 / 892\n",
      "100 / 892\n",
      "200 / 892\n",
      "300 / 892\n",
      "400 / 892\n",
      "500 / 892\n",
      "600 / 892\n",
      "700 / 892\n",
      "800 / 892\n",
      "33.69342352225289\n"
     ]
    }
   ],
   "source": [
    "Nubes_Similitud = np.zeros((len(Nubes),len(Nubes)))\n",
    "\n",
    "max_value = 0\n",
    "\n",
    "for i in range(len(Nubes)):\n",
    "    if(i%100 == 0):\n",
    "            print(i,\"/\",len(Nubes_Similitud))\n",
    "    for j in range(len(Nubes)):\n",
    "        Nubes_Similitud[i][j] = mean_squared_error(Nubes[i], Nubes[j])\n",
    "        \n",
    "    max_value = max(np.max(Nubes_Similitud[i]), max_value)\n",
    "\n",
    "print(max_value)"
   ]
  },
  {
   "cell_type": "markdown",
   "metadata": {},
   "source": [
    "Función para obtener el top x de nubes de puntos y sus valores de similitud"
   ]
  },
  {
   "cell_type": "code",
   "execution_count": 12,
   "metadata": {},
   "outputs": [],
   "source": [
    "def print_similitud_de_nube(num_cloud, num_top):\n",
    "\n",
    "    sort_index = np.argsort(Nubes_Similitud[num_cloud])\n",
    "    sort_values = np.sort(Nubes_Similitud[num_cloud])\n",
    "\n",
    "    print(\"Top \", num_top, \" de las nubes de mayor similitud de la nube \", num_cloud)\n",
    "    print(\"-\"*25)\n",
    "    for i in range(num_top):\n",
    "        print(\"Indice nube: \",sort_index[i], \"\\t Valor de Similitud: \",sort_values[i])\n",
    "    \n",
    "    #Devolvemos los indices y valores ordenados de mayor similitud a menor similitud\n",
    "    #return sort_index, sort_values"
   ]
  },
  {
   "cell_type": "markdown",
   "metadata": {},
   "source": [
    "Ejemplo para la nube 1 de las nubes con mayor similitud y sus valores de similitud"
   ]
  },
  {
   "cell_type": "code",
   "execution_count": 13,
   "metadata": {},
   "outputs": [
    {
     "name": "stdout",
     "output_type": "stream",
     "text": [
      "Top  10  de las nubes de mayor similitud de la nube  1\n",
      "-------------------------\n",
      "Indice nube:  0 \t Valor de Similitud:  0.0\n",
      "Indice nube:  1 \t Valor de Similitud:  0.0\n",
      "Indice nube:  2 \t Valor de Similitud:  1.7186989093031713e-08\n",
      "Indice nube:  3 \t Valor de Similitud:  1.015197750956491e-05\n",
      "Indice nube:  4 \t Valor de Similitud:  0.02493505092983333\n",
      "Indice nube:  5 \t Valor de Similitud:  0.08970768923742048\n",
      "Indice nube:  20 \t Valor de Similitud:  0.17701433282165732\n",
      "Indice nube:  19 \t Valor de Similitud:  0.17701433282165732\n",
      "Indice nube:  21 \t Valor de Similitud:  0.2711644665315041\n",
      "Indice nube:  6 \t Valor de Similitud:  0.31636940505224503\n"
     ]
    }
   ],
   "source": [
    "print_similitud_de_nube(1, 10)"
   ]
  },
  {
   "cell_type": "markdown",
   "metadata": {},
   "source": [
    "# 5. Construcción de los buenos ejemplos y malos ejemplos"
   ]
  },
  {
   "cell_type": "code",
   "execution_count": 14,
   "metadata": {},
   "outputs": [],
   "source": [
    "def get_good_and_bad_samples(Nubes_Similitud, k, n):\n",
    "\n",
    "    Good_Samples = []\n",
    "    Bad_Samples = []\n",
    "\n",
    "    for i in range(len(Nubes_Similitud)):\n",
    "        if(i%100 == 0):\n",
    "            print(i,\"/\",len(Nubes_Similitud))\n",
    "            \n",
    "        #Valores ordenados de menor a mayor\n",
    "        sort_index = np.argsort(Nubes_Similitud[i])\n",
    "        #sort_values = np.sort(Nubes_Similitud[i])\n",
    "\n",
    "        #print([[i,j] for i,j in zip(np.ones(k, dtype=int)*i,sort_index[:k])])\n",
    "\n",
    "        for nn in range(n):\n",
    "            #[i,gs]\n",
    "            Good_Samples.append([[i,j] for i,j in zip(np.ones(k, dtype=int)*i,sort_index[nn:nn+k])])\n",
    "            #[i,bs]\n",
    "            Bad_Samples.append([[i,j] for i,j in zip(np.ones(k, dtype=int)*i,(sort_index[::-1])[nn:nn+k])])\n",
    "\n",
    "    return Good_Samples, Bad_Samples\n"
   ]
  },
  {
   "cell_type": "markdown",
   "metadata": {},
   "source": [
    "Valor K para seleccionar K buenos ejemplos y K malos ejemplos"
   ]
  },
  {
   "cell_type": "code",
   "execution_count": 15,
   "metadata": {},
   "outputs": [],
   "source": [
    "K = 50"
   ]
  },
  {
   "cell_type": "code",
   "execution_count": 16,
   "metadata": {},
   "outputs": [
    {
     "name": "stdout",
     "output_type": "stream",
     "text": [
      "0 / 892\n"
     ]
    },
    {
     "name": "stdout",
     "output_type": "stream",
     "text": [
      "100 / 892\n",
      "200 / 892\n",
      "300 / 892\n",
      "400 / 892\n",
      "500 / 892\n",
      "600 / 892\n",
      "700 / 892\n",
      "800 / 892\n"
     ]
    }
   ],
   "source": [
    "Good_Samples, Bad_Samples = get_good_and_bad_samples(Nubes_Similitud, K,12)"
   ]
  },
  {
   "cell_type": "markdown",
   "metadata": {},
   "source": [
    "Vista de los Buenos ejemplos y los Malos ejemplos"
   ]
  },
  {
   "cell_type": "code",
   "execution_count": 17,
   "metadata": {},
   "outputs": [
    {
     "name": "stdout",
     "output_type": "stream",
     "text": [
      "[[0, 0], [0, 1], [0, 2], [0, 3], [0, 4], [0, 5], [0, 20], [0, 19], [0, 21], [0, 6], [0, 37], [0, 36], [0, 22], [0, 23], [0, 7], [0, 38], [0, 39], [0, 8], [0, 53], [0, 54], [0, 55], [0, 40], [0, 41], [0, 24], [0, 56], [0, 25], [0, 42], [0, 57], [0, 58], [0, 9], [0, 26], [0, 59], [0, 91], [0, 92], [0, 90], [0, 70], [0, 71], [0, 43], [0, 28], [0, 27], [0, 60], [0, 61], [0, 72], [0, 10], [0, 73], [0, 93], [0, 74], [0, 94], [0, 95], [0, 29]]\n",
      "[[0, 345], [0, 374], [0, 307], [0, 373], [0, 344], [0, 343], [0, 372], [0, 362], [0, 361], [0, 276], [0, 326], [0, 306], [0, 275], [0, 385], [0, 274], [0, 273], [0, 305], [0, 258], [0, 272], [0, 238], [0, 257], [0, 371], [0, 255], [0, 256], [0, 290], [0, 304], [0, 342], [0, 271], [0, 237], [0, 303], [0, 289], [0, 288], [0, 360], [0, 223], [0, 222], [0, 287], [0, 340], [0, 341], [0, 286], [0, 212], [0, 211], [0, 221], [0, 384], [0, 236], [0, 210], [0, 359], [0, 254], [0, 383], [0, 209], [0, 270]]\n",
      "-------\n",
      "[[0, 3], [0, 4], [0, 5], [0, 20], [0, 19], [0, 21], [0, 6], [0, 37], [0, 36], [0, 22], [0, 23], [0, 7], [0, 38], [0, 39], [0, 8], [0, 53], [0, 54], [0, 55], [0, 40], [0, 41], [0, 24], [0, 56], [0, 25], [0, 42], [0, 57], [0, 58], [0, 9], [0, 26], [0, 59], [0, 91], [0, 92], [0, 90], [0, 70], [0, 71], [0, 43], [0, 28], [0, 27], [0, 60], [0, 61], [0, 72], [0, 10], [0, 73], [0, 93], [0, 74], [0, 94], [0, 95], [0, 29], [0, 75], [0, 62], [0, 76]]\n",
      "[[0, 373], [0, 344], [0, 343], [0, 372], [0, 362], [0, 361], [0, 276], [0, 326], [0, 306], [0, 275], [0, 385], [0, 274], [0, 273], [0, 305], [0, 258], [0, 272], [0, 238], [0, 257], [0, 371], [0, 255], [0, 256], [0, 290], [0, 304], [0, 342], [0, 271], [0, 237], [0, 303], [0, 289], [0, 288], [0, 360], [0, 223], [0, 222], [0, 287], [0, 340], [0, 341], [0, 286], [0, 212], [0, 211], [0, 221], [0, 384], [0, 236], [0, 210], [0, 359], [0, 254], [0, 383], [0, 209], [0, 270], [0, 253], [0, 325], [0, 382]]\n"
     ]
    }
   ],
   "source": [
    "print(Good_Samples[0])\n",
    "print(Bad_Samples[0])\n",
    "print(\"-------\")\n",
    "print(Good_Samples[3])\n",
    "print(Bad_Samples[3])"
   ]
  },
  {
   "cell_type": "markdown",
   "metadata": {},
   "source": [
    "# 6. Construcción del Conjunto de Entrenamiento y de Validación"
   ]
  },
  {
   "cell_type": "markdown",
   "metadata": {},
   "source": [
    "Tomamos un 80% de conjunto de entrenamiento y 20% de conjunto de validación"
   ]
  },
  {
   "cell_type": "code",
   "execution_count": 18,
   "metadata": {},
   "outputs": [
    {
     "name": "stdout",
     "output_type": "stream",
     "text": [
      "GS_Train size: 8563\n",
      "GS_Val   size: 2141\n",
      "BS_Train size: 8563\n",
      "BS_Val   size: 2141\n"
     ]
    }
   ],
   "source": [
    "from sklearn.model_selection import train_test_split\n",
    "\n",
    "Good_Samples_train,Good_Samples_val,Bad_Samples_train,Bad_Samples_val = train_test_split(Good_Samples, Bad_Samples, test_size=0.2)\n",
    "\n",
    "print(\"GS_Train size:\", len(Good_Samples_train))\n",
    "print(\"GS_Val   size:\", len(Good_Samples_val))\n",
    "print(\"BS_Train size:\", len(Bad_Samples_train))\n",
    "print(\"BS_Val   size:\", len(Bad_Samples_val))"
   ]
  },
  {
   "cell_type": "code",
   "execution_count": 89,
   "metadata": {},
   "outputs": [],
   "source": [
    "from torch.utils.data import DataLoader, TensorDataset\n",
    "\n",
    "batch_size = 16\n",
    "num_workers = 2\n",
    "\n",
    "#Entrenamiento\n",
    "train_dataset = TensorDataset(torch.tensor([ [p[0] for p in pos_pairs]+ [p[0] for p in neg_pairs] for pos_pairs, neg_pairs in zip(Good_Samples_train, Bad_Samples_train) ],dtype=torch.int), #Cloud\n",
    "                              torch.tensor([ [p[1] for p in pos_pairs]+ [p[1] for p in neg_pairs] for pos_pairs, neg_pairs in zip(Good_Samples_train, Bad_Samples_train) ],dtype=torch.int), #Context\n",
    "                              torch.tensor([[1]*(len(pos_pairs)) + [0]*(len(neg_pairs)) for pos_pairs, neg_pairs in zip(Good_Samples_train, Bad_Samples_train)] , dtype=torch.float ))\n",
    "\n",
    "train_loader = DataLoader(train_dataset,\n",
    "                          batch_size=batch_size,\n",
    "                          num_workers=num_workers,\n",
    "                          shuffle=True)\n",
    "\n",
    "#Validacion\n",
    "val_dataset = TensorDataset(torch.tensor([ [p[0] for p in pos_pairs]+ [p[0] for p in neg_pairs] for pos_pairs, neg_pairs in zip(Good_Samples_val, Bad_Samples_val) ],dtype=torch.int), #Cloud\n",
    "                              torch.tensor([ [p[1] for p in pos_pairs]+ [p[1] for p in neg_pairs] for pos_pairs, neg_pairs in zip(Good_Samples_val, Bad_Samples_val) ],dtype=torch.int), #Context\n",
    "                              torch.tensor([[1]*(len(pos_pairs))+ [0]*(len(neg_pairs)) for pos_pairs, neg_pairs in zip(Good_Samples_val, Bad_Samples_val)] , dtype=torch.float ))\n",
    "\n",
    "val_loader = DataLoader(val_dataset,\n",
    "                          batch_size=batch_size,\n",
    "                          num_workers=num_workers,\n",
    "                          shuffle=False)\n"
   ]
  },
  {
   "cell_type": "markdown",
   "metadata": {},
   "source": [
    "Tamaño de batch: [batch_size x K]"
   ]
  },
  {
   "cell_type": "code",
   "execution_count": 56,
   "metadata": {},
   "outputs": [
    {
     "name": "stdout",
     "output_type": "stream",
     "text": [
      "GS shape: torch.Size([16, 100])\n",
      "BS shape: torch.Size([16, 100])\n",
      "Label shape: torch.Size([16, 100])\n"
     ]
    }
   ],
   "source": [
    "batch = next(iter(train_loader))\n",
    "print(f'GS shape: {batch[0].shape}')\n",
    "print(f'BS shape: {batch[1].shape}')\n",
    "print(f'Label shape: {batch[2].shape}')"
   ]
  },
  {
   "cell_type": "markdown",
   "metadata": {},
   "source": [
    "# 7. Definición del modelo "
   ]
  },
  {
   "cell_type": "code",
   "execution_count": 57,
   "metadata": {},
   "outputs": [],
   "source": [
    "import torch\n",
    "import torch.nn as nn\n",
    "import torch.optim as optim\n",
    "from sklearn.metrics import accuracy_score\n",
    "\n",
    "class SGNSModel(nn.Module):\n",
    "    def __init__(self, num_clouds, embedding_dim, K):\n",
    "        super(SGNSModel, self).__init__()\n",
    "        # Embedding para las nubes\n",
    "        self.cloud_embeddings = nn.Embedding(num_clouds, embedding_dim)\n",
    "        # Embedding para los contextos \n",
    "        self.context_embeddings = nn.Embedding(num_clouds, embedding_dim)\n",
    "        # Capa de regresión logística\n",
    "        self.logistic_regression = nn.Linear(embedding_dim, K+K)\n",
    "        # Función de activación sigmoide\n",
    "        self.activation = nn.Sigmoid()\n",
    "        \n",
    "    def forward(self, cloud_indices, context_indices, labels):\n",
    "        # Obtener embeddings\n",
    "        cloud_embeds = self.cloud_embeddings(cloud_indices)\n",
    "        context_embeds = self.context_embeddings(context_indices)\n",
    "        #context_embeds = self.cloud_embeddings(context_indices)\n",
    "     \n",
    "        # Producto punto entre la nube y el contexto\n",
    "        dot_product = (cloud_embeds * context_embeds).sum(1)\n",
    "\n",
    "        # Pasar el producto punto a través de la regresión logística y luego a través de la sigmoide\n",
    "        predictions = self.activation(self.logistic_regression(dot_product.unsqueeze(1)))\n",
    "        return predictions\n",
    "    \n"
   ]
  },
  {
   "cell_type": "markdown",
   "metadata": {},
   "source": [
    "Función para evaluar conjunto de validación"
   ]
  },
  {
   "cell_type": "code",
   "execution_count": 58,
   "metadata": {},
   "outputs": [],
   "source": [
    "def model_eval(data, model, criterion):\n",
    "    with torch.no_grad():\n",
    "        preds, tgts = [], []\n",
    "        epoch_loss = []\n",
    "        for cloud_indices, context_indices, labels in data:\n",
    "\n",
    "            #Obtener predicción\n",
    "            predictions = model(cloud_indices, context_indices, labels)\n",
    "            #predictions = predictions.numpy()\n",
    "\n",
    "            tgt = labels.numpy()\n",
    "            tgts.append(tgt)\n",
    "            preds.append(predictions.squeeze())\n",
    "\n",
    "            #print(predictions.squeeze().numpy())\n",
    "            loss = criterion(predictions.squeeze(), labels)\n",
    "            #print(predictions.squeeze(), labels)\n",
    "            epoch_loss.append(loss.item())\n",
    "            \n",
    "\n",
    "    tgts = [e for l in tgts for e in l]\n",
    "    preds = [e for l in preds for e in l]\n",
    "\n",
    "    return np.mean(epoch_loss)"
   ]
  },
  {
   "cell_type": "markdown",
   "metadata": {},
   "source": [
    "Función para entrenar el modelo"
   ]
  },
  {
   "cell_type": "code",
   "execution_count": 59,
   "metadata": {},
   "outputs": [],
   "source": [
    "def train_model(model, train_loader, val_loader, epochs=10, learning_rate=0.001):\n",
    "    \n",
    "    optimizer = optim.Adam(model.parameters(), lr=learning_rate)\n",
    "    criterion = nn.BCELoss()\n",
    "    #optimizer = torch.optim.SGD(model.parameters(), lr=learning_rate)\n",
    "    #criterion = nn.CrossEntropyLoss()\n",
    "    \n",
    "    for epoch in range(epochs):\n",
    "        model.train()\n",
    "        total_loss = 0\n",
    "        loss_epoch = []\n",
    "\n",
    "        for cloud_indices, context_indices, labels in train_loader:\n",
    "            \n",
    "            # Forward pass\n",
    "            predictions = model(cloud_indices, context_indices, labels)\n",
    "            loss = criterion(predictions.squeeze(), labels)\n",
    "            total_loss += loss.item()\n",
    "            loss_epoch.append(loss.item())\n",
    "            \n",
    "            # Backward and optimize\n",
    "            optimizer.zero_grad()\n",
    "            loss.backward()\n",
    "            optimizer.step()\n",
    "\n",
    "        \n",
    "        #Metricas del conjunto de validación\n",
    "        model.eval()\n",
    "        tuning_metric = model_eval(val_loader, model, criterion)\n",
    "        total_loss = np.mean(loss_epoch)\n",
    "\n",
    "\n",
    "        print(f'Epoch {epoch}, Loss: {total_loss}, Val loss: {tuning_metric}')"
   ]
  },
  {
   "cell_type": "markdown",
   "metadata": {},
   "source": [
    "# 8. Entrenamiento"
   ]
  },
  {
   "cell_type": "code",
   "execution_count": 90,
   "metadata": {},
   "outputs": [
    {
     "name": "stdout",
     "output_type": "stream",
     "text": [
      "Epoch 0, Loss: 2.118152282798468, Val loss: 1.7636428929086942\n",
      "Epoch 1, Loss: 1.5078410546281444, Val loss: 1.3006132138309194\n",
      "Epoch 2, Loss: 1.115933127923688, Val loss: 0.9819926953137811\n",
      "Epoch 3, Loss: 0.8457037372820413, Val loss: 0.7622642325821207\n",
      "Epoch 4, Loss: 0.6622289321315822, Val loss: 0.6175721581302472\n",
      "Epoch 5, Loss: 0.5439841274116466, Val loss: 0.5252590059344449\n",
      "Epoch 6, Loss: 0.46601078448010913, Val loss: 0.4624802032068594\n",
      "Epoch 7, Loss: 0.4081881997912233, Val loss: 0.41354494641965894\n",
      "Epoch 8, Loss: 0.3594619086874065, Val loss: 0.36984012098009905\n",
      "Epoch 9, Loss: 0.31452572398554923, Val loss: 0.3289202075840822\n",
      "Epoch 10, Loss: 0.2719630628073616, Val loss: 0.28961773416889247\n",
      "Epoch 11, Loss: 0.2326070804621524, Val loss: 0.2521569345202019\n",
      "Epoch 12, Loss: 0.1963081703340607, Val loss: 0.21737414209255532\n",
      "Epoch 13, Loss: 0.16327357457589303, Val loss: 0.1860902489844098\n",
      "Epoch 14, Loss: 0.13463470651142634, Val loss: 0.15788367371172157\n",
      "Epoch 15, Loss: 0.10953395142317263, Val loss: 0.13306740521272617\n",
      "Epoch 16, Loss: 0.08833939241203688, Val loss: 0.11150838807225227\n",
      "Epoch 17, Loss: 0.07058649655924971, Val loss: 0.09293722646978142\n",
      "Epoch 18, Loss: 0.05594529222120156, Val loss: 0.07732892884358541\n",
      "Epoch 19, Loss: 0.04403082556490884, Val loss: 0.06427487895351404\n"
     ]
    }
   ],
   "source": [
    "num_clouds = len(Nubes)\n",
    "embedding_dim = 50\n",
    "\n",
    "# Inicializar modelo\n",
    "model = SGNSModel(num_clouds, embedding_dim, K)\n",
    "\n",
    "#print(model.word_embeddings(torch.tensor(0, dtype=torch.long)))\n",
    "# Entrenar el modelo\n",
    "train_model(model, train_loader, val_loader, epochs=20, learning_rate=0.0001)\n",
    "#print(model.word_embeddings(torch.tensor(0, dtype=torch.long)))"
   ]
  },
  {
   "cell_type": "code",
   "execution_count": 91,
   "metadata": {},
   "outputs": [
    {
     "name": "stdout",
     "output_type": "stream",
     "text": [
      "tensor([707, 707, 707, 707, 707, 707, 707, 707, 707, 707, 707, 707, 707, 707,\n",
      "        707, 707, 707, 707, 707, 707, 707, 707, 707, 707, 707, 707, 707, 707,\n",
      "        707, 707, 707, 707, 707, 707, 707, 707, 707, 707, 707, 707, 707, 707,\n",
      "        707, 707, 707, 707, 707, 707, 707, 707, 707, 707, 707, 707, 707, 707,\n",
      "        707, 707, 707, 707, 707, 707, 707, 707, 707, 707, 707, 707, 707, 707,\n",
      "        707, 707, 707, 707, 707, 707, 707, 707, 707, 707, 707, 707, 707, 707,\n",
      "        707, 707, 707, 707, 707, 707, 707, 707, 707, 707, 707, 707, 707, 707,\n",
      "        707, 707], dtype=torch.int32)\n",
      "tensor([724, 709, 725, 719, 745, 726, 681, 705, 682, 662, 642, 684, 683, 727,\n",
      "        641, 744, 685, 686, 765, 661, 764, 718, 643, 644, 763, 663, 687, 783,\n",
      "        767, 766, 645, 623, 782, 688, 743, 781, 640, 704, 710, 624, 784, 742,\n",
      "        646, 768, 741, 664, 647, 689, 703, 665, 374, 869, 307, 376, 793, 373,\n",
      "        833, 537, 538, 558, 557, 853, 559, 854, 539, 344, 343, 372, 855, 362,\n",
      "        577, 870, 498, 497, 560, 773, 774, 834, 540, 276, 886, 517, 518, 794,\n",
      "        795, 377, 887, 871, 386, 519, 578, 541, 361, 872, 499, 888, 873, 520,\n",
      "        813, 275], dtype=torch.int32)\n",
      "tensor([9.9915e-01, 9.9916e-01, 9.9915e-01, 9.9915e-01, 9.9914e-01, 9.9915e-01,\n",
      "        9.9915e-01, 9.9915e-01, 9.9915e-01, 9.9916e-01, 9.9916e-01, 9.9915e-01,\n",
      "        9.9914e-01, 9.9915e-01, 9.9917e-01, 9.9913e-01, 9.9914e-01, 9.9916e-01,\n",
      "        9.9916e-01, 9.9915e-01, 9.9914e-01, 9.9915e-01, 9.9916e-01, 9.9915e-01,\n",
      "        9.9914e-01, 9.9915e-01, 9.9915e-01, 9.9915e-01, 9.9917e-01, 9.9916e-01,\n",
      "        9.9916e-01, 9.9914e-01, 9.9917e-01, 9.9914e-01, 9.9917e-01, 9.9915e-01,\n",
      "        9.9912e-01, 9.9917e-01, 9.9916e-01, 9.9915e-01, 9.9916e-01, 9.9914e-01,\n",
      "        9.9914e-01, 9.9915e-01, 9.9917e-01, 9.9914e-01, 9.9914e-01, 9.9915e-01,\n",
      "        9.9916e-01, 9.9915e-01, 8.4833e-04, 8.4463e-04, 8.4589e-04, 8.3597e-04,\n",
      "        8.4905e-04, 8.5501e-04, 8.6619e-04, 8.6306e-04, 8.6673e-04, 8.7242e-04,\n",
      "        8.4739e-04, 8.5250e-04, 8.4597e-04, 8.5103e-04, 8.3474e-04, 8.4745e-04,\n",
      "        8.5988e-04, 8.5995e-04, 8.6139e-04, 8.5352e-04, 8.6598e-04, 8.5388e-04,\n",
      "        8.4647e-04, 8.5654e-04, 8.5882e-04, 8.4981e-04, 8.5143e-04, 8.6607e-04,\n",
      "        8.5995e-04, 8.4438e-04, 8.5718e-04, 8.3195e-04, 8.5842e-04, 8.3797e-04,\n",
      "        8.2810e-04, 8.5295e-04, 8.5138e-04, 8.5521e-04, 8.4621e-04, 8.3482e-04,\n",
      "        8.2404e-04, 8.3968e-04, 8.4876e-04, 8.5629e-04, 8.3610e-04, 8.4131e-04,\n",
      "        8.3236e-04, 8.4475e-04, 8.3208e-04, 8.3731e-04])\n",
      "tensor([1., 1., 1., 1., 1., 1., 1., 1., 1., 1., 1., 1., 1., 1., 1., 1., 1., 1.,\n",
      "        1., 1., 1., 1., 1., 1., 1., 1., 1., 1., 1., 1., 1., 1., 1., 1., 1., 1.,\n",
      "        1., 1., 1., 1., 1., 1., 1., 1., 1., 1., 1., 1., 1., 1., 0., 0., 0., 0.,\n",
      "        0., 0., 0., 0., 0., 0., 0., 0., 0., 0., 0., 0., 0., 0., 0., 0., 0., 0.,\n",
      "        0., 0., 0., 0., 0., 0., 0., 0., 0., 0., 0., 0., 0., 0., 0., 0., 0., 0.,\n",
      "        0., 0., 0., 0., 0., 0., 0., 0., 0., 0.])\n",
      "----\n",
      "tensor([36, 36, 36, 36, 36, 36, 36, 36, 36, 36, 36, 36, 36, 36, 36, 36, 36, 36,\n",
      "        36, 36, 36, 36, 36, 36, 36, 36, 36, 36, 36, 36, 36, 36, 36, 36, 36, 36,\n",
      "        36, 36, 36, 36, 36, 36, 36, 36, 36, 36, 36, 36, 36, 36, 36, 36, 36, 36,\n",
      "        36, 36, 36, 36, 36, 36, 36, 36, 36, 36, 36, 36, 36, 36, 36, 36, 36, 36,\n",
      "        36, 36, 36, 36, 36, 36, 36, 36, 36, 36, 36, 36, 36, 36, 36, 36, 36, 36,\n",
      "        36, 36, 36, 36, 36, 36, 36, 36, 36, 36], dtype=torch.int32)\n",
      "tensor([ 54,   6,   4,   1,   0,   2,   3,  39,  38,  55,   7,  40,  56,  41,\n",
      "         70,  71,  57,   8,  58,  59,  24,  42,  72,  73,  95,  94,  25,  93,\n",
      "         60,  96,  26,  43,  97,  61,  74,   9,  75,  98,  76,  99,  28,  27,\n",
      "         92,  91,  77,  62,  78,  10, 100, 101, 276, 326, 306, 275, 385, 273,\n",
      "        274, 305, 258, 272, 238, 371, 257, 255, 256, 290, 304, 342, 271, 237,\n",
      "        303, 289, 288, 360, 223, 287, 341, 340, 222, 286, 211, 212, 221, 236,\n",
      "        384, 210, 359, 254, 270, 383, 209, 253, 325, 382, 302, 269, 252, 338,\n",
      "        339, 301], dtype=torch.int32)\n",
      "tensor([0.9425, 0.9422, 0.9399, 0.9458, 0.9397, 0.9437, 0.9446, 0.9456, 0.9471,\n",
      "        0.9451, 0.9475, 0.9428, 0.9414, 0.9423, 0.9477, 0.9406, 0.9421, 0.9456,\n",
      "        0.9456, 0.9439, 0.9404, 0.9455, 0.9453, 0.9415, 0.9413, 0.9441, 0.9449,\n",
      "        0.9449, 0.9486, 0.9473, 0.9463, 0.9434, 0.9478, 0.9436, 0.9469, 0.9436,\n",
      "        0.9394, 0.9468, 0.9465, 0.9419, 0.9465, 0.9411, 0.9390, 0.9439, 0.9474,\n",
      "        0.9398, 0.9428, 0.9436, 0.9460, 0.9429, 0.0556, 0.0561, 0.0542, 0.0527,\n",
      "        0.0579, 0.0603, 0.0594, 0.0590, 0.0594, 0.0596, 0.0562, 0.0577, 0.0532,\n",
      "        0.0596, 0.0530, 0.0548, 0.0610, 0.0607, 0.0603, 0.0565, 0.0609, 0.0589,\n",
      "        0.0570, 0.0556, 0.0592, 0.0556, 0.0585, 0.0590, 0.0610, 0.0586, 0.0542,\n",
      "        0.0515, 0.0594, 0.0521, 0.0522, 0.0576, 0.0545, 0.0590, 0.0551, 0.0549,\n",
      "        0.0513, 0.0522, 0.0588, 0.0606, 0.0524, 0.0524, 0.0527, 0.0542, 0.0515,\n",
      "        0.0523])\n",
      "tensor([1., 1., 1., 1., 1., 1., 1., 1., 1., 1., 1., 1., 1., 1., 1., 1., 1., 1.,\n",
      "        1., 1., 1., 1., 1., 1., 1., 1., 1., 1., 1., 1., 1., 1., 1., 1., 1., 1.,\n",
      "        1., 1., 1., 1., 1., 1., 1., 1., 1., 1., 1., 1., 1., 1., 0., 0., 0., 0.,\n",
      "        0., 0., 0., 0., 0., 0., 0., 0., 0., 0., 0., 0., 0., 0., 0., 0., 0., 0.,\n",
      "        0., 0., 0., 0., 0., 0., 0., 0., 0., 0., 0., 0., 0., 0., 0., 0., 0., 0.,\n",
      "        0., 0., 0., 0., 0., 0., 0., 0., 0., 0.])\n",
      "----\n",
      "tensor([447, 447, 447, 447, 447, 447, 447, 447, 447, 447, 447, 447, 447, 447,\n",
      "        447, 447, 447, 447, 447, 447, 447, 447, 447, 447, 447, 447, 447, 447,\n",
      "        447, 447, 447, 447, 447, 447, 447, 447, 447, 447, 447, 447, 447, 447,\n",
      "        447, 447, 447, 447, 447, 447, 447, 447, 447, 447, 447, 447, 447, 447,\n",
      "        447, 447, 447, 447, 447, 447, 447, 447, 447, 447, 447, 447, 447, 447,\n",
      "        447, 447, 447, 447, 447, 447, 447, 447, 447, 447, 447, 447, 447, 447,\n",
      "        447, 447, 447, 447, 447, 447, 447, 447, 447, 447, 447, 447, 447, 447,\n",
      "        447, 447], dtype=torch.int32)\n",
      "tensor([422, 435, 423, 409, 410, 437, 467, 411, 424, 466, 489, 434, 453, 438,\n",
      "        454, 488, 481, 402, 490, 480, 403, 444, 404, 388, 425, 401, 443, 449,\n",
      "        455, 412, 465, 456, 457, 464, 479, 426, 389, 642, 641, 661, 640, 390,\n",
      "        463, 643, 644, 624, 623, 662, 660, 413, 307, 362, 344, 343, 361, 371,\n",
      "        384, 382, 383, 891, 326, 881, 882, 380, 381, 306, 883, 884, 360, 885,\n",
      "        276, 342, 359, 832, 792, 305, 275, 340, 379, 341, 850, 274, 273, 890,\n",
      "        358, 812, 339, 338, 886, 887, 889, 375, 888, 304, 357, 867, 272, 303,\n",
      "        325, 290], dtype=torch.int32)\n",
      "tensor([0.9055, 0.9051, 0.9004, 0.9112, 0.9000, 0.9078, 0.9090, 0.9117, 0.9135,\n",
      "        0.9102, 0.9144, 0.9062, 0.9039, 0.9054, 0.9150, 0.9023, 0.9051, 0.9117,\n",
      "        0.9110, 0.9085, 0.9011, 0.9109, 0.9105, 0.9031, 0.9027, 0.9088, 0.9096,\n",
      "        0.9095, 0.9163, 0.9139, 0.9124, 0.9066, 0.9156, 0.9082, 0.9135, 0.9072,\n",
      "        0.8996, 0.9132, 0.9129, 0.9047, 0.9128, 0.9032, 0.8995, 0.9080, 0.9143,\n",
      "        0.9004, 0.9056, 0.9072, 0.9118, 0.9057, 0.0915, 0.0919, 0.0884, 0.0853,\n",
      "        0.0960, 0.0996, 0.0981, 0.0970, 0.0979, 0.0982, 0.0926, 0.0944, 0.0866,\n",
      "        0.0984, 0.0867, 0.0894, 0.1007, 0.1007, 0.0987, 0.0928, 0.1002, 0.0974,\n",
      "        0.0938, 0.0914, 0.0981, 0.0909, 0.0964, 0.0974, 0.1011, 0.0961, 0.0881,\n",
      "        0.0837, 0.0987, 0.0844, 0.0854, 0.0949, 0.0887, 0.0971, 0.0904, 0.0896,\n",
      "        0.0836, 0.0850, 0.0969, 0.1005, 0.0855, 0.0852, 0.0864, 0.0884, 0.0842,\n",
      "        0.0848])\n",
      "tensor([1., 1., 1., 1., 1., 1., 1., 1., 1., 1., 1., 1., 1., 1., 1., 1., 1., 1.,\n",
      "        1., 1., 1., 1., 1., 1., 1., 1., 1., 1., 1., 1., 1., 1., 1., 1., 1., 1.,\n",
      "        1., 1., 1., 1., 1., 1., 1., 1., 1., 1., 1., 1., 1., 1., 0., 0., 0., 0.,\n",
      "        0., 0., 0., 0., 0., 0., 0., 0., 0., 0., 0., 0., 0., 0., 0., 0., 0., 0.,\n",
      "        0., 0., 0., 0., 0., 0., 0., 0., 0., 0., 0., 0., 0., 0., 0., 0., 0., 0.,\n",
      "        0., 0., 0., 0., 0., 0., 0., 0., 0., 0.])\n",
      "----\n",
      "tensor([171, 171, 171, 171, 171, 171, 171, 171, 171, 171, 171, 171, 171, 171,\n",
      "        171, 171, 171, 171, 171, 171, 171, 171, 171, 171, 171, 171, 171, 171,\n",
      "        171, 171, 171, 171, 171, 171, 171, 171, 171, 171, 171, 171, 171, 171,\n",
      "        171, 171, 171, 171, 171, 171, 171, 171, 171, 171, 171, 171, 171, 171,\n",
      "        171, 171, 171, 171, 171, 171, 171, 171, 171, 171, 171, 171, 171, 171,\n",
      "        171, 171, 171, 171, 171, 171, 171, 171, 171, 171, 171, 171, 171, 171,\n",
      "        171, 171, 171, 171, 171, 171, 171, 171, 171, 171, 171, 171, 171, 171,\n",
      "        171, 171], dtype=torch.int32)\n",
      "tensor([145, 162, 187, 134, 135, 190, 147, 148, 185, 136, 163, 199, 176, 178,\n",
      "        123, 124, 137, 172, 179, 198, 191, 159, 164, 144, 122, 197, 125, 175,\n",
      "        192, 188, 206, 184, 200, 143, 158, 204, 205, 196, 195, 208, 157, 168,\n",
      "        120, 121, 202, 203, 215, 207, 182, 183, 377, 851, 868, 852, 346, 869,\n",
      "        347, 537, 538, 539, 558, 557, 348, 559, 853, 854, 833, 793, 540, 855,\n",
      "        870, 834, 577, 541, 560, 871, 872, 518, 517, 886, 773, 774, 873, 363,\n",
      "        364, 794, 795, 887, 519, 813, 888, 578, 350, 349, 365, 520, 796, 889,\n",
      "        498, 497], dtype=torch.int32)\n",
      "tensor([0.7509, 0.7493, 0.7378, 0.7654, 0.7365, 0.7568, 0.7598, 0.7666, 0.7709,\n",
      "        0.7626, 0.7740, 0.7519, 0.7478, 0.7502, 0.7746, 0.7440, 0.7497, 0.7660,\n",
      "        0.7655, 0.7584, 0.7395, 0.7644, 0.7635, 0.7450, 0.7436, 0.7587, 0.7618,\n",
      "        0.7609, 0.7775, 0.7715, 0.7687, 0.7538, 0.7763, 0.7577, 0.7708, 0.7546,\n",
      "        0.7361, 0.7704, 0.7696, 0.7491, 0.7693, 0.7451, 0.7354, 0.7577, 0.7730,\n",
      "        0.7383, 0.7517, 0.7557, 0.7672, 0.7516, 0.2414, 0.2427, 0.2335, 0.2258,\n",
      "        0.2524, 0.2617, 0.2586, 0.2557, 0.2573, 0.2581, 0.2437, 0.2484, 0.2297,\n",
      "        0.2599, 0.2295, 0.2367, 0.2650, 0.2644, 0.2605, 0.2450, 0.2635, 0.2560,\n",
      "        0.2474, 0.2414, 0.2582, 0.2390, 0.2535, 0.2560, 0.2653, 0.2537, 0.2326,\n",
      "        0.2218, 0.2585, 0.2239, 0.2264, 0.2498, 0.2352, 0.2561, 0.2396, 0.2367,\n",
      "        0.2217, 0.2246, 0.2554, 0.2636, 0.2264, 0.2251, 0.2291, 0.2342, 0.2225,\n",
      "        0.2245])\n",
      "tensor([1., 1., 1., 1., 1., 1., 1., 1., 1., 1., 1., 1., 1., 1., 1., 1., 1., 1.,\n",
      "        1., 1., 1., 1., 1., 1., 1., 1., 1., 1., 1., 1., 1., 1., 1., 1., 1., 1.,\n",
      "        1., 1., 1., 1., 1., 1., 1., 1., 1., 1., 1., 1., 1., 1., 0., 0., 0., 0.,\n",
      "        0., 0., 0., 0., 0., 0., 0., 0., 0., 0., 0., 0., 0., 0., 0., 0., 0., 0.,\n",
      "        0., 0., 0., 0., 0., 0., 0., 0., 0., 0., 0., 0., 0., 0., 0., 0., 0., 0.,\n",
      "        0., 0., 0., 0., 0., 0., 0., 0., 0., 0.])\n",
      "----\n",
      "tensor([400, 400, 400, 400, 400, 400, 400, 400, 400, 400, 400, 400, 400, 400,\n",
      "        400, 400, 400, 400, 400, 400, 400, 400, 400, 400, 400, 400, 400, 400,\n",
      "        400, 400, 400, 400, 400, 400, 400, 400, 400, 400, 400, 400, 400, 400,\n",
      "        400, 400, 400, 400, 400, 400, 400, 400, 400, 400, 400, 400, 400, 400,\n",
      "        400, 400, 400, 400, 400, 400, 400, 400, 400, 400, 400, 400, 400, 400,\n",
      "        400, 400, 400, 400, 400, 400, 400, 400, 400, 400, 400, 400, 400, 400,\n",
      "        400, 400, 400, 400, 400, 400, 400, 400, 400, 400, 400, 400, 400, 400,\n",
      "        400, 400], dtype=torch.int32)\n",
      "tensor([388, 443, 433, 409, 435, 422, 110, 128, 126, 127, 129, 111, 139, 138,\n",
      "        112, 140, 130, 131, 155, 154, 150, 149, 152, 153, 113, 151, 132, 133,\n",
      "        436, 114, 466, 166, 165, 167, 156, 445, 410, 115, 141, 467, 465, 464,\n",
      "        173, 142, 116, 463, 174, 605, 462, 446, 361, 276, 881, 890, 882, 326,\n",
      "        883, 885, 884, 385, 889, 886, 887, 888, 306, 275, 880, 273, 274, 832,\n",
      "        305, 850, 792, 879, 371, 878, 877, 258, 867, 272, 812, 876, 866, 869,\n",
      "        868, 875, 874, 870, 872, 871, 873, 865, 849, 831, 342, 384, 811, 238,\n",
      "        257, 772], dtype=torch.int32)\n",
      "tensor([0.9786, 0.9784, 0.9777, 0.9797, 0.9776, 0.9790, 0.9791, 0.9797, 0.9801,\n",
      "        0.9794, 0.9802, 0.9787, 0.9783, 0.9785, 0.9804, 0.9780, 0.9785, 0.9797,\n",
      "        0.9798, 0.9789, 0.9778, 0.9794, 0.9794, 0.9783, 0.9781, 0.9789, 0.9791,\n",
      "        0.9793, 0.9806, 0.9802, 0.9797, 0.9785, 0.9804, 0.9790, 0.9801, 0.9789,\n",
      "        0.9773, 0.9801, 0.9798, 0.9784, 0.9799, 0.9781, 0.9773, 0.9790, 0.9802,\n",
      "        0.9777, 0.9786, 0.9787, 0.9796, 0.9786, 0.0209, 0.0209, 0.0205, 0.0197,\n",
      "        0.0218, 0.0223, 0.0219, 0.0220, 0.0221, 0.0222, 0.0211, 0.0215, 0.0201,\n",
      "        0.0221, 0.0200, 0.0205, 0.0225, 0.0224, 0.0224, 0.0213, 0.0224, 0.0219,\n",
      "        0.0212, 0.0209, 0.0222, 0.0208, 0.0218, 0.0221, 0.0227, 0.0217, 0.0203,\n",
      "        0.0193, 0.0220, 0.0196, 0.0198, 0.0215, 0.0205, 0.0218, 0.0208, 0.0205,\n",
      "        0.0194, 0.0197, 0.0219, 0.0223, 0.0197, 0.0197, 0.0200, 0.0203, 0.0196,\n",
      "        0.0196])\n",
      "tensor([1., 1., 1., 1., 1., 1., 1., 1., 1., 1., 1., 1., 1., 1., 1., 1., 1., 1.,\n",
      "        1., 1., 1., 1., 1., 1., 1., 1., 1., 1., 1., 1., 1., 1., 1., 1., 1., 1.,\n",
      "        1., 1., 1., 1., 1., 1., 1., 1., 1., 1., 1., 1., 1., 1., 0., 0., 0., 0.,\n",
      "        0., 0., 0., 0., 0., 0., 0., 0., 0., 0., 0., 0., 0., 0., 0., 0., 0., 0.,\n",
      "        0., 0., 0., 0., 0., 0., 0., 0., 0., 0., 0., 0., 0., 0., 0., 0., 0., 0.,\n",
      "        0., 0., 0., 0., 0., 0., 0., 0., 0., 0.])\n",
      "----\n",
      "tensor([105, 105, 105, 105, 105, 105, 105, 105, 105, 105, 105, 105, 105, 105,\n",
      "        105, 105, 105, 105, 105, 105, 105, 105, 105, 105, 105, 105, 105, 105,\n",
      "        105, 105, 105, 105, 105, 105, 105, 105, 105, 105, 105, 105, 105, 105,\n",
      "        105, 105, 105, 105, 105, 105, 105, 105, 105, 105, 105, 105, 105, 105,\n",
      "        105, 105, 105, 105, 105, 105, 105, 105, 105, 105, 105, 105, 105, 105,\n",
      "        105, 105, 105, 105, 105, 105, 105, 105, 105, 105, 105, 105, 105, 105,\n",
      "        105, 105, 105, 105, 105, 105, 105, 105, 105, 105, 105, 105, 105, 105,\n",
      "        105, 105], dtype=torch.int32)\n",
      "tensor([104, 109, 108, 107,  89,  88,  87, 103,  86,  85,  83,  84, 102,  82,\n",
      "         81,  65,  64,  80,  66,  79,  68,  67, 101,  69,  78, 100,  77,  63,\n",
      "         76,  50,  62,  75,  49,  99,  51,  48,  74,  46,  47,  98,  52,  45,\n",
      "         44,  61,  73,  60,  97,  72,  33,  34, 210, 209, 222, 517, 518, 221,\n",
      "        223, 537, 538, 519, 238, 539, 276, 307, 520, 220, 219, 237, 540, 258,\n",
      "        498, 497, 345, 541, 275, 273, 274, 218, 257, 255, 499, 236, 217, 216,\n",
      "        256, 272, 558, 557, 344, 559, 542, 374, 343, 235, 544, 543, 233, 306,\n",
      "        234, 232], dtype=torch.int32)\n",
      "tensor([9.9963e-01, 9.9963e-01, 9.9963e-01, 9.9962e-01, 9.9963e-01, 9.9962e-01,\n",
      "        9.9963e-01, 9.9963e-01, 9.9962e-01, 9.9963e-01, 9.9962e-01, 9.9963e-01,\n",
      "        9.9963e-01, 9.9963e-01, 9.9963e-01, 9.9962e-01, 9.9963e-01, 9.9963e-01,\n",
      "        9.9963e-01, 9.9962e-01, 9.9963e-01, 9.9963e-01, 9.9963e-01, 9.9963e-01,\n",
      "        9.9963e-01, 9.9963e-01, 9.9962e-01, 9.9963e-01, 9.9963e-01, 9.9963e-01,\n",
      "        9.9963e-01, 9.9962e-01, 9.9963e-01, 9.9963e-01, 9.9963e-01, 9.9963e-01,\n",
      "        9.9962e-01, 9.9963e-01, 9.9963e-01, 9.9963e-01, 9.9963e-01, 9.9962e-01,\n",
      "        9.9963e-01, 9.9963e-01, 9.9963e-01, 9.9963e-01, 9.9962e-01, 9.9963e-01,\n",
      "        9.9963e-01, 9.9963e-01, 3.7158e-04, 3.7150e-04, 3.7475e-04, 3.7235e-04,\n",
      "        3.6935e-04, 3.7066e-04, 3.7812e-04, 3.7569e-04, 3.7565e-04, 3.7864e-04,\n",
      "        3.7236e-04, 3.7079e-04, 3.7772e-04, 3.6850e-04, 3.7216e-04, 3.7647e-04,\n",
      "        3.7276e-04, 3.7098e-04, 3.7308e-04, 3.7840e-04, 3.7533e-04, 3.7009e-04,\n",
      "        3.7015e-04, 3.7731e-04, 3.7451e-04, 3.7209e-04, 3.6963e-04, 3.7685e-04,\n",
      "        3.7166e-04, 3.6693e-04, 3.8072e-04, 3.7359e-04, 3.7407e-04, 3.7541e-04,\n",
      "        3.6951e-04, 3.7464e-04, 3.7553e-04, 3.7154e-04, 3.7382e-04, 3.6806e-04,\n",
      "        3.6909e-04, 3.7485e-04, 3.6773e-04, 3.6788e-04, 3.7237e-04, 3.7448e-04,\n",
      "        3.7073e-04, 3.7539e-04, 3.7240e-04, 3.7541e-04])\n",
      "tensor([1., 1., 1., 1., 1., 1., 1., 1., 1., 1., 1., 1., 1., 1., 1., 1., 1., 1.,\n",
      "        1., 1., 1., 1., 1., 1., 1., 1., 1., 1., 1., 1., 1., 1., 1., 1., 1., 1.,\n",
      "        1., 1., 1., 1., 1., 1., 1., 1., 1., 1., 1., 1., 1., 1., 0., 0., 0., 0.,\n",
      "        0., 0., 0., 0., 0., 0., 0., 0., 0., 0., 0., 0., 0., 0., 0., 0., 0., 0.,\n",
      "        0., 0., 0., 0., 0., 0., 0., 0., 0., 0., 0., 0., 0., 0., 0., 0., 0., 0.,\n",
      "        0., 0., 0., 0., 0., 0., 0., 0., 0., 0.])\n",
      "----\n",
      "tensor([421, 421, 421, 421, 421, 421, 421, 421, 421, 421, 421, 421, 421, 421,\n",
      "        421, 421, 421, 421, 421, 421, 421, 421, 421, 421, 421, 421, 421, 421,\n",
      "        421, 421, 421, 421, 421, 421, 421, 421, 421, 421, 421, 421, 421, 421,\n",
      "        421, 421, 421, 421, 421, 421, 421, 421, 421, 421, 421, 421, 421, 421,\n",
      "        421, 421, 421, 421, 421, 421, 421, 421, 421, 421, 421, 421, 421, 421,\n",
      "        421, 421, 421, 421, 421, 421, 421, 421, 421, 421, 421, 421, 421, 421,\n",
      "        421, 421, 421, 421, 421, 421, 421, 421, 421, 421, 421, 421, 421, 421,\n",
      "        421, 421], dtype=torch.int32)\n",
      "tensor([433, 399, 443, 400, 444, 386, 434, 465, 464, 463, 462, 387, 401, 435,\n",
      "        402, 479, 409, 422, 477, 478, 466, 126, 388, 127, 480, 128, 138, 139,\n",
      "        467, 150, 149, 476, 436, 151, 445, 153, 152, 165, 110, 155, 154, 129,\n",
      "        481, 166, 111, 140, 446, 131, 130, 112, 374, 307, 373, 344, 343, 372,\n",
      "        362, 276, 361, 326, 306, 275, 385, 273, 274, 305, 258, 792, 272, 891,\n",
      "        832, 238, 371, 257, 812, 850, 772, 256, 255, 290, 890, 342, 304, 791,\n",
      "        811, 880, 271, 237, 831, 790, 889, 866, 303, 888, 887, 849, 886, 752,\n",
      "        360, 289], dtype=torch.int32)\n",
      "tensor([0.5614, 0.5578, 0.5407, 0.5837, 0.5394, 0.5707, 0.5749, 0.5855, 0.5936,\n",
      "        0.5789, 0.5984, 0.5627, 0.5559, 0.5603, 0.5988, 0.5509, 0.5590, 0.5850,\n",
      "        0.5843, 0.5729, 0.5440, 0.5831, 0.5807, 0.5524, 0.5506, 0.5735, 0.5784,\n",
      "        0.5774, 0.6037, 0.5942, 0.5885, 0.5662, 0.6015, 0.5716, 0.5926, 0.5675,\n",
      "        0.5407, 0.5911, 0.5910, 0.5583, 0.5900, 0.5518, 0.5369, 0.5712, 0.5960,\n",
      "        0.5411, 0.5631, 0.5681, 0.5869, 0.5622, 0.4269, 0.4288, 0.4142, 0.4027,\n",
      "        0.4444, 0.4585, 0.4509, 0.4485, 0.4509, 0.4522, 0.4313, 0.4388, 0.4069,\n",
      "        0.4566, 0.4078, 0.4190, 0.4632, 0.4624, 0.4565, 0.4325, 0.4600, 0.4498,\n",
      "        0.4368, 0.4260, 0.4521, 0.4236, 0.4469, 0.4477, 0.4629, 0.4469, 0.4122,\n",
      "        0.3950, 0.4531, 0.3976, 0.4032, 0.4396, 0.4169, 0.4499, 0.4234, 0.4205,\n",
      "        0.3959, 0.4000, 0.4495, 0.4617, 0.4032, 0.4009, 0.4071, 0.4153, 0.3967,\n",
      "        0.3995])\n",
      "tensor([1., 1., 1., 1., 1., 1., 1., 1., 1., 1., 1., 1., 1., 1., 1., 1., 1., 1.,\n",
      "        1., 1., 1., 1., 1., 1., 1., 1., 1., 1., 1., 1., 1., 1., 1., 1., 1., 1.,\n",
      "        1., 1., 1., 1., 1., 1., 1., 1., 1., 1., 1., 1., 1., 1., 0., 0., 0., 0.,\n",
      "        0., 0., 0., 0., 0., 0., 0., 0., 0., 0., 0., 0., 0., 0., 0., 0., 0., 0.,\n",
      "        0., 0., 0., 0., 0., 0., 0., 0., 0., 0., 0., 0., 0., 0., 0., 0., 0., 0.,\n",
      "        0., 0., 0., 0., 0., 0., 0., 0., 0., 0.])\n",
      "----\n",
      "tensor([725, 725, 725, 725, 725, 725, 725, 725, 725, 725, 725, 725, 725, 725,\n",
      "        725, 725, 725, 725, 725, 725, 725, 725, 725, 725, 725, 725, 725, 725,\n",
      "        725, 725, 725, 725, 725, 725, 725, 725, 725, 725, 725, 725, 725, 725,\n",
      "        725, 725, 725, 725, 725, 725, 725, 725, 725, 725, 725, 725, 725, 725,\n",
      "        725, 725, 725, 725, 725, 725, 725, 725, 725, 725, 725, 725, 725, 725,\n",
      "        725, 725, 725, 725, 725, 725, 725, 725, 725, 725, 725, 725, 725, 725,\n",
      "        725, 725, 725, 725, 725, 725, 725, 725, 725, 725, 725, 725, 725, 725,\n",
      "        725, 725], dtype=torch.int32)\n",
      "tensor([725, 726, 724, 727, 722, 723, 709, 721, 708, 747, 767, 766, 681, 682,\n",
      "        765, 746, 707, 680, 768, 684, 683, 686, 685, 706, 769, 679, 710, 748,\n",
      "        687, 785, 745, 786, 784, 688, 720, 662, 783, 770, 787, 689, 719, 749,\n",
      "        663, 728, 764, 782, 744, 729, 730, 750, 881, 882, 867, 883, 884, 885,\n",
      "        375, 851, 537, 538, 539, 852, 558, 557, 559, 868, 498, 497, 376, 540,\n",
      "        518, 517, 519, 560, 577, 541, 499, 520, 793, 386, 578, 377, 773, 774,\n",
      "        561, 579, 542, 580, 833, 543, 544, 500, 346, 597, 794, 795, 581, 582,\n",
      "        347, 869], dtype=torch.int32)\n",
      "tensor([0.9013, 0.9009, 0.8958, 0.9072, 0.8960, 0.9035, 0.9049, 0.9074, 0.9099,\n",
      "        0.9060, 0.9105, 0.9017, 0.8998, 0.9012, 0.9109, 0.8983, 0.9010, 0.9074,\n",
      "        0.9070, 0.9044, 0.8966, 0.9067, 0.9064, 0.8986, 0.8983, 0.9041, 0.9054,\n",
      "        0.9054, 0.9123, 0.9099, 0.9084, 0.9027, 0.9116, 0.9042, 0.9096, 0.9028,\n",
      "        0.8946, 0.9092, 0.9092, 0.9006, 0.9089, 0.8988, 0.8954, 0.9038, 0.9103,\n",
      "        0.8957, 0.9017, 0.9032, 0.9076, 0.9018, 0.0953, 0.0963, 0.0924, 0.0892,\n",
      "        0.1007, 0.1040, 0.1028, 0.1010, 0.1022, 0.1022, 0.0964, 0.0985, 0.0904,\n",
      "        0.1029, 0.0908, 0.0937, 0.1055, 0.1050, 0.1027, 0.0970, 0.1046, 0.1017,\n",
      "        0.0980, 0.0956, 0.1025, 0.0952, 0.1007, 0.1017, 0.1056, 0.1005, 0.0919,\n",
      "        0.0878, 0.1030, 0.0882, 0.0894, 0.0993, 0.0924, 0.1015, 0.0945, 0.0937,\n",
      "        0.0876, 0.0890, 0.1016, 0.1049, 0.0892, 0.0890, 0.0904, 0.0923, 0.0886,\n",
      "        0.0889])\n",
      "tensor([1., 1., 1., 1., 1., 1., 1., 1., 1., 1., 1., 1., 1., 1., 1., 1., 1., 1.,\n",
      "        1., 1., 1., 1., 1., 1., 1., 1., 1., 1., 1., 1., 1., 1., 1., 1., 1., 1.,\n",
      "        1., 1., 1., 1., 1., 1., 1., 1., 1., 1., 1., 1., 1., 1., 0., 0., 0., 0.,\n",
      "        0., 0., 0., 0., 0., 0., 0., 0., 0., 0., 0., 0., 0., 0., 0., 0., 0., 0.,\n",
      "        0., 0., 0., 0., 0., 0., 0., 0., 0., 0., 0., 0., 0., 0., 0., 0., 0., 0.,\n",
      "        0., 0., 0., 0., 0., 0., 0., 0., 0., 0.])\n",
      "----\n",
      "tensor([130, 130, 130, 130, 130, 130, 130, 130, 130, 130, 130, 130, 130, 130,\n",
      "        130, 130, 130, 130, 130, 130, 130, 130, 130, 130, 130, 130, 130, 130,\n",
      "        130, 130, 130, 130, 130, 130, 130, 130, 130, 130, 130, 130, 130, 130,\n",
      "        130, 130, 130, 130, 130, 130, 130, 130, 130, 130, 130, 130, 130, 130,\n",
      "        130, 130, 130, 130, 130, 130, 130, 130, 130, 130, 130, 130, 130, 130,\n",
      "        130, 130, 130, 130, 130, 130, 130, 130, 130, 130, 130, 130, 130, 130,\n",
      "        130, 130, 130, 130, 130, 130, 130, 130, 130, 130, 130, 130, 130, 130,\n",
      "        130, 130], dtype=torch.int32)\n",
      "tensor([131, 111, 132, 112, 133, 129, 140, 113, 156, 110, 114, 141, 155, 154,\n",
      "        142, 139, 138, 128, 115, 152, 153, 127, 151, 116, 149, 150, 126, 167,\n",
      "        166, 157, 117, 118, 168, 174, 165, 158, 143, 173, 119, 121, 120, 183,\n",
      "        182, 181, 180, 144, 159, 175, 184, 189, 882, 883, 884, 885, 867, 868,\n",
      "        886, 887, 888, 869, 889, 375, 851, 852, 870, 871, 872, 873, 890, 874,\n",
      "        854, 875, 853, 855, 891, 856, 833, 857, 834, 376, 876, 858, 877, 835,\n",
      "        878, 879, 345, 836, 374, 813, 859, 793, 880, 377, 814, 794, 795, 373,\n",
      "        307, 796], dtype=torch.int32)\n",
      "tensor([0.9959, 0.9959, 0.9958, 0.9960, 0.9958, 0.9959, 0.9959, 0.9960, 0.9960,\n",
      "        0.9960, 0.9961, 0.9959, 0.9958, 0.9959, 0.9961, 0.9958, 0.9958, 0.9960,\n",
      "        0.9960, 0.9959, 0.9958, 0.9960, 0.9960, 0.9959, 0.9958, 0.9959, 0.9959,\n",
      "        0.9960, 0.9961, 0.9960, 0.9960, 0.9959, 0.9961, 0.9959, 0.9961, 0.9959,\n",
      "        0.9958, 0.9961, 0.9960, 0.9959, 0.9960, 0.9958, 0.9958, 0.9960, 0.9961,\n",
      "        0.9958, 0.9959, 0.9959, 0.9960, 0.9959, 0.0041, 0.0041, 0.0040, 0.0040,\n",
      "        0.0041, 0.0042, 0.0041, 0.0042, 0.0042, 0.0042, 0.0041, 0.0041, 0.0040,\n",
      "        0.0042, 0.0040, 0.0040, 0.0042, 0.0042, 0.0042, 0.0042, 0.0042, 0.0041,\n",
      "        0.0041, 0.0041, 0.0042, 0.0041, 0.0042, 0.0041, 0.0042, 0.0041, 0.0041,\n",
      "        0.0039, 0.0042, 0.0039, 0.0039, 0.0041, 0.0041, 0.0042, 0.0041, 0.0040,\n",
      "        0.0039, 0.0040, 0.0042, 0.0042, 0.0039, 0.0040, 0.0039, 0.0040, 0.0039,\n",
      "        0.0039])\n",
      "tensor([1., 1., 1., 1., 1., 1., 1., 1., 1., 1., 1., 1., 1., 1., 1., 1., 1., 1.,\n",
      "        1., 1., 1., 1., 1., 1., 1., 1., 1., 1., 1., 1., 1., 1., 1., 1., 1., 1.,\n",
      "        1., 1., 1., 1., 1., 1., 1., 1., 1., 1., 1., 1., 1., 1., 0., 0., 0., 0.,\n",
      "        0., 0., 0., 0., 0., 0., 0., 0., 0., 0., 0., 0., 0., 0., 0., 0., 0., 0.,\n",
      "        0., 0., 0., 0., 0., 0., 0., 0., 0., 0., 0., 0., 0., 0., 0., 0., 0., 0.,\n",
      "        0., 0., 0., 0., 0., 0., 0., 0., 0., 0.])\n",
      "----\n",
      "tensor([698, 698, 698, 698, 698, 698, 698, 698, 698, 698, 698, 698, 698, 698,\n",
      "        698, 698, 698, 698, 698, 698, 698, 698, 698, 698, 698, 698, 698, 698,\n",
      "        698, 698, 698, 698, 698, 698, 698, 698, 698, 698, 698, 698, 698, 698,\n",
      "        698, 698, 698, 698, 698, 698, 698, 698, 698, 698, 698, 698, 698, 698,\n",
      "        698, 698, 698, 698, 698, 698, 698, 698, 698, 698, 698, 698, 698, 698,\n",
      "        698, 698, 698, 698, 698, 698, 698, 698, 698, 698, 698, 698, 698, 698,\n",
      "        698, 698, 698, 698, 698, 698, 698, 698, 698, 698, 698, 698, 698, 698,\n",
      "        698, 698], dtype=torch.int32)\n",
      "tensor([700, 739, 697, 717, 740, 677, 676, 678, 658, 760, 759, 758, 761, 637,\n",
      "        738, 657, 701, 656, 675, 659, 779, 762, 674, 655, 702, 636, 703, 716,\n",
      "        780, 696, 635, 660, 673, 638, 620, 634, 704, 695, 639, 778, 741, 799,\n",
      "        742, 599, 800, 777, 310, 757, 619, 743, 615, 374, 276, 633, 344, 125,\n",
      "        343, 373, 275, 614, 362, 274, 273, 372, 137, 306, 326, 258, 124, 123,\n",
      "        653, 238, 632, 361, 122, 272, 792, 136, 257, 121, 120, 305, 119, 118,\n",
      "        135, 256, 672, 117, 134, 255, 671, 116, 147, 148, 164, 237, 115, 772,\n",
      "        114, 212], dtype=torch.int32)\n",
      "tensor([0.9974, 0.9974, 0.9973, 0.9974, 0.9973, 0.9974, 0.9974, 0.9974, 0.9974,\n",
      "        0.9974, 0.9974, 0.9974, 0.9973, 0.9974, 0.9975, 0.9973, 0.9973, 0.9974,\n",
      "        0.9974, 0.9974, 0.9973, 0.9974, 0.9974, 0.9973, 0.9973, 0.9974, 0.9974,\n",
      "        0.9974, 0.9975, 0.9974, 0.9974, 0.9973, 0.9975, 0.9973, 0.9974, 0.9974,\n",
      "        0.9973, 0.9975, 0.9974, 0.9973, 0.9974, 0.9973, 0.9973, 0.9974, 0.9975,\n",
      "        0.9973, 0.9973, 0.9974, 0.9974, 0.9974, 0.0026, 0.0026, 0.0026, 0.0026,\n",
      "        0.0026, 0.0027, 0.0027, 0.0027, 0.0027, 0.0027, 0.0026, 0.0026, 0.0026,\n",
      "        0.0027, 0.0026, 0.0026, 0.0027, 0.0027, 0.0027, 0.0027, 0.0027, 0.0027,\n",
      "        0.0026, 0.0026, 0.0027, 0.0026, 0.0027, 0.0027, 0.0027, 0.0026, 0.0026,\n",
      "        0.0025, 0.0027, 0.0025, 0.0025, 0.0027, 0.0026, 0.0027, 0.0026, 0.0026,\n",
      "        0.0025, 0.0026, 0.0027, 0.0027, 0.0026, 0.0026, 0.0026, 0.0026, 0.0025,\n",
      "        0.0026])\n",
      "tensor([1., 1., 1., 1., 1., 1., 1., 1., 1., 1., 1., 1., 1., 1., 1., 1., 1., 1.,\n",
      "        1., 1., 1., 1., 1., 1., 1., 1., 1., 1., 1., 1., 1., 1., 1., 1., 1., 1.,\n",
      "        1., 1., 1., 1., 1., 1., 1., 1., 1., 1., 1., 1., 1., 1., 0., 0., 0., 0.,\n",
      "        0., 0., 0., 0., 0., 0., 0., 0., 0., 0., 0., 0., 0., 0., 0., 0., 0., 0.,\n",
      "        0., 0., 0., 0., 0., 0., 0., 0., 0., 0., 0., 0., 0., 0., 0., 0., 0., 0.,\n",
      "        0., 0., 0., 0., 0., 0., 0., 0., 0., 0.])\n",
      "----\n",
      "tensor([393, 393, 393, 393, 393, 393, 393, 393, 393, 393, 393, 393, 393, 393,\n",
      "        393, 393, 393, 393, 393, 393, 393, 393, 393, 393, 393, 393, 393, 393,\n",
      "        393, 393, 393, 393, 393, 393, 393, 393, 393, 393, 393, 393, 393, 393,\n",
      "        393, 393, 393, 393, 393, 393, 393, 393, 393, 393, 393, 393, 393, 393,\n",
      "        393, 393, 393, 393, 393, 393, 393, 393, 393, 393, 393, 393, 393, 393,\n",
      "        393, 393, 393, 393, 393, 393, 393, 393, 393, 393, 393, 393, 393, 393,\n",
      "        393, 393, 393, 393, 393, 393, 393, 393, 393, 393, 393, 393, 393, 393,\n",
      "        393, 393], dtype=torch.int32)\n",
      "tensor([406, 405, 412, 395, 391, 396, 413, 425, 608, 607, 415, 414, 404, 426,\n",
      "        609, 606, 397, 390, 416, 389, 417, 403, 610, 625, 626, 627, 424, 624,\n",
      "        645, 628, 646, 418, 647, 644, 643, 411, 438, 629, 623, 427, 611, 648,\n",
      "        605, 439, 612, 410, 642, 449, 437, 604, 884, 885, 867, 886, 887, 888,\n",
      "        889, 868, 890, 869, 891, 374, 870, 851, 871, 872, 873, 852, 373, 874,\n",
      "        372, 875, 385, 345, 854, 853, 855, 362, 876, 344, 361, 343, 375, 877,\n",
      "        878, 856, 879, 857, 833, 307, 376, 377, 880, 371, 834, 858, 384, 383,\n",
      "        382, 326], dtype=torch.int32)\n",
      "tensor([0.9892, 0.9892, 0.9888, 0.9896, 0.9888, 0.9893, 0.9894, 0.9896, 0.9898,\n",
      "        0.9895, 0.9898, 0.9892, 0.9890, 0.9891, 0.9899, 0.9888, 0.9891, 0.9896,\n",
      "        0.9896, 0.9893, 0.9888, 0.9895, 0.9896, 0.9890, 0.9890, 0.9893, 0.9894,\n",
      "        0.9895, 0.9901, 0.9898, 0.9897, 0.9892, 0.9899, 0.9893, 0.9898, 0.9893,\n",
      "        0.9885, 0.9898, 0.9897, 0.9891, 0.9897, 0.9889, 0.9888, 0.9894, 0.9899,\n",
      "        0.9887, 0.9891, 0.9893, 0.9896, 0.9892, 0.0106, 0.0106, 0.0104, 0.0102,\n",
      "        0.0109, 0.0112, 0.0111, 0.0111, 0.0111, 0.0112, 0.0107, 0.0109, 0.0103,\n",
      "        0.0111, 0.0102, 0.0105, 0.0114, 0.0113, 0.0112, 0.0108, 0.0113, 0.0110,\n",
      "        0.0108, 0.0106, 0.0111, 0.0106, 0.0110, 0.0112, 0.0114, 0.0109, 0.0105,\n",
      "        0.0100, 0.0112, 0.0101, 0.0101, 0.0109, 0.0104, 0.0111, 0.0105, 0.0105,\n",
      "        0.0099, 0.0101, 0.0110, 0.0112, 0.0101, 0.0102, 0.0102, 0.0104, 0.0101,\n",
      "        0.0101])\n",
      "tensor([1., 1., 1., 1., 1., 1., 1., 1., 1., 1., 1., 1., 1., 1., 1., 1., 1., 1.,\n",
      "        1., 1., 1., 1., 1., 1., 1., 1., 1., 1., 1., 1., 1., 1., 1., 1., 1., 1.,\n",
      "        1., 1., 1., 1., 1., 1., 1., 1., 1., 1., 1., 1., 1., 1., 0., 0., 0., 0.,\n",
      "        0., 0., 0., 0., 0., 0., 0., 0., 0., 0., 0., 0., 0., 0., 0., 0., 0., 0.,\n",
      "        0., 0., 0., 0., 0., 0., 0., 0., 0., 0., 0., 0., 0., 0., 0., 0., 0., 0.,\n",
      "        0., 0., 0., 0., 0., 0., 0., 0., 0., 0.])\n",
      "----\n",
      "tensor([891, 891, 891, 891, 891, 891, 891, 891, 891, 891, 891, 891, 891, 891,\n",
      "        891, 891, 891, 891, 891, 891, 891, 891, 891, 891, 891, 891, 891, 891,\n",
      "        891, 891, 891, 891, 891, 891, 891, 891, 891, 891, 891, 891, 891, 891,\n",
      "        891, 891, 891, 891, 891, 891, 891, 891, 891, 891, 891, 891, 891, 891,\n",
      "        891, 891, 891, 891, 891, 891, 891, 891, 891, 891, 891, 891, 891, 891,\n",
      "        891, 891, 891, 891, 891, 891, 891, 891, 891, 891, 891, 891, 891, 891,\n",
      "        891, 891, 891, 891, 891, 891, 891, 891, 891, 891, 891, 891, 891, 891,\n",
      "        891, 891], dtype=torch.int32)\n",
      "tensor([865, 879, 866, 845, 863, 846, 862, 847, 878, 844, 890, 826, 825, 877,\n",
      "        861, 848, 827, 849, 828, 824, 823, 805, 822, 843, 860, 829, 806, 807,\n",
      "        804, 808, 496, 842, 821, 809, 850, 876, 830, 803, 802, 485, 781, 841,\n",
      "        782, 831, 820, 484, 783, 801, 810, 495, 400, 388, 498, 497, 537, 538,\n",
      "        539, 517, 518, 499, 519, 558, 557, 259, 520, 540, 559, 110, 421, 541,\n",
      "        111, 401, 112, 113, 260, 500, 560, 114, 433, 115, 116, 277, 501, 402,\n",
      "        118, 117, 476, 577, 542, 119, 120, 121, 502, 239, 122, 543, 544, 389,\n",
      "        503, 504], dtype=torch.int32)\n",
      "tensor([0.9956, 0.9957, 0.9955, 0.9957, 0.9955, 0.9956, 0.9957, 0.9957, 0.9957,\n",
      "        0.9957, 0.9957, 0.9956, 0.9956, 0.9956, 0.9958, 0.9955, 0.9956, 0.9957,\n",
      "        0.9957, 0.9957, 0.9955, 0.9957, 0.9957, 0.9955, 0.9955, 0.9956, 0.9956,\n",
      "        0.9956, 0.9958, 0.9958, 0.9957, 0.9956, 0.9958, 0.9956, 0.9958, 0.9956,\n",
      "        0.9953, 0.9958, 0.9957, 0.9956, 0.9957, 0.9955, 0.9955, 0.9957, 0.9958,\n",
      "        0.9955, 0.9956, 0.9957, 0.9957, 0.9956, 0.0043, 0.0044, 0.0043, 0.0042,\n",
      "        0.0044, 0.0045, 0.0045, 0.0045, 0.0045, 0.0045, 0.0044, 0.0044, 0.0043,\n",
      "        0.0045, 0.0043, 0.0044, 0.0046, 0.0045, 0.0045, 0.0044, 0.0045, 0.0045,\n",
      "        0.0044, 0.0044, 0.0045, 0.0044, 0.0044, 0.0045, 0.0046, 0.0044, 0.0043,\n",
      "        0.0042, 0.0045, 0.0042, 0.0042, 0.0044, 0.0043, 0.0045, 0.0043, 0.0043,\n",
      "        0.0041, 0.0042, 0.0044, 0.0045, 0.0042, 0.0042, 0.0042, 0.0043, 0.0042,\n",
      "        0.0043])\n",
      "tensor([1., 1., 1., 1., 1., 1., 1., 1., 1., 1., 1., 1., 1., 1., 1., 1., 1., 1.,\n",
      "        1., 1., 1., 1., 1., 1., 1., 1., 1., 1., 1., 1., 1., 1., 1., 1., 1., 1.,\n",
      "        1., 1., 1., 1., 1., 1., 1., 1., 1., 1., 1., 1., 1., 1., 0., 0., 0., 0.,\n",
      "        0., 0., 0., 0., 0., 0., 0., 0., 0., 0., 0., 0., 0., 0., 0., 0., 0., 0.,\n",
      "        0., 0., 0., 0., 0., 0., 0., 0., 0., 0., 0., 0., 0., 0., 0., 0., 0., 0.,\n",
      "        0., 0., 0., 0., 0., 0., 0., 0., 0., 0.])\n",
      "----\n",
      "tensor([744, 744, 744, 744, 744, 744, 744, 744, 744, 744, 744, 744, 744, 744,\n",
      "        744, 744, 744, 744, 744, 744, 744, 744, 744, 744, 744, 744, 744, 744,\n",
      "        744, 744, 744, 744, 744, 744, 744, 744, 744, 744, 744, 744, 744, 744,\n",
      "        744, 744, 744, 744, 744, 744, 744, 744, 744, 744, 744, 744, 744, 744,\n",
      "        744, 744, 744, 744, 744, 744, 744, 744, 744, 744, 744, 744, 744, 744,\n",
      "        744, 744, 744, 744, 744, 744, 744, 744, 744, 744, 744, 744, 744, 744,\n",
      "        744, 744, 744, 744, 744, 744, 744, 744, 744, 744, 744, 744, 744, 744,\n",
      "        744, 744], dtype=torch.int32)\n",
      "tensor([764, 720, 745, 705, 718, 743, 746, 781, 805, 742, 782, 741, 747, 706,\n",
      "        804, 707, 721, 806, 722, 723, 704, 765, 708, 724, 807, 661, 783, 808,\n",
      "        803, 725, 703, 802, 726, 825, 826, 702, 679, 680, 709, 701, 727, 824,\n",
      "        784, 766, 767, 823, 801, 822, 809, 681, 125, 883, 867, 884, 307, 110,\n",
      "        124, 111, 123, 345, 112, 122, 113, 116, 118, 115, 114, 117, 120, 121,\n",
      "        119, 885, 276, 137, 399, 374, 851, 558, 557, 344,  90, 275, 126, 127,\n",
      "        498, 497, 343, 559, 537, 538, 128, 136, 387, 373, 539, 375, 258, 134,\n",
      "        274, 273], dtype=torch.int32)\n",
      "tensor([9.9990e-01, 9.9990e-01, 9.9990e-01, 9.9990e-01, 9.9990e-01, 9.9990e-01,\n",
      "        9.9990e-01, 9.9990e-01, 9.9990e-01, 9.9990e-01, 9.9990e-01, 9.9990e-01,\n",
      "        9.9990e-01, 9.9990e-01, 9.9990e-01, 9.9990e-01, 9.9990e-01, 9.9990e-01,\n",
      "        9.9990e-01, 9.9990e-01, 9.9990e-01, 9.9990e-01, 9.9990e-01, 9.9990e-01,\n",
      "        9.9990e-01, 9.9990e-01, 9.9990e-01, 9.9990e-01, 9.9990e-01, 9.9990e-01,\n",
      "        9.9990e-01, 9.9990e-01, 9.9990e-01, 9.9990e-01, 9.9990e-01, 9.9990e-01,\n",
      "        9.9990e-01, 9.9990e-01, 9.9990e-01, 9.9990e-01, 9.9990e-01, 9.9990e-01,\n",
      "        9.9990e-01, 9.9990e-01, 9.9990e-01, 9.9990e-01, 9.9990e-01, 9.9990e-01,\n",
      "        9.9990e-01, 9.9990e-01, 1.0089e-04, 1.0061e-04, 1.0281e-04, 1.0373e-04,\n",
      "        9.8687e-05, 9.8141e-05, 9.9690e-05, 9.9998e-05, 1.0035e-04, 1.0090e-04,\n",
      "        1.0128e-04, 9.9237e-05, 1.0397e-04, 9.7211e-05, 1.0295e-04, 1.0313e-04,\n",
      "        9.7771e-05, 9.7828e-05, 9.7541e-05, 1.0265e-04, 9.8890e-05, 9.8279e-05,\n",
      "        9.9913e-05, 1.0235e-04, 9.8887e-05, 1.0281e-04, 9.9337e-05, 1.0003e-04,\n",
      "        9.8058e-05, 9.7362e-05, 1.0512e-04, 1.0375e-04, 9.9358e-05, 1.0403e-04,\n",
      "        1.0235e-04, 1.0062e-04, 1.0264e-04, 9.8958e-05, 1.0184e-04, 1.0026e-04,\n",
      "        1.0246e-04, 1.0483e-04, 9.8272e-05, 9.7709e-05, 1.0249e-04, 1.0447e-04,\n",
      "        1.0223e-04, 1.0302e-04, 1.0476e-04, 1.0456e-04])\n",
      "tensor([1., 1., 1., 1., 1., 1., 1., 1., 1., 1., 1., 1., 1., 1., 1., 1., 1., 1.,\n",
      "        1., 1., 1., 1., 1., 1., 1., 1., 1., 1., 1., 1., 1., 1., 1., 1., 1., 1.,\n",
      "        1., 1., 1., 1., 1., 1., 1., 1., 1., 1., 1., 1., 1., 1., 0., 0., 0., 0.,\n",
      "        0., 0., 0., 0., 0., 0., 0., 0., 0., 0., 0., 0., 0., 0., 0., 0., 0., 0.,\n",
      "        0., 0., 0., 0., 0., 0., 0., 0., 0., 0., 0., 0., 0., 0., 0., 0., 0., 0.,\n",
      "        0., 0., 0., 0., 0., 0., 0., 0., 0., 0.])\n",
      "----\n",
      "tensor([284, 284, 284, 284, 284, 284, 284, 284, 284, 284, 284, 284, 284, 284,\n",
      "        284, 284, 284, 284, 284, 284, 284, 284, 284, 284, 284, 284, 284, 284,\n",
      "        284, 284, 284, 284, 284, 284, 284, 284, 284, 284, 284, 284, 284, 284,\n",
      "        284, 284, 284, 284, 284, 284, 284, 284, 284, 284, 284, 284, 284, 284,\n",
      "        284, 284, 284, 284, 284, 284, 284, 284, 284, 284, 284, 284, 284, 284,\n",
      "        284, 284, 284, 284, 284, 284, 284, 284, 284, 284, 284, 284, 284, 284,\n",
      "        284, 284, 284, 284, 284, 284, 284, 284, 284, 284, 284, 284, 284, 284,\n",
      "        284, 284], dtype=torch.int32)\n",
      "tensor([300, 285, 283, 268, 301, 324, 248, 249, 302, 250, 247, 323, 298, 267,\n",
      "        235, 246, 234, 251, 233, 269, 325, 339, 338, 297, 266, 218, 232, 217,\n",
      "        358, 282, 252, 231, 286, 270, 265, 287, 245, 244, 359, 281, 340, 253,\n",
      "        216, 230, 254, 220, 219, 341, 288, 229,  92, 375, 881, 882, 867, 883,\n",
      "        884,  93, 885, 498, 497,   3,   2,   0,   1, 538, 537, 539, 851,   4,\n",
      "        558, 557, 517, 518, 376,  36,  37, 559,  94, 519, 499,  95, 577, 540,\n",
      "        520,  19,  20, 852, 868,   5, 541, 560,  53, 578,  21, 793, 377,  54,\n",
      "        386,  96], dtype=torch.int32)\n",
      "tensor([9.9952e-01, 9.9953e-01, 9.9954e-01, 9.9953e-01, 9.9953e-01, 9.9952e-01,\n",
      "        9.9953e-01, 9.9952e-01, 9.9952e-01, 9.9953e-01, 9.9953e-01, 9.9953e-01,\n",
      "        9.9953e-01, 9.9953e-01, 9.9953e-01, 9.9952e-01, 9.9953e-01, 9.9953e-01,\n",
      "        9.9953e-01, 9.9953e-01, 9.9953e-01, 9.9953e-01, 9.9953e-01, 9.9953e-01,\n",
      "        9.9953e-01, 9.9953e-01, 9.9953e-01, 9.9953e-01, 9.9953e-01, 9.9953e-01,\n",
      "        9.9953e-01, 9.9952e-01, 9.9953e-01, 9.9953e-01, 9.9953e-01, 9.9953e-01,\n",
      "        9.9952e-01, 9.9953e-01, 9.9953e-01, 9.9953e-01, 9.9953e-01, 9.9953e-01,\n",
      "        9.9953e-01, 9.9953e-01, 9.9953e-01, 9.9953e-01, 9.9952e-01, 9.9953e-01,\n",
      "        9.9953e-01, 9.9953e-01, 4.7271e-04, 4.6928e-04, 4.7311e-04, 4.7136e-04,\n",
      "        4.6489e-04, 4.6823e-04, 4.7584e-04, 4.7421e-04, 4.7635e-04, 4.7863e-04,\n",
      "        4.7010e-04, 4.6770e-04, 4.7360e-04, 4.6555e-04, 4.7079e-04, 4.7228e-04,\n",
      "        4.6409e-04, 4.7022e-04, 4.7333e-04, 4.7446e-04, 4.6998e-04, 4.6889e-04,\n",
      "        4.6862e-04, 4.7880e-04, 4.7076e-04, 4.7177e-04, 4.6796e-04, 4.7618e-04,\n",
      "        4.7155e-04, 4.6248e-04, 4.7949e-04, 4.7026e-04, 4.7415e-04, 4.7419e-04,\n",
      "        4.6616e-04, 4.6925e-04, 4.7917e-04, 4.6997e-04, 4.7057e-04, 4.6405e-04,\n",
      "        4.6621e-04, 4.7197e-04, 4.6785e-04, 4.6729e-04, 4.7261e-04, 4.7554e-04,\n",
      "        4.6750e-04, 4.7306e-04, 4.6995e-04, 4.7167e-04])\n",
      "tensor([1., 1., 1., 1., 1., 1., 1., 1., 1., 1., 1., 1., 1., 1., 1., 1., 1., 1.,\n",
      "        1., 1., 1., 1., 1., 1., 1., 1., 1., 1., 1., 1., 1., 1., 1., 1., 1., 1.,\n",
      "        1., 1., 1., 1., 1., 1., 1., 1., 1., 1., 1., 1., 1., 1., 0., 0., 0., 0.,\n",
      "        0., 0., 0., 0., 0., 0., 0., 0., 0., 0., 0., 0., 0., 0., 0., 0., 0., 0.,\n",
      "        0., 0., 0., 0., 0., 0., 0., 0., 0., 0., 0., 0., 0., 0., 0., 0., 0., 0.,\n",
      "        0., 0., 0., 0., 0., 0., 0., 0., 0., 0.])\n",
      "----\n",
      "tensor([847, 847, 847, 847, 847, 847, 847, 847, 847, 847, 847, 847, 847, 847,\n",
      "        847, 847, 847, 847, 847, 847, 847, 847, 847, 847, 847, 847, 847, 847,\n",
      "        847, 847, 847, 847, 847, 847, 847, 847, 847, 847, 847, 847, 847, 847,\n",
      "        847, 847, 847, 847, 847, 847, 847, 847, 847, 847, 847, 847, 847, 847,\n",
      "        847, 847, 847, 847, 847, 847, 847, 847, 847, 847, 847, 847, 847, 847,\n",
      "        847, 847, 847, 847, 847, 847, 847, 847, 847, 847, 847, 847, 847, 847,\n",
      "        847, 847, 847, 847, 847, 847, 847, 847, 847, 847, 847, 847, 847, 847,\n",
      "        847, 847], dtype=torch.int32)\n",
      "tensor([825, 809, 829, 806, 849, 880, 782, 864, 783, 781, 805, 784, 830, 785,\n",
      "        786, 810, 850, 891, 787, 804, 844, 831, 765, 863, 824, 862, 766, 767,\n",
      "        823, 764, 822, 788, 768, 879, 769, 763, 746, 770, 745, 747, 803, 861,\n",
      "        802, 821, 811, 832, 843, 485, 789, 484, 558, 557, 559, 499, 540, 520,\n",
      "        400, 541, 560, 577, 500, 421, 542, 501, 578, 433, 476, 110, 543, 544,\n",
      "        388, 561, 111, 502, 112, 545, 579, 504, 503, 580, 113, 259, 114, 115,\n",
      "        116, 582, 581, 401, 118, 117, 119, 120, 121, 126, 546, 127, 260, 122,\n",
      "        128, 123], dtype=torch.int32)\n",
      "tensor([0.9618, 0.9620, 0.9603, 0.9639, 0.9601, 0.9627, 0.9633, 0.9641, 0.9647,\n",
      "        0.9636, 0.9652, 0.9621, 0.9613, 0.9620, 0.9654, 0.9609, 0.9619, 0.9642,\n",
      "        0.9639, 0.9630, 0.9603, 0.9639, 0.9638, 0.9611, 0.9608, 0.9631, 0.9634,\n",
      "        0.9633, 0.9658, 0.9650, 0.9644, 0.9625, 0.9657, 0.9629, 0.9648, 0.9626,\n",
      "        0.9595, 0.9648, 0.9647, 0.9617, 0.9646, 0.9611, 0.9598, 0.9631, 0.9652,\n",
      "        0.9601, 0.9619, 0.9628, 0.9644, 0.9622, 0.0368, 0.0371, 0.0357, 0.0347,\n",
      "        0.0383, 0.0399, 0.0398, 0.0390, 0.0395, 0.0396, 0.0371, 0.0377, 0.0353,\n",
      "        0.0394, 0.0352, 0.0364, 0.0403, 0.0403, 0.0395, 0.0375, 0.0402, 0.0389,\n",
      "        0.0377, 0.0372, 0.0395, 0.0365, 0.0386, 0.0392, 0.0405, 0.0384, 0.0357,\n",
      "        0.0341, 0.0396, 0.0345, 0.0346, 0.0383, 0.0361, 0.0389, 0.0365, 0.0360,\n",
      "        0.0340, 0.0347, 0.0387, 0.0402, 0.0348, 0.0348, 0.0351, 0.0359, 0.0342,\n",
      "        0.0346])\n",
      "tensor([1., 1., 1., 1., 1., 1., 1., 1., 1., 1., 1., 1., 1., 1., 1., 1., 1., 1.,\n",
      "        1., 1., 1., 1., 1., 1., 1., 1., 1., 1., 1., 1., 1., 1., 1., 1., 1., 1.,\n",
      "        1., 1., 1., 1., 1., 1., 1., 1., 1., 1., 1., 1., 1., 1., 0., 0., 0., 0.,\n",
      "        0., 0., 0., 0., 0., 0., 0., 0., 0., 0., 0., 0., 0., 0., 0., 0., 0., 0.,\n",
      "        0., 0., 0., 0., 0., 0., 0., 0., 0., 0., 0., 0., 0., 0., 0., 0., 0., 0.,\n",
      "        0., 0., 0., 0., 0., 0., 0., 0., 0., 0.])\n",
      "----\n",
      "tensor([218, 218, 218, 218, 218, 218, 218, 218, 218, 218, 218, 218, 218, 218,\n",
      "        218, 218, 218, 218, 218, 218, 218, 218, 218, 218, 218, 218, 218, 218,\n",
      "        218, 218, 218, 218, 218, 218, 218, 218, 218, 218, 218, 218, 218, 218,\n",
      "        218, 218, 218, 218, 218, 218, 218, 218, 218, 218, 218, 218, 218, 218,\n",
      "        218, 218, 218, 218, 218, 218, 218, 218, 218, 218, 218, 218, 218, 218,\n",
      "        218, 218, 218, 218, 218, 218, 218, 218, 218, 218, 218, 218, 218, 218,\n",
      "        218, 218, 218, 218, 218, 218, 218, 218, 218, 218, 218, 218, 218, 218,\n",
      "        218, 218], dtype=torch.int32)\n",
      "tensor([217, 235, 234, 233, 216, 232, 231, 247, 248, 246, 249, 250, 230, 220,\n",
      "        219, 229, 268, 251, 228, 284, 245, 267, 244, 283, 266, 252, 285, 243,\n",
      "        299, 269, 300, 265, 242, 209, 210, 253, 301, 254, 236, 298, 270, 302,\n",
      "        324, 211, 212, 221, 282, 323, 297, 241, 881,  91,  92, 882, 375, 883,\n",
      "        884, 867, 885, 851, 868, 376,  93, 852, 889, 887, 888, 886,  94, 891,\n",
      "         95, 890, 869, 496,   2,   3,   1,   0, 498, 497, 537, 538, 539, 870,\n",
      "        558, 557, 377, 871,   4, 872, 559, 873, 793,  36,  37,  96,  97, 107,\n",
      "        108, 109], dtype=torch.int32)\n",
      "tensor([0.9948, 0.9948, 0.9947, 0.9949, 0.9947, 0.9948, 0.9948, 0.9949, 0.9950,\n",
      "        0.9949, 0.9950, 0.9948, 0.9947, 0.9948, 0.9950, 0.9947, 0.9948, 0.9949,\n",
      "        0.9949, 0.9948, 0.9947, 0.9949, 0.9949, 0.9947, 0.9947, 0.9948, 0.9948,\n",
      "        0.9949, 0.9950, 0.9950, 0.9949, 0.9948, 0.9950, 0.9948, 0.9950, 0.9948,\n",
      "        0.9945, 0.9950, 0.9949, 0.9947, 0.9949, 0.9947, 0.9947, 0.9948, 0.9950,\n",
      "        0.9946, 0.9948, 0.9948, 0.9949, 0.9948, 0.0051, 0.0052, 0.0051, 0.0050,\n",
      "        0.0053, 0.0053, 0.0054, 0.0053, 0.0053, 0.0054, 0.0052, 0.0052, 0.0051,\n",
      "        0.0053, 0.0051, 0.0052, 0.0054, 0.0054, 0.0053, 0.0053, 0.0054, 0.0053,\n",
      "        0.0052, 0.0052, 0.0053, 0.0052, 0.0053, 0.0053, 0.0054, 0.0052, 0.0052,\n",
      "        0.0050, 0.0053, 0.0050, 0.0050, 0.0053, 0.0051, 0.0053, 0.0052, 0.0051,\n",
      "        0.0050, 0.0050, 0.0052, 0.0053, 0.0050, 0.0050, 0.0050, 0.0051, 0.0050,\n",
      "        0.0050])\n",
      "tensor([1., 1., 1., 1., 1., 1., 1., 1., 1., 1., 1., 1., 1., 1., 1., 1., 1., 1.,\n",
      "        1., 1., 1., 1., 1., 1., 1., 1., 1., 1., 1., 1., 1., 1., 1., 1., 1., 1.,\n",
      "        1., 1., 1., 1., 1., 1., 1., 1., 1., 1., 1., 1., 1., 1., 0., 0., 0., 0.,\n",
      "        0., 0., 0., 0., 0., 0., 0., 0., 0., 0., 0., 0., 0., 0., 0., 0., 0., 0.,\n",
      "        0., 0., 0., 0., 0., 0., 0., 0., 0., 0., 0., 0., 0., 0., 0., 0., 0., 0.,\n",
      "        0., 0., 0., 0., 0., 0., 0., 0., 0., 0.])\n",
      "----\n"
     ]
    }
   ],
   "source": [
    "for cloud_indices, context_indices, labels in val_loader:\n",
    "    with torch.no_grad():\n",
    "        predictions = model(cloud_indices, context_indices, 0).squeeze()\n",
    "    break\n",
    "\n",
    "for i in range(len(labels)):\n",
    "    print(cloud_indices[i])\n",
    "    print(context_indices[i])\n",
    "    print(predictions[i])\n",
    "    print(labels[i])\n",
    "    print(\"----\")\n"
   ]
  },
  {
   "cell_type": "markdown",
   "metadata": {},
   "source": [
    "Funcion para obtener los embeddings más cercanos del embedding"
   ]
  },
  {
   "cell_type": "code",
   "execution_count": 113,
   "metadata": {},
   "outputs": [],
   "source": [
    "def print_closest_clouds(model, num_cloud, top_num):\n",
    "    cloud_emb = model.cloud_embeddings(torch.tensor(num_cloud, dtype=torch.long))\n",
    "    dists = torch.norm(model.cloud_embeddings.weight - cloud_emb, dim=1 ).detach()\n",
    "    #print(dists)\n",
    "    sorted_differences = sorted(enumerate(dists.numpy()), key=lambda x: x[1])\n",
    "    \n",
    "    index_differences = [idx for idx, difference in sorted_differences]\n",
    "    val_differences = [difference for idx, difference in sorted_differences]\n",
    "    print(\"Top Embbedings más cercanos de la nube \", num_cloud)\n",
    "    print(\"-\"*20)\n",
    "    i = 0\n",
    "    for idx, difference in zip(index_differences[0:top_num+1], val_differences[0:top_num+1]):\n",
    "         print(i,\"- Indice nube:\", idx, \"\\t Norma de la diferencia:\", difference, \n",
    "              \"\\t Medida de Similitud: \", Nubes_Similitud[num_cloud][idx])\n",
    "         i+=1\n",
    "\n",
    "    return index_differences, val_differences"
   ]
  },
  {
   "cell_type": "markdown",
   "metadata": {},
   "source": [
    "Funcion para obtener los embeddings más lejanos del embedding"
   ]
  },
  {
   "cell_type": "code",
   "execution_count": 93,
   "metadata": {},
   "outputs": [],
   "source": [
    "def print_farest_clouds(model, num_cloud, top_num):\n",
    "    cloud_emb = model.cloud_embeddings(torch.tensor(num_cloud, dtype=torch.long))\n",
    "    dists = torch.norm(model.cloud_embeddings.weight - cloud_emb, dim=1 ).detach()\n",
    "    #print(dists)\n",
    "    sorted_differences = sorted(enumerate(dists.numpy()), key=lambda x: x[1])\n",
    "    sorted_differences = sorted_differences[::-1]\n",
    "\n",
    "    index_differences = [idx for idx, difference in sorted_differences]\n",
    "    val_differences = [difference for idx, difference in sorted_differences]\n",
    "    #print(lst)\n",
    "    print(\"Top Embbedings más lejanos de la nube \", num_cloud)\n",
    "    print(\"-\"*20)\n",
    "    i = len(sorted_differences)-1\n",
    "    for idx, difference in zip(index_differences[0:top_num+1], val_differences[0:top_num+1]):\n",
    "        print(i,\"- Indice nube:\", idx, \"\\t Norma de la diferencia:\", difference, \n",
    "              \"\\t Medida de Similitud: \", Nubes_Similitud[num_cloud][idx])\n",
    "        i-=1\n",
    "\n",
    "    return index_differences, val_differences"
   ]
  },
  {
   "cell_type": "code",
   "execution_count": 114,
   "metadata": {},
   "outputs": [
    {
     "name": "stdout",
     "output_type": "stream",
     "text": [
      "Top Embbedings más cercanos de la nube  1\n",
      "--------------------\n",
      "0 - Indice nube: 1 \t Norma de la diferencia: 0.0 \t Medida de Similitud:  0.0\n",
      "1 - Indice nube: 383 \t Norma de la diferencia: 6.4249654 \t Medida de Similitud:  18.790227051779716\n",
      "2 - Indice nube: 342 \t Norma de la diferencia: 6.516118 \t Medida de Similitud:  19.909038614644913\n",
      "3 - Indice nube: 679 \t Norma de la diferencia: 6.7910013 \t Medida de Similitud:  7.530819910992444\n",
      "4 - Indice nube: 105 \t Norma de la diferencia: 6.7930727 \t Medida de Similitud:  3.332016093706167\n",
      "5 - Indice nube: 211 \t Norma de la diferencia: 6.8657827 \t Medida de Similitud:  19.10667758114756\n",
      "6 - Indice nube: 246 \t Norma de la diferencia: 6.8774467 \t Medida de Similitud:  16.237373571896093\n",
      "7 - Indice nube: 191 \t Norma de la diferencia: 6.937038 \t Medida de Similitud:  7.884431142669129\n",
      "8 - Indice nube: 220 \t Norma de la diferencia: 6.9479003 \t Medida de Similitud:  17.963393626599434\n",
      "9 - Indice nube: 532 \t Norma de la diferencia: 7.0565643 \t Medida de Similitud:  9.786913960658243\n",
      "10 - Indice nube: 818 \t Norma de la diferencia: 7.0567145 \t Medida de Similitud:  8.184556299214593\n"
     ]
    }
   ],
   "source": [
    "list_closest, norm_closest = print_closest_clouds(model, 1, 10)"
   ]
  },
  {
   "cell_type": "code",
   "execution_count": 95,
   "metadata": {},
   "outputs": [
    {
     "name": "stdout",
     "output_type": "stream",
     "text": [
      "Top Embbedings más lejanos de la nube  1\n",
      "--------------------\n",
      "891 - Indice nube: 339 \t Norma de la diferencia: 11.382153 \t Medida de Similitud:  18.422836715149295\n",
      "890 - Indice nube: 706 \t Norma de la diferencia: 11.039609 \t Medida de Similitud:  7.676925005100308\n",
      "889 - Indice nube: 489 \t Norma de la diferencia: 10.825568 \t Medida de Similitud:  7.321377254169993\n",
      "888 - Indice nube: 25 \t Norma de la diferencia: 10.820478 \t Medida de Similitud:  1.1593961150076217\n",
      "887 - Indice nube: 333 \t Norma de la diferencia: 10.805083 \t Medida de Similitud:  13.757920629716171\n",
      "886 - Indice nube: 281 \t Norma de la diferencia: 10.7989435 \t Medida de Similitud:  15.114117615201915\n",
      "885 - Indice nube: 133 \t Norma de la diferencia: 10.788841 \t Medida de Similitud:  6.95816799639378\n",
      "884 - Indice nube: 26 \t Norma de la diferencia: 10.762843 \t Medida de Similitud:  1.2498189546046339\n",
      "883 - Indice nube: 487 \t Norma de la diferencia: 10.7330065 \t Medida de Similitud:  8.561911492009084\n",
      "882 - Indice nube: 106 \t Norma de la diferencia: 10.67343 \t Medida de Similitud:  3.456887259142724\n",
      "881 - Indice nube: 23 \t Norma de la diferencia: 10.651908 \t Medida de Similitud:  0.5034542051307962\n"
     ]
    }
   ],
   "source": [
    "list_farest, norm_farest = print_farest_clouds(model, 1, 10)"
   ]
  },
  {
   "cell_type": "markdown",
   "metadata": {},
   "source": [
    "# 9. Visualización de las nubes de puntos cercanas"
   ]
  },
  {
   "cell_type": "code",
   "execution_count": 30,
   "metadata": {},
   "outputs": [],
   "source": [
    "import matplotlib.pyplot as plt\n",
    "import numpy as np\n",
    "\n",
    "def print_two_cloud_points(cloud_1, cloud_2):\n",
    "    num_nube = cloud_1\n",
    "    num_nube_next = cloud_2\n",
    "\n",
    "    #print(Nubes[num_nube])\n",
    "\n",
    "    # Dividir el arreglo de coordenadas en dos arreglos x e y\n",
    "    x1 = [cord[0]+Posiciones_robot[num_nube][0] for cord in Nubes[num_nube]]\n",
    "    y1 = [-cord[1]+Posiciones_robot[num_nube][1] for cord in Nubes[num_nube]]\n",
    "\n",
    "\n",
    "    #print(Posiciones_robot[num_nube][0] ,\" \", Posiciones_robot[num_nube][1])\n",
    "\n",
    "    x2 = [cord[0]+Posiciones_robot[num_nube_next][0] for cord in Nubes[num_nube_next]]\n",
    "    y2 = [-cord[1]+Posiciones_robot[num_nube_next][1] for cord in Nubes[num_nube_next]]\n",
    "\n",
    "\n",
    "    #print(Posiciones_robot[num_nube_next][0] ,\" \", Posiciones_robot[num_nube_next][1])\n",
    "\n",
    "    # Crear la figura y el eje para la gráfica\n",
    "    fig, ax = plt.subplots()\n",
    "\n",
    "    # Graficar los puntos\n",
    "    ax.scatter(y1, x1, color='red', marker='o', label='Conjunto 1')\n",
    "    ax.scatter(y2, x2, color='blue', marker='x',  label='Conjunto 2')\n",
    "    ax.scatter(Posiciones_robot[num_nube][1], Posiciones_robot[num_nube][0], color='orange', marker='o', label='Conjunto 1')\n",
    "    ax.scatter(Posiciones_robot[num_nube_next][1], Posiciones_robot[num_nube_next][0], color='green', marker='x',  label='Conjunto 2')\n",
    "\n",
    "\n",
    "    # Opcional: establecer títulos para los ejes y la gráfica\n",
    "    ax.set_title('Gráfica de Posiciones del Robot')\n",
    "    ax.set_xlabel('Eje X')\n",
    "    ax.set_ylabel('Eje Y')\n",
    "    ax.set_ylim(-5,5)\n",
    "    ax.set_xlim(-15,15)\n",
    "\n",
    "    fig.set_size_inches(3,3)\n",
    "    # Mostrar la gráfica\n",
    "    plt.show()"
   ]
  },
  {
   "cell_type": "markdown",
   "metadata": {},
   "source": [
    "## Visualización de puntos del top 5 de embeddings"
   ]
  },
  {
   "cell_type": "code",
   "execution_count": 96,
   "metadata": {},
   "outputs": [
    {
     "data": {
      "image/png": "[encoded data removed]",
      "text/plain": [
       "<Figure size 300x300 with 1 Axes>"
      ]
     },
     "metadata": {},
     "output_type": "display_data"
    }
   ],
   "source": [
    "print_two_cloud_points(1,list_closest[1])"
   ]
  },
  {
   "cell_type": "code",
   "execution_count": 97,
   "metadata": {},
   "outputs": [
    {
     "data": {
      "image/png": "[encoded data removed]",
      "text/plain": [
       "<Figure size 300x300 with 1 Axes>"
      ]
     },
     "metadata": {},
     "output_type": "display_data"
    }
   ],
   "source": [
    "print_two_cloud_points(1,list_closest[2])"
   ]
  },
  {
   "cell_type": "code",
   "execution_count": 98,
   "metadata": {},
   "outputs": [
    {
     "data": {
      "image/png": "[encoded data removed]",
      "text/plain": [
       "<Figure size 300x300 with 1 Axes>"
      ]
     },
     "metadata": {},
     "output_type": "display_data"
    }
   ],
   "source": [
    "print_two_cloud_points(1,list_closest[3])"
   ]
  },
  {
   "cell_type": "code",
   "execution_count": 99,
   "metadata": {},
   "outputs": [
    {
     "data": {
      "image/png": "[encoded data removed]",
      "text/plain": [
       "<Figure size 300x300 with 1 Axes>"
      ]
     },
     "metadata": {},
     "output_type": "display_data"
    }
   ],
   "source": [
    "print_two_cloud_points(1,list_closest[4])"
   ]
  },
  {
   "cell_type": "code",
   "execution_count": 100,
   "metadata": {},
   "outputs": [
    {
     "data": {
      "image/png": "[encoded data removed]",
      "text/plain": [
       "<Figure size 300x300 with 1 Axes>"
      ]
     },
     "metadata": {},
     "output_type": "display_data"
    }
   ],
   "source": [
    "print_two_cloud_points(1,list_closest[5])"
   ]
  },
  {
   "cell_type": "code",
   "execution_count": 101,
   "metadata": {},
   "outputs": [
    {
     "data": {
      "image/png": "[encoded data removed]",
      "text/plain": [
       "<Figure size 300x300 with 1 Axes>"
      ]
     },
     "metadata": {},
     "output_type": "display_data"
    }
   ],
   "source": [
    "print_two_cloud_points(1,list_closest[6])"
   ]
  },
  {
   "cell_type": "markdown",
   "metadata": {},
   "source": [
    "# 10. Reducción de dimensión por PCA"
   ]
  },
  {
   "cell_type": "code",
   "execution_count": 102,
   "metadata": {},
   "outputs": [],
   "source": [
    "from sklearn.decomposition import PCA\n",
    "import numpy as np\n",
    "\n",
    "np.random.seed(42) # Para reproducibilidad\n",
    "X =  model.cloud_embeddings(torch.tensor(range(num_clouds), dtype=torch.long)).detach().numpy()\n",
    "\n",
    "# Inicializar PCA para reducir a 2 dimensiones\n",
    "pca = PCA(n_components=2)\n",
    "\n",
    "# Ajustar y transformar los datos\n",
    "X_reduced = pca.fit_transform(X)"
   ]
  },
  {
   "cell_type": "code",
   "execution_count": 103,
   "metadata": {},
   "outputs": [
    {
     "name": "stdout",
     "output_type": "stream",
     "text": [
      "(892, 2)\n"
     ]
    }
   ],
   "source": [
    "print(X_reduced.shape)"
   ]
  },
  {
   "cell_type": "code",
   "execution_count": 104,
   "metadata": {},
   "outputs": [
    {
     "data": {
      "image/png": "[encoded data removed]",
      "text/plain": [
       "<Figure size 500x400 with 1 Axes>"
      ]
     },
     "metadata": {},
     "output_type": "display_data"
    }
   ],
   "source": [
    "import matplotlib.pyplot as plt\n",
    "\n",
    "# Suponer que tenemos un arreglo de nombres para cada punto\n",
    "names = np.array([\"Nube {}\".format(i) for i in range(10)])\n",
    "\n",
    "# Crear una gráfica de los puntos reducidos\n",
    "plt.figure(figsize=(5, 4))\n",
    "plt.scatter(X_reduced[:10, 0], X_reduced[:10, 1])\n",
    "plt.scatter(X_reduced[list_closest[1], 0], X_reduced[list_closest[1], 1], color='red')\n",
    "\n",
    "# Anotar cada punto con su nombre correspondiente\n",
    "for i, name in enumerate(names):\n",
    "    plt.annotate(name, (X_reduced[i, 0], X_reduced[i, 1]))\n",
    "    plt.annotate(\"El mas cercano\", (X_reduced[list_closest[1], 0], X_reduced[list_closest[1],1]))\n",
    "\n",
    "\n",
    "plt.xlabel('Componente Principal 1')\n",
    "plt.ylabel('Componente Principal 2')\n",
    "plt.title('Representación de Vectores Reducidos mediante PCA')\n",
    "plt.grid(True)\n",
    "plt.show()"
   ]
  },
  {
   "cell_type": "code",
   "execution_count": 105,
   "metadata": {},
   "outputs": [
    {
     "data": {
      "image/png": "[encoded data removed]",
      "text/plain": [
       "<Figure size 1000x800 with 1 Axes>"
      ]
     },
     "metadata": {},
     "output_type": "display_data"
    }
   ],
   "source": [
    "import matplotlib.pyplot as plt\n",
    "\n",
    "\n",
    "# Crear una gráfica de los puntos reducidos\n",
    "plt.figure(figsize=(10, 8))\n",
    "plt.scatter(X_reduced[:, 0], X_reduced[:, 1])\n",
    "\n",
    "# Anotar cada punto con su nombre correspondiente\n",
    "for i, name in enumerate(names):\n",
    "    plt.scatter(X_reduced[i, 0], X_reduced[i, 1], color=\"red\")\n",
    "    plt.annotate(name, (X_reduced[i, 0], X_reduced[i, 1]))\n",
    "\n",
    "plt.xlabel('Componente Principal 1')\n",
    "plt.ylabel('Componente Principal 2')\n",
    "plt.title('Representación de Vectores Reducidos mediante PCA')\n",
    "plt.grid(True)\n",
    "plt.show()"
   ]
  }
 ],
 "metadata": {
  "kernelspec": {
   "display_name": "Python 3",
   "language": "python",
   "name": "python3"
  },
  "language_info": {
   "codemirror_mode": {
    "name": "ipython",
    "version": 3
   },
   "file_extension": ".py",
   "mimetype": "text/x-python",
   "name": "python",
   "nbconvert_exporter": "python",
   "pygments_lexer": "ipython3",
   "version": "3.9.18"
  }
 },
 "nbformat": 4,
 "nbformat_minor": 2
}

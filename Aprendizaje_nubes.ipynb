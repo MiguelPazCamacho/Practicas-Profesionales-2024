{
 "cells": [
  {
   "cell_type": "code",
   "execution_count": 1,
   "metadata": {},
   "outputs": [],
   "source": [
    "import numpy as np\n",
    "import torch"
   ]
  },
  {
   "cell_type": "code",
   "execution_count": 2,
   "metadata": {},
   "outputs": [],
   "source": [
    "sample_per_carpet = 20"
   ]
  },
  {
   "cell_type": "markdown",
   "metadata": {},
   "source": [
    "# 1. Lectura de archivos"
   ]
  },
  {
   "cell_type": "markdown",
   "metadata": {},
   "source": [
    "## Funciones de Lectura de archivos"
   ]
  },
  {
   "cell_type": "code",
   "execution_count": 3,
   "metadata": {},
   "outputs": [],
   "source": [
    "def read_cloud_csv(file):\n",
    "    #Leer todo el archivo y saltamos el encabezado del archivo\n",
    "    data = np.loadtxt(file, delimiter=',', skiprows=1)\n",
    "\n",
    "    # Separar la primera línea de los datos que son las posiciones\n",
    "    first_row_data = data[0, :]     #Posiciones del robot\n",
    "    rest_data = data[1:, :]         #Nube de puntos\n",
    "\n",
    "    #first_row_data, rest_data[:5]  #Mostramos la posicion y las primeras 5 del resto para verificar\n",
    "\n",
    "    return first_row_data[::-1], rest_data"
   ]
  },
  {
   "cell_type": "code",
   "execution_count": 4,
   "metadata": {},
   "outputs": [],
   "source": [
    "import os\n",
    "\n",
    "def get_positions_and_cloud_points(sample_per_carpet):\n",
    "\n",
    "    Posiciones_robot = []\n",
    "    Nubes = []\n",
    "\n",
    "    # Define la dirección (ruta) en la que deseas buscar los directorios\n",
    "    ruta = 'Nubes'\n",
    "\n",
    "    Elementos_en_orden = []\n",
    "    for i in range(82):\n",
    "        caso1= \"mundo_\"+str(i)\n",
    "        Elementos_en_orden.append(caso1)\n",
    "        caso2= \"mundo_\"+str(i)+\"_1\"\n",
    "        Elementos_en_orden.append(caso2)\n",
    "\n",
    "    # Lista todos los archivos y directorios en la ruta especificada\n",
    "    todos_los_elementos = os.listdir(ruta)\n",
    "\n",
    "    # Filtra solo los directorios\n",
    "    solo_directorios = [elemento for elemento in todos_los_elementos if os.path.isdir(os.path.join(ruta, elemento))]\n",
    "\n",
    "    Directorios_nubes = []\n",
    "    for n in Elementos_en_orden:\n",
    "        if n in solo_directorios:\n",
    "            Directorios_nubes.append(n)\n",
    "\n",
    "\n",
    "    inicio = 0\n",
    "    for directorio in Directorios_nubes:\n",
    "\n",
    "        ruta_directorio = ruta+\"/\"+directorio\n",
    "\n",
    "        print(ruta_directorio, \"inicio:\", inicio)\n",
    "\n",
    "        #Lista todos los archivos y directorios en la ruta especificada\n",
    "        len_nombres_nubes = len(os.listdir(ruta_directorio))\n",
    "\n",
    "        nombres_nubes = []\n",
    "        for i in range(len_nombres_nubes):\n",
    "            nombres_nubes.append(\"intersection_points_\"+str(i)+\".csv\")\n",
    "            \n",
    "        #Tomamos una muestra por cada carpeta\n",
    "        rand_index = [i for i in np.random.randint(0, len_nombres_nubes, sample_per_carpet)]\n",
    "\n",
    "        nombres_nubes= [nombres_nubes[i] for i in np.sort(rand_index)]\n",
    "\n",
    "        for nube in nombres_nubes:\n",
    "\n",
    "            ruta_nubes = ruta_directorio +\"/\"+nube\n",
    "            #Obtenemos a: la posicion y b: la nube de puntos\n",
    "            a,b = read_cloud_csv(ruta_nubes)\n",
    "\n",
    "            #!!!Si hay un valor infinito en la nube de puntos no la incluimos en nuestro conjunto\n",
    "            if(np.any(np.isinf(b)) == False):\n",
    "                Posiciones_robot.append(a)\n",
    "                Nubes.append(b)\n",
    "                inicio +=1\n",
    "        \n",
    "\n",
    "    Posiciones_robot= np.array(Posiciones_robot)\n",
    "\n",
    "    return Posiciones_robot, Nubes"
   ]
  },
  {
   "cell_type": "markdown",
   "metadata": {},
   "source": [
    "## Lectura"
   ]
  },
  {
   "cell_type": "code",
   "execution_count": 5,
   "metadata": {},
   "outputs": [
    {
     "name": "stdout",
     "output_type": "stream",
     "text": [
      "Nubes/mundo_0 inicio: 0\n",
      "Nubes/mundo_1 inicio: 15\n",
      "Nubes/mundo_2 inicio: 32\n",
      "Nubes/mundo_2_1 inicio: 48\n",
      "Nubes/mundo_3 inicio: 48\n",
      "Nubes/mundo_3_1 inicio: 60\n",
      "Nubes/mundo_4 inicio: 60\n",
      "Nubes/mundo_4_1 inicio: 80\n",
      "Nubes/mundo_5 inicio: 80\n",
      "Nubes/mundo_5_1 inicio: 100\n",
      "Nubes/mundo_6 inicio: 100\n",
      "Nubes/mundo_7 inicio: 100\n",
      "Nubes/mundo_8 inicio: 100\n",
      "Nubes/mundo_9 inicio: 100\n",
      "Nubes/mundo_10 inicio: 100\n",
      "Nubes/mundo_11 inicio: 100\n",
      "Nubes/mundo_12 inicio: 100\n",
      "Nubes/mundo_13 inicio: 100\n",
      "Nubes/mundo_13_1 inicio: 116\n",
      "Nubes/mundo_14 inicio: 116\n",
      "Nubes/mundo_14_1 inicio: 128\n",
      "Nubes/mundo_15 inicio: 128\n",
      "Nubes/mundo_15_1 inicio: 146\n",
      "Nubes/mundo_16 inicio: 146\n",
      "Nubes/mundo_16_1 inicio: 159\n",
      "Nubes/mundo_17 inicio: 159\n",
      "Nubes/mundo_17_1 inicio: 173\n",
      "Nubes/mundo_18 inicio: 173\n",
      "Nubes/mundo_18_1 inicio: 184\n",
      "Nubes/mundo_19 inicio: 184\n",
      "Nubes/mundo_19_1 inicio: 193\n",
      "Nubes/mundo_20 inicio: 193\n",
      "Nubes/mundo_20_1 inicio: 202\n",
      "Nubes/mundo_21 inicio: 202\n",
      "Nubes/mundo_21_1 inicio: 206\n",
      "Nubes/mundo_22 inicio: 206\n",
      "Nubes/mundo_22_1 inicio: 212\n",
      "Nubes/mundo_23 inicio: 212\n",
      "Nubes/mundo_23_1 inicio: 215\n",
      "Nubes/mundo_24 inicio: 217\n",
      "Nubes/mundo_24_1 inicio: 219\n",
      "Nubes/mundo_25 inicio: 225\n",
      "Nubes/mundo_25_1 inicio: 226\n",
      "Nubes/mundo_26 inicio: 236\n",
      "Nubes/mundo_26_1 inicio: 236\n",
      "Nubes/mundo_27 inicio: 254\n",
      "Nubes/mundo_27_1 inicio: 254\n",
      "Nubes/mundo_28 inicio: 273\n",
      "Nubes/mundo_29 inicio: 283\n",
      "Nubes/mundo_30 inicio: 295\n",
      "Nubes/mundo_31 inicio: 314\n",
      "Nubes/mundo_32 inicio: 334\n",
      "Nubes/mundo_33 inicio: 348\n",
      "Nubes/mundo_34 inicio: 365\n",
      "Nubes/mundo_35 inicio: 377\n",
      "Nubes/mundo_36 inicio: 377\n",
      "Nubes/mundo_37 inicio: 377\n",
      "Nubes/mundo_38 inicio: 377\n",
      "Nubes/mundo_39 inicio: 377\n",
      "Nubes/mundo_40 inicio: 377\n",
      "Nubes/mundo_41 inicio: 377\n",
      "Nubes/mundo_42 inicio: 377\n",
      "Nubes/mundo_43 inicio: 377\n",
      "Nubes/mundo_44 inicio: 377\n",
      "Nubes/mundo_45 inicio: 377\n",
      "Nubes/mundo_46 inicio: 377\n",
      "Nubes/mundo_47 inicio: 377\n",
      "Nubes/mundo_48 inicio: 377\n",
      "Nubes/mundo_49 inicio: 377\n",
      "Nubes/mundo_50 inicio: 377\n",
      "Nubes/mundo_51 inicio: 377\n",
      "Nubes/mundo_52 inicio: 391\n",
      "Nubes/mundo_53 inicio: 404\n",
      "Nubes/mundo_54 inicio: 417\n",
      "Nubes/mundo_55 inicio: 433\n",
      "Nubes/mundo_56 inicio: 443\n",
      "Nubes/mundo_57 inicio: 457\n",
      "Nubes/mundo_58 inicio: 467\n",
      "Nubes/mundo_59 inicio: 478\n",
      "Nubes/mundo_60 inicio: 488\n",
      "Nubes/mundo_61 inicio: 495\n",
      "Nubes/mundo_62 inicio: 515\n",
      "Nubes/mundo_63 inicio: 535\n",
      "Nubes/mundo_64 inicio: 555\n",
      "Nubes/mundo_65 inicio: 575\n",
      "Nubes/mundo_66 inicio: 595\n",
      "Nubes/mundo_67 inicio: 615\n",
      "Nubes/mundo_68 inicio: 635\n",
      "Nubes/mundo_69 inicio: 655\n",
      "Nubes/mundo_70 inicio: 673\n",
      "Nubes/mundo_71 inicio: 693\n",
      "Nubes/mundo_72 inicio: 713\n",
      "Nubes/mundo_73 inicio: 733\n",
      "Nubes/mundo_74 inicio: 753\n",
      "Nubes/mundo_75 inicio: 773\n",
      "Nubes/mundo_76 inicio: 793\n",
      "Nubes/mundo_77 inicio: 812\n",
      "Nubes/mundo_78 inicio: 832\n",
      "Nubes/mundo_79 inicio: 851\n",
      "Nubes/mundo_80 inicio: 866\n",
      "Nubes/mundo_81 inicio: 880\n"
     ]
    }
   ],
   "source": [
    "np.random.seed(7) \n",
    "Posiciones_robot, Nubes = get_positions_and_cloud_points(sample_per_carpet)"
   ]
  },
  {
   "cell_type": "markdown",
   "metadata": {},
   "source": [
    "# 2. "
   ]
  },
  {
   "cell_type": "code",
   "execution_count": 6,
   "metadata": {},
   "outputs": [
    {
     "data": {
      "text/plain": [
       "897"
      ]
     },
     "execution_count": 6,
     "metadata": {},
     "output_type": "execute_result"
    }
   ],
   "source": [
    "len(Posiciones_robot)"
   ]
  },
  {
   "cell_type": "code",
   "execution_count": 7,
   "metadata": {},
   "outputs": [
    {
     "data": {
      "text/plain": [
       "640"
      ]
     },
     "execution_count": 7,
     "metadata": {},
     "output_type": "execute_result"
    }
   ],
   "source": [
    "len(Nubes[0])"
   ]
  },
  {
   "cell_type": "code",
   "execution_count": 8,
   "metadata": {},
   "outputs": [
    {
     "data": {
      "text/plain": [
       "897"
      ]
     },
     "execution_count": 8,
     "metadata": {},
     "output_type": "execute_result"
    }
   ],
   "source": [
    "len(Nubes)"
   ]
  },
  {
   "cell_type": "markdown",
   "metadata": {},
   "source": [
    "# 3. Medidas de Similitud"
   ]
  },
  {
   "cell_type": "code",
   "execution_count": 9,
   "metadata": {},
   "outputs": [],
   "source": [
    "def mean_squared_error(nube1, nube2):\n",
    "    return np.sum( (nube1[:,0] - nube2[:,0]) ** 2 + (nube1[:,1] - nube2[:,1]) ** 2) / len(nube1)"
   ]
  },
  {
   "cell_type": "markdown",
   "metadata": {},
   "source": [
    "# 4. Aplicando Similitud"
   ]
  },
  {
   "cell_type": "markdown",
   "metadata": {},
   "source": [
    "Ejemplo de similitud entre la nube 0 y la nube 1"
   ]
  },
  {
   "cell_type": "code",
   "execution_count": 10,
   "metadata": {},
   "outputs": [
    {
     "data": {
      "text/plain": [
       "9.86192223633719e-06"
      ]
     },
     "execution_count": 10,
     "metadata": {},
     "output_type": "execute_result"
    }
   ],
   "source": [
    "mean_squared_error(Nubes[0],Nubes[1])"
   ]
  },
  {
   "cell_type": "markdown",
   "metadata": {},
   "source": [
    "Calculo de Similitud para cada nube con el resto de nubes"
   ]
  },
  {
   "cell_type": "code",
   "execution_count": 50,
   "metadata": {},
   "outputs": [
    {
     "name": "stdout",
     "output_type": "stream",
     "text": [
      "0 / 897\n",
      "100 / 897\n",
      "200 / 897\n",
      "300 / 897\n",
      "400 / 897\n",
      "500 / 897\n",
      "600 / 897\n",
      "700 / 897\n",
      "800 / 897\n",
      "33.35636017768231\n"
     ]
    }
   ],
   "source": [
    "Nubes_Similitud = np.zeros((len(Nubes),len(Nubes)))\n",
    "\n",
    "max_value = 0\n",
    "\n",
    "for i in range(len(Nubes)):\n",
    "    if(i%100 == 0):\n",
    "            print(i,\"/\",len(Nubes_Similitud))\n",
    "    for j in range(len(Nubes)):\n",
    "        Nubes_Similitud[i][j] = mean_squared_error(Nubes[i], Nubes[j])\n",
    "        \n",
    "    max_value = max(np.max(Nubes_Similitud[i]), max_value)\n",
    "\n",
    "print(max_value)"
   ]
  },
  {
   "cell_type": "markdown",
   "metadata": {},
   "source": [
    "Función para obtener el top x de nubes de puntos y sus valores de similitud"
   ]
  },
  {
   "cell_type": "code",
   "execution_count": 12,
   "metadata": {},
   "outputs": [],
   "source": [
    "def print_similitud_de_nube(num_cloud, num_top):\n",
    "\n",
    "    sort_index = np.argsort(Nubes_Similitud[num_cloud])\n",
    "    sort_values = np.sort(Nubes_Similitud[num_cloud])\n",
    "\n",
    "    print(\"Top \", num_top, \" de las nubes de mayor similitud de la nube \", num_cloud)\n",
    "    print(\"-\"*25)\n",
    "    for i in range(num_top+1):\n",
    "        print(i,\"- Indice nube: \",sort_index[i], \"\\t Valor de Similitud: \",sort_values[i])\n",
    "    \n",
    "    #Devolvemos los indices y valores ordenados de mayor similitud a menor similitud\n",
    "    #return sort_index, sort_values"
   ]
  },
  {
   "cell_type": "markdown",
   "metadata": {},
   "source": [
    "Ejemplo para la nube 1 de las nubes con mayor similitud y sus valores de similitud"
   ]
  },
  {
   "cell_type": "code",
   "execution_count": 13,
   "metadata": {},
   "outputs": [
    {
     "name": "stdout",
     "output_type": "stream",
     "text": [
      "Top  100  de las nubes de mayor similitud de la nube  1\n",
      "-------------------------\n",
      "0 - Indice nube:  1 \t Valor de Similitud:  0.0\n",
      "1 - Indice nube:  0 \t Valor de Similitud:  9.86192223633719e-06\n",
      "2 - Indice nube:  16 \t Valor de Similitud:  0.12727643158592847\n",
      "3 - Indice nube:  15 \t Valor de Similitud:  0.12727643158592847\n",
      "4 - Indice nube:  2 \t Valor de Similitud:  0.1408564931206815\n",
      "5 - Indice nube:  3 \t Valor de Similitud:  0.17692311291157434\n",
      "6 - Indice nube:  17 \t Valor de Similitud:  0.3514740355132689\n",
      "7 - Indice nube:  32 \t Valor de Similitud:  0.38776413002005966\n",
      "8 - Indice nube:  33 \t Valor de Similitud:  0.38776413002005966\n",
      "9 - Indice nube:  34 \t Valor de Similitud:  0.5451357440598285\n",
      "10 - Indice nube:  35 \t Valor de Similitud:  0.5451357440598285\n",
      "11 - Indice nube:  4 \t Valor de Similitud:  0.5503689051377562\n",
      "12 - Indice nube:  36 \t Valor de Similitud:  0.6309025516556812\n",
      "13 - Indice nube:  18 \t Valor de Similitud:  0.7377745676967291\n",
      "14 - Indice nube:  37 \t Valor de Similitud:  0.7972799950536062\n",
      "15 - Indice nube:  19 \t Valor de Similitud:  0.8307156359669327\n",
      "16 - Indice nube:  38 \t Valor de Similitud:  0.8661218549357687\n",
      "17 - Indice nube:  5 \t Valor de Similitud:  0.882305036418851\n",
      "18 - Indice nube:  39 \t Valor de Similitud:  0.9168353222476752\n",
      "19 - Indice nube:  20 \t Valor de Similitud:  0.9916928309656339\n",
      "20 - Indice nube:  48 \t Valor de Similitud:  1.188303112482926\n",
      "21 - Indice nube:  6 \t Valor de Similitud:  1.2074819317566483\n",
      "22 - Indice nube:  7 \t Valor de Similitud:  1.242888850220489\n",
      "23 - Indice nube:  49 \t Valor de Similitud:  1.2520673301404208\n",
      "24 - Indice nube:  50 \t Valor de Similitud:  1.2520673301404208\n",
      "25 - Indice nube:  84 \t Valor de Similitud:  1.3287040921532332\n",
      "26 - Indice nube:  83 \t Valor de Similitud:  1.3341220596320909\n",
      "27 - Indice nube:  81 \t Valor de Similitud:  1.335261280806645\n",
      "28 - Indice nube:  82 \t Valor de Similitud:  1.3394025246874142\n",
      "29 - Indice nube:  22 \t Valor de Similitud:  1.345832882064323\n",
      "30 - Indice nube:  21 \t Valor de Similitud:  1.345832882064323\n",
      "31 - Indice nube:  80 \t Valor de Similitud:  1.3476922798251898\n",
      "32 - Indice nube:  8 \t Valor de Similitud:  1.3504253185385282\n",
      "33 - Indice nube:  85 \t Valor de Similitud:  1.3683795323322108\n",
      "34 - Indice nube:  60 \t Valor de Similitud:  1.409548417298829\n",
      "35 - Indice nube:  9 \t Valor de Similitud:  1.426650050467591\n",
      "36 - Indice nube:  61 \t Valor de Similitud:  1.4368466190946163\n",
      "37 - Indice nube:  51 \t Valor de Similitud:  1.463483868792002\n",
      "38 - Indice nube:  62 \t Valor de Similitud:  1.50235000574916\n",
      "39 - Indice nube:  63 \t Valor de Similitud:  1.5530987705537835\n",
      "40 - Indice nube:  40 \t Valor de Similitud:  1.5582162800858774\n",
      "41 - Indice nube:  52 \t Valor de Similitud:  1.5618306479557327\n",
      "42 - Indice nube:  53 \t Valor de Similitud:  1.5618306479557327\n",
      "43 - Indice nube:  64 \t Valor de Similitud:  1.5680079545519567\n",
      "44 - Indice nube:  54 \t Valor de Similitud:  1.5827745159811768\n",
      "45 - Indice nube:  86 \t Valor de Similitud:  1.668335889356308\n",
      "46 - Indice nube:  41 \t Valor de Similitud:  1.7317626800112933\n",
      "47 - Indice nube:  23 \t Valor de Similitud:  1.7428443774163156\n",
      "48 - Indice nube:  65 \t Valor de Similitud:  1.757124358228656\n",
      "49 - Indice nube:  87 \t Valor de Similitud:  1.7818231869000383\n",
      "50 - Indice nube:  24 \t Valor de Similitud:  1.7933079708492088\n",
      "51 - Indice nube:  66 \t Valor de Similitud:  1.795633077557131\n",
      "52 - Indice nube:  25 \t Valor de Similitud:  1.8172275631414365\n",
      "53 - Indice nube:  88 \t Valor de Similitud:  1.8401632582656204\n",
      "54 - Indice nube:  56 \t Valor de Similitud:  1.8417835421437982\n",
      "55 - Indice nube:  55 \t Valor de Similitud:  1.8417835421437982\n",
      "56 - Indice nube:  10 \t Valor de Similitud:  1.8638433643451138\n",
      "57 - Indice nube:  42 \t Valor de Similitud:  1.9238722026006052\n",
      "58 - Indice nube:  67 \t Valor de Similitud:  1.926897158590028\n",
      "59 - Indice nube:  11 \t Valor de Similitud:  1.9551318516350578\n",
      "60 - Indice nube:  89 \t Valor de Similitud:  2.0084146305717314\n",
      "61 - Indice nube:  68 \t Valor de Similitud:  2.036612745266978\n",
      "62 - Indice nube:  90 \t Valor de Similitud:  2.051711222918983\n",
      "63 - Indice nube:  69 \t Valor de Similitud:  2.0851835589570933\n",
      "64 - Indice nube:  26 \t Valor de Similitud:  2.2040592630388396\n",
      "65 - Indice nube:  91 \t Valor de Similitud:  2.2510952777985422\n",
      "66 - Indice nube:  70 \t Valor de Similitud:  2.2771586268317\n",
      "67 - Indice nube:  27 \t Valor de Similitud:  2.31418924429681\n",
      "68 - Indice nube:  12 \t Valor de Similitud:  2.321967221765622\n",
      "69 - Indice nube:  71 \t Valor de Similitud:  2.3785924952738275\n",
      "70 - Indice nube:  72 \t Valor de Similitud:  2.3997237289181292\n",
      "71 - Indice nube:  73 \t Valor de Similitud:  2.4587813200363855\n",
      "72 - Indice nube:  74 \t Valor de Similitud:  2.4747495519936797\n",
      "73 - Indice nube:  28 \t Valor de Similitud:  2.5071303764269457\n",
      "74 - Indice nube:  29 \t Valor de Similitud:  2.540175938836253\n",
      "75 - Indice nube:  43 \t Valor de Similitud:  2.563040286598941\n",
      "76 - Indice nube:  13 \t Valor de Similitud:  2.574094830520887\n",
      "77 - Indice nube:  57 \t Valor de Similitud:  2.5909493016154572\n",
      "78 - Indice nube:  75 \t Valor de Similitud:  2.59870925518171\n",
      "79 - Indice nube:  76 \t Valor de Similitud:  2.8297676219482604\n",
      "80 - Indice nube:  44 \t Valor de Similitud:  2.8487239267295896\n",
      "81 - Indice nube:  77 \t Valor de Similitud:  2.9616600294961186\n",
      "82 - Indice nube:  78 \t Valor de Similitud:  3.0160173667656287\n",
      "83 - Indice nube:  79 \t Valor de Similitud:  3.0160173667656287\n",
      "84 - Indice nube:  92 \t Valor de Similitud:  3.1315073035485756\n",
      "85 - Indice nube:  30 \t Valor de Similitud:  3.25963163225097\n",
      "86 - Indice nube:  58 \t Valor de Similitud:  3.346428972116884\n",
      "87 - Indice nube:  14 \t Valor de Similitud:  3.4928946842146855\n",
      "88 - Indice nube:  93 \t Valor de Similitud:  3.50776330908822\n",
      "89 - Indice nube:  94 \t Valor de Similitud:  3.6295230524368236\n",
      "90 - Indice nube:  31 \t Valor de Similitud:  3.6588350158925236\n",
      "91 - Indice nube:  45 \t Valor de Similitud:  3.700167861345655\n",
      "92 - Indice nube:  46 \t Valor de Similitud:  3.700167861345655\n",
      "93 - Indice nube:  99 \t Valor de Similitud:  3.771707322952249\n",
      "94 - Indice nube:  98 \t Valor de Similitud:  3.771749048362311\n",
      "95 - Indice nube:  97 \t Valor de Similitud:  3.7722500109450037\n",
      "96 - Indice nube:  96 \t Valor de Similitud:  3.7723541715446283\n",
      "97 - Indice nube:  95 \t Valor de Similitud:  3.7732227962526395\n",
      "98 - Indice nube:  47 \t Valor de Similitud:  3.90648204223355\n",
      "99 - Indice nube:  59 \t Valor de Similitud:  4.056203864070589\n",
      "100 - Indice nube:  451 \t Valor de Similitud:  5.200863002016146\n"
     ]
    }
   ],
   "source": [
    "print_similitud_de_nube(1, 100)"
   ]
  },
  {
   "cell_type": "markdown",
   "metadata": {},
   "source": [
    "# 5. Construcción de los buenos ejemplos y malos ejemplos"
   ]
  },
  {
   "cell_type": "code",
   "execution_count": 14,
   "metadata": {},
   "outputs": [],
   "source": [
    "def get_good_and_bad_samples(Nubes_Similitud, k, l):\n",
    "\n",
    "    Good_Samples = []\n",
    "    Bad_Samples = []\n",
    "\n",
    "    for i in range(len(Nubes_Similitud)):\n",
    "        if(i%100 == 0):\n",
    "            print(i,\"/\",len(Nubes_Similitud))\n",
    "            \n",
    "        #Valores ordenados de menor a mayor\n",
    "        sort_index = np.argsort(Nubes_Similitud[i])\n",
    "        #sort_values = np.sort(Nubes_Similitud[i])\n",
    "\n",
    "        #print([[i,j] for i,j in zip(np.ones(k, dtype=int)*i,sort_index[:k])])\n",
    "\n",
    "        for ll in range(l):\n",
    "            #[i,gs]\n",
    "            Good_Samples.append([i,sort_index[ll]])\n",
    "            #[[i,bs_0],...,[i,bs_k]]\n",
    "            Bad_Samples.append([[i,j] for i,j in zip(np.ones(k, dtype=int)*i,(sort_index[::-1])[ll:ll+k])])\n",
    "\n",
    "    return Good_Samples, Bad_Samples\n"
   ]
  },
  {
   "cell_type": "markdown",
   "metadata": {},
   "source": [
    "Valor L para especificar el tamaño de contexto, es decir, el número de buenos ejemplos que tomaremos de sus L nubes más similares"
   ]
  },
  {
   "cell_type": "code",
   "execution_count": 15,
   "metadata": {},
   "outputs": [],
   "source": [
    "L = 100 #50,75,100"
   ]
  },
  {
   "cell_type": "markdown",
   "metadata": {},
   "source": [
    "Valor K para seleccionar K malos ejemplos para cada buen ejemplo"
   ]
  },
  {
   "cell_type": "code",
   "execution_count": 16,
   "metadata": {},
   "outputs": [],
   "source": [
    "K = 5 #2,3,4,5"
   ]
  },
  {
   "cell_type": "code",
   "execution_count": 17,
   "metadata": {},
   "outputs": [
    {
     "name": "stdout",
     "output_type": "stream",
     "text": [
      "0 / 897\n",
      "100"
     ]
    },
    {
     "name": "stdout",
     "output_type": "stream",
     "text": [
      " / 897\n",
      "200 / 897\n",
      "300 / 897\n",
      "400 / 897\n",
      "500 / 897\n",
      "600 / 897\n",
      "700 / 897\n",
      "800 / 897\n"
     ]
    }
   ],
   "source": [
    "Good_Samples, Bad_Samples = get_good_and_bad_samples(Nubes_Similitud, K, L)"
   ]
  },
  {
   "cell_type": "markdown",
   "metadata": {},
   "source": [
    "Vista de los Buenos ejemplos y los Malos ejemplos"
   ]
  },
  {
   "cell_type": "code",
   "execution_count": 18,
   "metadata": {},
   "outputs": [],
   "source": [
    "def print_Good_Samples_Bad_Samples(cloud_idx, L , K, Good_Samples, Bad_Samples):\n",
    "    print(\"Buenos ejemplos + \\t\\t Malos ejemplos -\")\n",
    "    print(\"w c_pos           \\t\\t w c_neg\")\n",
    "    print(\"-------------\"*K)\n",
    "    for i in range(L):\n",
    "        print(Good_Samples[cloud_idx*L+i],\" \\t\\t\",Bad_Samples[cloud_idx*L+i])\n"
   ]
  },
  {
   "cell_type": "code",
   "execution_count": 19,
   "metadata": {},
   "outputs": [
    {
     "name": "stdout",
     "output_type": "stream",
     "text": [
      "Buenos ejemplos + \t\t Malos ejemplos -\n",
      "w c_pos           \t\t w c_neg\n",
      "-----------------------------------------------------------------\n",
      "[1, 1]  \t\t [[1, 347], [1, 294], [1, 364], [1, 333], [1, 313]]\n",
      "[1, 0]  \t\t [[1, 294], [1, 364], [1, 333], [1, 313], [1, 282]]\n",
      "[1, 16]  \t\t [[1, 364], [1, 333], [1, 313], [1, 282], [1, 312]]\n",
      "[1, 15]  \t\t [[1, 333], [1, 313], [1, 282], [1, 312], [1, 293]]\n",
      "[1, 2]  \t\t [[1, 313], [1, 282], [1, 312], [1, 293], [1, 363]]\n",
      "[1, 3]  \t\t [[1, 282], [1, 312], [1, 293], [1, 363], [1, 376]]\n",
      "[1, 17]  \t\t [[1, 312], [1, 293], [1, 363], [1, 376], [1, 272]]\n",
      "[1, 32]  \t\t [[1, 293], [1, 363], [1, 376], [1, 272], [1, 362]]\n",
      "[1, 33]  \t\t [[1, 363], [1, 376], [1, 272], [1, 362], [1, 270]]\n",
      "[1, 34]  \t\t [[1, 376], [1, 272], [1, 362], [1, 270], [1, 271]]\n",
      "[1, 35]  \t\t [[1, 272], [1, 362], [1, 270], [1, 271], [1, 346]]\n",
      "[1, 4]  \t\t [[1, 362], [1, 270], [1, 271], [1, 346], [1, 235]]\n",
      "[1, 36]  \t\t [[1, 270], [1, 271], [1, 346], [1, 235], [1, 375]]\n",
      "[1, 18]  \t\t [[1, 271], [1, 346], [1, 235], [1, 375], [1, 281]]\n",
      "[1, 37]  \t\t [[1, 346], [1, 235], [1, 375], [1, 281], [1, 345]]\n",
      "[1, 19]  \t\t [[1, 235], [1, 375], [1, 281], [1, 345], [1, 374]]\n",
      "[1, 38]  \t\t [[1, 375], [1, 281], [1, 345], [1, 374], [1, 344]]\n",
      "[1, 5]  \t\t [[1, 281], [1, 345], [1, 374], [1, 344], [1, 224]]\n",
      "[1, 39]  \t\t [[1, 345], [1, 374], [1, 344], [1, 224], [1, 253]]\n",
      "[1, 20]  \t\t [[1, 374], [1, 344], [1, 224], [1, 253], [1, 292]]\n",
      "[1, 48]  \t\t [[1, 344], [1, 224], [1, 253], [1, 292], [1, 280]]\n",
      "[1, 6]  \t\t [[1, 224], [1, 253], [1, 292], [1, 280], [1, 311]]\n",
      "[1, 7]  \t\t [[1, 253], [1, 292], [1, 280], [1, 311], [1, 310]]\n",
      "[1, 49]  \t\t [[1, 292], [1, 280], [1, 311], [1, 310], [1, 343]]\n",
      "[1, 50]  \t\t [[1, 280], [1, 311], [1, 310], [1, 343], [1, 291]]\n",
      "[1, 84]  \t\t [[1, 311], [1, 310], [1, 343], [1, 291], [1, 308]]\n",
      "[1, 83]  \t\t [[1, 310], [1, 343], [1, 291], [1, 308], [1, 309]]\n",
      "[1, 81]  \t\t [[1, 343], [1, 291], [1, 308], [1, 309], [1, 234]]\n",
      "[1, 82]  \t\t [[1, 291], [1, 308], [1, 309], [1, 234], [1, 269]]\n",
      "[1, 22]  \t\t [[1, 308], [1, 309], [1, 234], [1, 269], [1, 252]]\n",
      "[1, 21]  \t\t [[1, 309], [1, 234], [1, 269], [1, 252], [1, 268]]\n",
      "[1, 80]  \t\t [[1, 234], [1, 269], [1, 252], [1, 268], [1, 267]]\n",
      "[1, 8]  \t\t [[1, 269], [1, 252], [1, 268], [1, 267], [1, 233]]\n",
      "[1, 85]  \t\t [[1, 252], [1, 268], [1, 267], [1, 233], [1, 251]]\n",
      "[1, 60]  \t\t [[1, 268], [1, 267], [1, 233], [1, 251], [1, 332]]\n",
      "[1, 9]  \t\t [[1, 267], [1, 233], [1, 251], [1, 332], [1, 216]]\n",
      "[1, 61]  \t\t [[1, 233], [1, 251], [1, 332], [1, 216], [1, 290]]\n",
      "[1, 51]  \t\t [[1, 251], [1, 332], [1, 216], [1, 290], [1, 223]]\n",
      "[1, 62]  \t\t [[1, 332], [1, 216], [1, 290], [1, 223], [1, 222]]\n",
      "[1, 63]  \t\t [[1, 216], [1, 290], [1, 223], [1, 222], [1, 215]]\n",
      "[1, 40]  \t\t [[1, 290], [1, 223], [1, 222], [1, 215], [1, 342]]\n",
      "[1, 52]  \t\t [[1, 223], [1, 222], [1, 215], [1, 342], [1, 250]]\n",
      "[1, 53]  \t\t [[1, 222], [1, 215], [1, 342], [1, 250], [1, 361]]\n",
      "[1, 64]  \t\t [[1, 215], [1, 342], [1, 250], [1, 361], [1, 373]]\n",
      "[1, 54]  \t\t [[1, 342], [1, 250], [1, 361], [1, 373], [1, 341]]\n",
      "[1, 86]  \t\t [[1, 250], [1, 361], [1, 373], [1, 341], [1, 266]]\n",
      "[1, 41]  \t\t [[1, 361], [1, 373], [1, 341], [1, 266], [1, 265]]\n",
      "[1, 23]  \t\t [[1, 373], [1, 341], [1, 266], [1, 265], [1, 264]]\n",
      "[1, 65]  \t\t [[1, 341], [1, 266], [1, 265], [1, 264], [1, 372]]\n",
      "[1, 87]  \t\t [[1, 266], [1, 265], [1, 264], [1, 372], [1, 221]]\n",
      "[1, 24]  \t\t [[1, 265], [1, 264], [1, 372], [1, 221], [1, 263]]\n",
      "[1, 66]  \t\t [[1, 264], [1, 372], [1, 221], [1, 263], [1, 331]]\n",
      "[1, 25]  \t\t [[1, 372], [1, 221], [1, 263], [1, 331], [1, 220]]\n",
      "[1, 88]  \t\t [[1, 221], [1, 263], [1, 331], [1, 220], [1, 279]]\n",
      "[1, 56]  \t\t [[1, 263], [1, 331], [1, 220], [1, 279], [1, 360]]\n",
      "[1, 55]  \t\t [[1, 331], [1, 220], [1, 279], [1, 360], [1, 330]]\n",
      "[1, 10]  \t\t [[1, 220], [1, 279], [1, 360], [1, 330], [1, 232]]\n",
      "[1, 42]  \t\t [[1, 279], [1, 360], [1, 330], [1, 232], [1, 359]]\n",
      "[1, 67]  \t\t [[1, 360], [1, 330], [1, 232], [1, 359], [1, 249]]\n",
      "[1, 11]  \t\t [[1, 330], [1, 232], [1, 359], [1, 249], [1, 278]]\n",
      "[1, 89]  \t\t [[1, 232], [1, 359], [1, 249], [1, 278], [1, 219]]\n",
      "[1, 68]  \t\t [[1, 359], [1, 249], [1, 278], [1, 219], [1, 371]]\n",
      "[1, 90]  \t\t [[1, 249], [1, 278], [1, 219], [1, 371], [1, 262]]\n",
      "[1, 69]  \t\t [[1, 278], [1, 219], [1, 371], [1, 262], [1, 231]]\n",
      "[1, 26]  \t\t [[1, 219], [1, 371], [1, 262], [1, 231], [1, 329]]\n",
      "[1, 91]  \t\t [[1, 371], [1, 262], [1, 231], [1, 329], [1, 248]]\n",
      "[1, 70]  \t\t [[1, 262], [1, 231], [1, 329], [1, 248], [1, 277]]\n",
      "[1, 27]  \t\t [[1, 231], [1, 329], [1, 248], [1, 277], [1, 358]]\n",
      "[1, 12]  \t\t [[1, 329], [1, 248], [1, 277], [1, 358], [1, 340]]\n",
      "[1, 71]  \t\t [[1, 248], [1, 277], [1, 358], [1, 340], [1, 261]]\n",
      "[1, 72]  \t\t [[1, 277], [1, 358], [1, 340], [1, 261], [1, 370]]\n",
      "[1, 73]  \t\t [[1, 358], [1, 340], [1, 261], [1, 370], [1, 307]]\n",
      "[1, 74]  \t\t [[1, 340], [1, 261], [1, 370], [1, 307], [1, 247]]\n",
      "[1, 28]  \t\t [[1, 261], [1, 370], [1, 307], [1, 247], [1, 289]]\n",
      "[1, 29]  \t\t [[1, 370], [1, 307], [1, 247], [1, 289], [1, 260]]\n",
      "[1, 43]  \t\t [[1, 307], [1, 247], [1, 289], [1, 260], [1, 259]]\n",
      "[1, 13]  \t\t [[1, 247], [1, 289], [1, 260], [1, 259], [1, 230]]\n",
      "[1, 57]  \t\t [[1, 289], [1, 260], [1, 259], [1, 230], [1, 246]]\n",
      "[1, 75]  \t\t [[1, 260], [1, 259], [1, 230], [1, 246], [1, 258]]\n",
      "[1, 76]  \t\t [[1, 259], [1, 230], [1, 246], [1, 258], [1, 288]]\n",
      "[1, 44]  \t\t [[1, 230], [1, 246], [1, 258], [1, 288], [1, 369]]\n",
      "[1, 77]  \t\t [[1, 246], [1, 258], [1, 288], [1, 369], [1, 229]]\n",
      "[1, 78]  \t\t [[1, 258], [1, 288], [1, 369], [1, 229], [1, 276]]\n",
      "[1, 79]  \t\t [[1, 288], [1, 369], [1, 229], [1, 276], [1, 275]]\n",
      "[1, 92]  \t\t [[1, 369], [1, 229], [1, 276], [1, 275], [1, 228]]\n",
      "[1, 30]  \t\t [[1, 229], [1, 276], [1, 275], [1, 228], [1, 356]]\n",
      "[1, 58]  \t\t [[1, 276], [1, 275], [1, 228], [1, 356], [1, 354]]\n",
      "[1, 14]  \t\t [[1, 275], [1, 228], [1, 356], [1, 354], [1, 357]]\n",
      "[1, 93]  \t\t [[1, 228], [1, 356], [1, 354], [1, 357], [1, 306]]\n",
      "[1, 94]  \t\t [[1, 356], [1, 354], [1, 357], [1, 306], [1, 355]]\n",
      "[1, 31]  \t\t [[1, 354], [1, 357], [1, 306], [1, 355], [1, 368]]\n",
      "[1, 45]  \t\t [[1, 357], [1, 306], [1, 355], [1, 368], [1, 245]]\n",
      "[1, 46]  \t\t [[1, 306], [1, 355], [1, 368], [1, 245], [1, 305]]\n",
      "[1, 99]  \t\t [[1, 355], [1, 368], [1, 245], [1, 305], [1, 244]]\n",
      "[1, 98]  \t\t [[1, 368], [1, 245], [1, 305], [1, 244], [1, 353]]\n",
      "[1, 97]  \t\t [[1, 245], [1, 305], [1, 244], [1, 353], [1, 257]]\n",
      "[1, 96]  \t\t [[1, 305], [1, 244], [1, 353], [1, 257], [1, 227]]\n",
      "[1, 95]  \t\t [[1, 244], [1, 353], [1, 257], [1, 227], [1, 256]]\n",
      "[1, 47]  \t\t [[1, 353], [1, 257], [1, 227], [1, 256], [1, 352]]\n",
      "[1, 59]  \t\t [[1, 257], [1, 227], [1, 256], [1, 352], [1, 351]]\n"
     ]
    }
   ],
   "source": [
    "print_Good_Samples_Bad_Samples(1, L , K, Good_Samples, Bad_Samples)"
   ]
  },
  {
   "cell_type": "markdown",
   "metadata": {},
   "source": [
    "# 6. Construcción del Conjunto de Entrenamiento y de Validación"
   ]
  },
  {
   "cell_type": "markdown",
   "metadata": {},
   "source": [
    "Tomamos un 80% de conjunto de entrenamiento y 20% de conjunto de validación"
   ]
  },
  {
   "cell_type": "code",
   "execution_count": 20,
   "metadata": {},
   "outputs": [
    {
     "name": "stdout",
     "output_type": "stream",
     "text": [
      "GS_Train size: 71760\n",
      "GS_Val   size: 17940\n",
      "BS_Train size: 71760\n",
      "BS_Val   size: 17940\n"
     ]
    }
   ],
   "source": [
    "from sklearn.model_selection import train_test_split\n",
    "\n",
    "Good_Samples_train,Good_Samples_val,Bad_Samples_train,Bad_Samples_val = train_test_split(Good_Samples, Bad_Samples, test_size=0.2)\n",
    "\n",
    "print(\"GS_Train size:\", len(Good_Samples_train))\n",
    "print(\"GS_Val   size:\", len(Good_Samples_val))\n",
    "print(\"BS_Train size:\", len(Bad_Samples_train))\n",
    "print(\"BS_Val   size:\", len(Bad_Samples_val))"
   ]
  },
  {
   "cell_type": "code",
   "execution_count": 21,
   "metadata": {},
   "outputs": [],
   "source": [
    "from torch.utils.data import DataLoader, TensorDataset\n",
    "\n",
    "batch_size = 1\n",
    "num_workers = 2\n",
    "\n",
    "#Entrenamiento\n",
    "train_dataset = TensorDataset(torch.tensor([ [pos_pairs[0]]+ [p[0] for p in neg_pairs] for pos_pairs, neg_pairs in zip(Good_Samples_train, Bad_Samples_train) ],dtype=torch.int), #Cloud\n",
    "                              torch.tensor([ [pos_pairs[1]]+ [p[1] for p in neg_pairs] for pos_pairs, neg_pairs in zip(Good_Samples_train, Bad_Samples_train) ],dtype=torch.int), #Context\n",
    "                              torch.tensor([[1] + [0]*(len(neg_pairs)) for pos_pairs, neg_pairs in zip(Good_Samples_train, Bad_Samples_train)] , dtype=torch.float ))\n",
    "\n",
    "train_loader = DataLoader(train_dataset,\n",
    "                          batch_size=batch_size,\n",
    "                          num_workers=num_workers,\n",
    "                          shuffle=True)\n",
    "\n",
    "#Validacion\n",
    "val_dataset = TensorDataset(torch.tensor([ [pos_pairs[0]]+ [p[0] for p in neg_pairs] for pos_pairs, neg_pairs in zip(Good_Samples_val, Bad_Samples_val) ],dtype=torch.int), #Cloud\n",
    "                              torch.tensor([ [pos_pairs[1]]+ [p[1] for p in neg_pairs] for pos_pairs, neg_pairs in zip(Good_Samples_val, Bad_Samples_val) ],dtype=torch.int), #Context\n",
    "                              torch.tensor([[1] + [0]*(len(neg_pairs)) for pos_pairs, neg_pairs in zip(Good_Samples_val, Bad_Samples_val)] , dtype=torch.float ))\n",
    "\n",
    "val_loader = DataLoader(val_dataset,\n",
    "                          batch_size=batch_size,\n",
    "                          num_workers=num_workers,\n",
    "                          shuffle=False)\n"
   ]
  },
  {
   "cell_type": "markdown",
   "metadata": {},
   "source": [
    "Tamaño de batch: [batch_size x K]"
   ]
  },
  {
   "cell_type": "code",
   "execution_count": 22,
   "metadata": {},
   "outputs": [
    {
     "name": "stdout",
     "output_type": "stream",
     "text": [
      "GS shape: torch.Size([1, 6])\n",
      "BS shape: torch.Size([1, 6])\n",
      "Label shape: torch.Size([1, 6])\n"
     ]
    }
   ],
   "source": [
    "batch = next(iter(train_loader))\n",
    "print(f'GS shape: {batch[0].shape}')\n",
    "print(f'BS shape: {batch[1].shape}')\n",
    "print(f'Label shape: {batch[2].shape}')"
   ]
  },
  {
   "cell_type": "markdown",
   "metadata": {},
   "source": [
    "# 7. Definición del modelo "
   ]
  },
  {
   "cell_type": "code",
   "execution_count": 23,
   "metadata": {},
   "outputs": [],
   "source": [
    "import torch\n",
    "import torch.nn as nn\n",
    "import torch.optim as optim\n",
    "from sklearn.metrics import accuracy_score\n",
    "\n",
    "class SGNSModel(nn.Module):\n",
    "    def __init__(self, num_clouds, embedding_dim, K):\n",
    "        super(SGNSModel, self).__init__()\n",
    "        # Embedding para las nubes\n",
    "        self.cloud_embeddings = nn.Embedding(num_clouds, embedding_dim)\n",
    "        # Embedding para los contextos \n",
    "        self.context_embeddings = nn.Embedding(num_clouds, embedding_dim)\n",
    "        # Capa de regresión logística\n",
    "        self.logistic_regression = nn.Linear(embedding_dim, 1+K)\n",
    "        # Función de activación sigmoide\n",
    "        self.activation = nn.Sigmoid()\n",
    "        \n",
    "    def forward(self, cloud_indices, context_indices, labels, want_print = 0):\n",
    "        # Obtener embeddings\n",
    "        cloud_embeds = self.cloud_embeddings(cloud_indices)\n",
    "        context_embeds = self.context_embeddings(context_indices)\n",
    "        #context_embeds = self.cloud_embeddings(context_indices)\n",
    "\n",
    "        # Producto punto entre la nube y el contexto\n",
    "        dot_product = (cloud_embeds * context_embeds).sum(dim=2)\n",
    "\n",
    "        if(want_print):\n",
    "            print(\"W: \",cloud_embeds)\n",
    "            print(\"C:\", context_embeds)\n",
    "            print(\"dot: \", dot_product)\n",
    "\n",
    "        #print(cloud_embeds.shape)\n",
    "        #print(context_embeds.shape)\n",
    "        #print(dot_product.shape)\n",
    "\n",
    "        # Pasar el producto punto a través de la regresión logística y luego a través de la sigmoide\n",
    "        predictions = self.activation(dot_product.unsqueeze(1))\n",
    "        \n",
    "        return predictions\n",
    "    \n"
   ]
  },
  {
   "cell_type": "markdown",
   "metadata": {},
   "source": [
    "Función para evaluar conjunto de validación"
   ]
  },
  {
   "cell_type": "code",
   "execution_count": 24,
   "metadata": {},
   "outputs": [],
   "source": [
    "def model_eval(data, model, criterion):\n",
    "    with torch.no_grad():\n",
    "        preds, tgts = [], []\n",
    "        epoch_loss = []\n",
    "        for cloud_indices, context_indices, labels in data:\n",
    "\n",
    "            #Obtener predicción\n",
    "            predictions = model(cloud_indices, context_indices, labels)\n",
    "            #predictions = predictions.numpy()\n",
    "\n",
    "            tgt = labels.numpy()\n",
    "            tgts.append(tgt)\n",
    "            preds.append(predictions.squeeze(1))\n",
    "\n",
    "            #print(predictions.squeeze().numpy())\n",
    "            loss = criterion(predictions.squeeze(1), labels)\n",
    "            #print(predictions.squeeze(), labels)\n",
    "            epoch_loss.append(loss.item())\n",
    "            \n",
    "\n",
    "    tgts = [e for l in tgts for e in l]\n",
    "    preds = [e for l in preds for e in l]\n",
    "\n",
    "    return np.mean(epoch_loss)"
   ]
  },
  {
   "cell_type": "code",
   "execution_count": 25,
   "metadata": {},
   "outputs": [],
   "source": [
    "import shutil \n",
    "\n",
    "def save_checkpoint(state, is_best, checkpoint_path, filename=\"checkpoint.pt\"):\n",
    "    filename = os.path.join(checkpoint_path, filename)\n",
    "    torch.save(state, filename)\n",
    "    if is_best:\n",
    "        shutil.copyfile(filename, os.path.join(checkpoint_path, \"model_best.pt\"))\n",
    "        print(\"Saved-Model\")"
   ]
  },
  {
   "cell_type": "markdown",
   "metadata": {},
   "source": [
    "Función para entrenar el modelo"
   ]
  },
  {
   "cell_type": "code",
   "execution_count": 26,
   "metadata": {},
   "outputs": [],
   "source": [
    "def train_model(model, train_loader, val_loader, epochs=10, learning_rate=0.001):\n",
    "\n",
    "    best_metric = 10000\n",
    "    \n",
    "    optimizer = optim.Adam(model.parameters(), lr=learning_rate)\n",
    "    criterion = nn.BCELoss()\n",
    "    #optimizer = torch.optim.SGD(model.parameters(), lr=learning_rate)\n",
    "    #criterion = nn.CrossEntropyLoss()\n",
    "    \n",
    "    for epoch in range(epochs):\n",
    "        model.train()\n",
    "        total_loss = 0\n",
    "        loss_epoch = []\n",
    "\n",
    "        for cloud_indices, context_indices, labels in train_loader:\n",
    "            \n",
    "            # Forward pass\n",
    "            predictions = model(cloud_indices, context_indices, labels)\n",
    "            #print((predictions.squeeze(1)).shape)\n",
    "            #print(labels.shape)\n",
    "            loss = criterion(predictions.squeeze(1), labels)\n",
    "            total_loss += loss.item()\n",
    "            loss_epoch.append(loss.item())\n",
    "            \n",
    "            # Backward and optimize\n",
    "            optimizer.zero_grad()\n",
    "            loss.backward()\n",
    "            optimizer.step()\n",
    "    \n",
    "\n",
    "        \n",
    "        #Metricas del conjunto de validación\n",
    "        model.eval()\n",
    "        tuning_metric = model_eval(val_loader, model, criterion)\n",
    "        total_loss = np.mean(loss_epoch)\n",
    "\n",
    "        is_improvement = tuning_metric < best_metric\n",
    "\n",
    "        save_checkpoint(\n",
    "            {\n",
    "                \"epoch\": epoch,\n",
    "                \"state_dict\": model.state_dict(),\n",
    "                \"optimizer\": optimizer.state_dict(),\n",
    "            },\n",
    "            is_improvement,\n",
    "            \"model\",\n",
    "        )\n",
    "\n",
    "        print(f'Epoch {epoch}, Loss: {total_loss}, Val loss: {tuning_metric}')"
   ]
  },
  {
   "cell_type": "markdown",
   "metadata": {},
   "source": [
    "# 8. Entrenamiento"
   ]
  },
  {
   "cell_type": "code",
   "execution_count": 27,
   "metadata": {},
   "outputs": [
    {
     "name": "stdout",
     "output_type": "stream",
     "text": [
      "Saved-Model\n",
      "Epoch 0, Loss: 3.2606280575691526, Val loss: 2.9425274807663313\n",
      "Saved-Model\n",
      "Epoch 1, Loss: 2.649608971583663, Val loss: 2.4457945683695836\n",
      "Saved-Model\n",
      "Epoch 2, Loss: 2.1551614156706997, Val loss: 1.9955452306217207\n",
      "Saved-Model\n",
      "Epoch 3, Loss: 1.705980207193879, Val loss: 1.5923092738697593\n",
      "Saved-Model\n",
      "Epoch 4, Loss: 1.2865069389557062, Val loss: 1.1963816074444\n",
      "Saved-Model\n",
      "Epoch 5, Loss: 0.9002672077362491, Val loss: 0.8342506733425546\n",
      "Saved-Model\n",
      "Epoch 6, Loss: 0.5909936665556196, Val loss: 0.5640151410289752\n",
      "Saved-Model\n",
      "Epoch 7, Loss: 0.3826783444672093, Val loss: 0.3841160294117928\n",
      "Saved-Model\n",
      "Epoch 8, Loss: 0.252860042155868, Val loss: 0.2709571643535233\n",
      "Saved-Model\n",
      "Epoch 9, Loss: 0.17039409694470167, Val loss: 0.19510404645685175\n",
      "Saved-Model\n",
      "Epoch 10, Loss: 0.11539758877988068, Val loss: 0.1416162798114369\n",
      "Saved-Model\n",
      "Epoch 11, Loss: 0.07801409960406573, Val loss: 0.10270959440150756\n",
      "Saved-Model\n",
      "Epoch 12, Loss: 0.05247468950939617, Val loss: 0.07428703348301653\n",
      "Saved-Model\n",
      "Epoch 13, Loss: 0.03516646332985374, Val loss: 0.052783466407669795\n",
      "Saved-Model\n",
      "Epoch 14, Loss: 0.023106953981635193, Val loss: 0.037742955094869\n",
      "Saved-Model\n",
      "Epoch 15, Loss: 0.015288064383415591, Val loss: 0.026917510389835208\n",
      "Saved-Model\n",
      "Epoch 16, Loss: 0.010119771351382553, Val loss: 0.019244500707645263\n",
      "Saved-Model\n",
      "Epoch 17, Loss: 0.0067254846240171655, Val loss: 0.013806502651865029\n",
      "Saved-Model\n",
      "Epoch 18, Loss: 0.004481159789478107, Val loss: 0.00991962285476573\n",
      "Saved-Model\n",
      "Epoch 19, Loss: 0.0029814020612265887, Val loss: 0.00713519531141527\n",
      "Saved-Model\n",
      "Epoch 20, Loss: 0.002001119645504433, Val loss: 0.005117903362889317\n",
      "Saved-Model\n",
      "Epoch 21, Loss: 0.001351434541468465, Val loss: 0.0036816912723297924\n",
      "Saved-Model\n",
      "Epoch 22, Loss: 0.0009357944459036067, Val loss: 0.0026345238343101337\n",
      "Saved-Model\n",
      "Epoch 23, Loss: 0.0006663738260062611, Val loss: 0.001886755271877729\n",
      "Saved-Model\n",
      "Epoch 24, Loss: 0.0004584709904052155, Val loss: 0.00134528915081276\n",
      "Saved-Model\n",
      "Epoch 25, Loss: 0.0003254643391787962, Val loss: 0.0009624523693640115\n",
      "Saved-Model\n",
      "Epoch 26, Loss: 0.00023394203322384517, Val loss: 0.0006910258308896861\n",
      "Saved-Model\n",
      "Epoch 27, Loss: 0.00017409320089753776, Val loss: 0.0005121330399249462\n",
      "Saved-Model\n",
      "Epoch 28, Loss: 0.00013300082992704276, Val loss: 0.0003891254223404197\n",
      "Saved-Model\n",
      "Epoch 29, Loss: 9.813057570156168e-05, Val loss: 0.00030122738574737756\n",
      "Saved-Model\n",
      "Epoch 30, Loss: 7.51362701281398e-05, Val loss: 0.0002410442035189666\n",
      "Saved-Model\n",
      "Epoch 31, Loss: 5.749864668741347e-05, Val loss: 0.00019670359051367504\n",
      "Saved-Model\n",
      "Epoch 32, Loss: 4.3774735985368845e-05, Val loss: 0.0001616112955147789\n",
      "Saved-Model\n",
      "Epoch 33, Loss: 3.171007909800217e-05, Val loss: 0.0001355104854110292\n",
      "Saved-Model\n",
      "Epoch 34, Loss: 2.3688112754572336e-05, Val loss: 0.00011515743671900545\n",
      "Saved-Model\n",
      "Epoch 35, Loss: 1.629995181939476e-05, Val loss: 9.798509034558615e-05\n",
      "Saved-Model\n",
      "Epoch 36, Loss: 1.1547139097254185e-05, Val loss: 8.425100374627357e-05\n",
      "Saved-Model\n",
      "Epoch 37, Loss: 8.067669344286756e-06, Val loss: 7.278854290274824e-05\n",
      "Saved-Model\n",
      "Epoch 38, Loss: 5.241259800874801e-06, Val loss: 6.355503718171129e-05\n",
      "Saved-Model\n",
      "Epoch 39, Loss: 3.7614727896527606e-06, Val loss: 5.6172084430354625e-05\n",
      "Saved-Model\n",
      "Epoch 40, Loss: 2.743513117482212e-06, Val loss: 4.957407712321359e-05\n",
      "Saved-Model\n",
      "Epoch 41, Loss: 1.7847003960446158e-06, Val loss: 4.481499890981783e-05\n",
      "Saved-Model\n",
      "Epoch 42, Loss: 1.2356636778453763e-06, Val loss: 4.014937760485273e-05\n",
      "Saved-Model\n",
      "Epoch 43, Loss: 8.495519467640926e-07, Val loss: 3.587349934381685e-05\n",
      "Saved-Model\n",
      "Epoch 44, Loss: 5.338267136280672e-07, Val loss: 3.193872063258182e-05\n",
      "Saved-Model\n",
      "Epoch 45, Loss: 3.777041733011422e-07, Val loss: 2.9147866489391113e-05\n",
      "Saved-Model\n",
      "Epoch 46, Loss: 2.667939491197998e-07, Val loss: 2.6533735785683905e-05\n",
      "Saved-Model\n",
      "Epoch 47, Loss: 1.752705364867577e-07, Val loss: 2.4436301166560333e-05\n",
      "Saved-Model\n",
      "Epoch 48, Loss: 1.2537334979911962e-07, Val loss: 2.2558070996032664e-05\n",
      "Saved-Model\n",
      "Epoch 49, Loss: 8.64377060777717e-08, Val loss: 2.1063093281232448e-05\n"
     ]
    }
   ],
   "source": [
    "num_clouds = len(Nubes)\n",
    "embedding_dim = 50\n",
    "\n",
    "# Inicializar modelo\n",
    "model = SGNSModel(num_clouds, embedding_dim, K)\n",
    "\n",
    "#print(model.word_embeddings(torch.tensor(0, dtype=torch.long)))\n",
    "want_a_new_model = False\n",
    "\n",
    "if want_a_new_model:\n",
    "    # Entrenar el modelo\n",
    "    train_model(model, train_loader, val_loader, epochs=50, learning_rate=0.0001)\n",
    "else:\n",
    "    model.load_state_dict(torch.load('model/model_best.pt')['state_dict'])\n",
    "#print(model.word_embeddings(torch.tensor(0, dtype=torch.long)))"
   ]
  },
  {
   "cell_type": "code",
   "execution_count": 28,
   "metadata": {},
   "outputs": [
    {
     "name": "stdout",
     "output_type": "stream",
     "text": [
      "tensor([282, 282, 282, 282, 282, 282], dtype=torch.int32)\n",
      "tensor([266, 713, 579, 377, 562, 335], dtype=torch.int32)\n",
      "tensor(1.)\n",
      "tensor([1., 0., 0., 0., 0., 0.])\n",
      "----\n"
     ]
    }
   ],
   "source": [
    "for cloud_indices, context_indices, labels in val_loader:\n",
    "    with torch.no_grad():\n",
    "        predictions = model(cloud_indices, context_indices, 0).squeeze()\n",
    "    break\n",
    "\n",
    "for i in range(len(labels)):\n",
    "    print(cloud_indices[i])\n",
    "    print(context_indices[i])\n",
    "    print(predictions[i])\n",
    "    print(labels[i])\n",
    "    print(\"----\")\n"
   ]
  },
  {
   "cell_type": "markdown",
   "metadata": {},
   "source": [
    "Funcion para obtener los embeddings más cercanos del embedding"
   ]
  },
  {
   "cell_type": "code",
   "execution_count": 29,
   "metadata": {},
   "outputs": [],
   "source": [
    "def print_closest_clouds(model, num_cloud, top_num):\n",
    "    cloud_emb = model.cloud_embeddings.weight[num_cloud] \n",
    "    dists = torch.norm(model.cloud_embeddings.weight - cloud_emb, dim=1 ).detach()\n",
    "    #print(dists)\n",
    "    sorted_differences = sorted(enumerate(dists.numpy()), key=lambda x: x[1])\n",
    "    index_differences = [idx for idx, difference in sorted_differences]\n",
    "    val_differences = [difference for idx, difference in sorted_differences]\n",
    "    print(\"Top Embbedings más cercanos de la nube \", num_cloud)\n",
    "    print(\"-\"*20)\n",
    "    i = 0\n",
    "    for idx, difference in zip(index_differences[0:top_num+1], val_differences[0:top_num+1]):\n",
    "         print(i,\"- Indice nube:\", idx, \"\\t Norma de la diferencia:\", difference, \n",
    "              \"\\t Medida de Similitud: \", Nubes_Similitud[num_cloud][idx])\n",
    "         i+=1\n",
    "\n",
    "    return index_differences, val_differences"
   ]
  },
  {
   "cell_type": "markdown",
   "metadata": {},
   "source": [
    "Funcion para obtener los embeddings más lejanos del embedding"
   ]
  },
  {
   "cell_type": "code",
   "execution_count": 30,
   "metadata": {},
   "outputs": [],
   "source": [
    "def print_farest_clouds(model, num_cloud, top_num):\n",
    "    cloud_emb = model.cloud_embeddings.weight[num_cloud]\n",
    "    dists = torch.norm(model.cloud_embeddings.weight - cloud_emb, dim=1 ).detach()\n",
    "    #print(dists)\n",
    "    sorted_differences = sorted(enumerate(dists.numpy()), key=lambda x: x[1])\n",
    "    sorted_differences = sorted_differences[::-1]\n",
    "\n",
    "    index_differences = [idx for idx, difference in sorted_differences]\n",
    "    val_differences = [difference for idx, difference in sorted_differences]\n",
    "    #print(lst)\n",
    "    print(\"Top Embbedings más lejanos de la nube \", num_cloud)\n",
    "    print(\"-\"*20)\n",
    "    i = len(sorted_differences)-1\n",
    "    for idx, difference in zip(index_differences[0:top_num+1], val_differences[0:top_num+1]):\n",
    "        print(i,\"- Indice nube:\", idx, \"\\t Norma de la diferencia:\", difference, \n",
    "              \"\\t Medida de Similitud: \", Nubes_Similitud[num_cloud][idx])\n",
    "        i-=1\n",
    "\n",
    "    return index_differences, val_differences"
   ]
  },
  {
   "cell_type": "code",
   "execution_count": 31,
   "metadata": {},
   "outputs": [
    {
     "name": "stdout",
     "output_type": "stream",
     "text": [
      "Top Embbedings más cercanos de la nube  1\n",
      "--------------------\n",
      "0 - Indice nube: 1 \t Norma de la diferencia: 0.0 \t Medida de Similitud:  0.0\n",
      "1 - Indice nube: 93 \t Norma de la diferencia: 5.583282 \t Medida de Similitud:  3.50776330908822\n",
      "2 - Indice nube: 51 \t Norma de la diferencia: 6.0476775 \t Medida de Similitud:  1.463483868792002\n",
      "3 - Indice nube: 9 \t Norma de la diferencia: 6.0790577 \t Medida de Similitud:  1.426650050467591\n",
      "4 - Indice nube: 90 \t Norma de la diferencia: 6.37088 \t Medida de Similitud:  2.051711222918983\n",
      "5 - Indice nube: 80 \t Norma de la diferencia: 6.4430037 \t Medida de Similitud:  1.3476922798251898\n",
      "6 - Indice nube: 6 \t Norma de la diferencia: 6.5205994 \t Medida de Similitud:  1.2074819317566483\n",
      "7 - Indice nube: 53 \t Norma de la diferencia: 6.5758643 \t Medida de Similitud:  1.5618306479557327\n",
      "8 - Indice nube: 72 \t Norma de la diferencia: 6.6259108 \t Medida de Similitud:  2.3997237289181292\n",
      "9 - Indice nube: 40 \t Norma de la diferencia: 6.66543 \t Medida de Similitud:  1.5582162800858774\n",
      "10 - Indice nube: 39 \t Norma de la diferencia: 6.7082157 \t Medida de Similitud:  0.9168353222476752\n"
     ]
    }
   ],
   "source": [
    "list_closest, norm_closest = print_closest_clouds(model, 1, 10)"
   ]
  },
  {
   "cell_type": "code",
   "execution_count": 32,
   "metadata": {},
   "outputs": [
    {
     "name": "stdout",
     "output_type": "stream",
     "text": [
      "tensor([[1, 1, 1, 1, 1, 1]], dtype=torch.int32)\n",
      "tensor([[179,   0,   2,   3,   4,   5]], dtype=torch.int32)\n",
      "tensor([0.9938, 1.0000, 1.0000, 1.0000, 1.0000, 1.0000])\n",
      "True\n"
     ]
    }
   ],
   "source": [
    "with torch.no_grad():\n",
    "    torch_cloud = torch.tensor([[1 , 1, 1, 1, 1, 1]], dtype=torch.int)\n",
    "    torch_context = torch.tensor([[179 , 0, 2, 3, 4, 5]], dtype=torch.int)\n",
    "    predictions = model(torch_cloud, torch_context, 0, 0).squeeze()\n",
    "\n",
    "    print(torch_cloud)\n",
    "    print(torch_context)\n",
    "    print(predictions)\n",
    "    print([1,5] in Good_Samples)\n",
    "    #print(labels[i])\n"
   ]
  },
  {
   "cell_type": "code",
   "execution_count": 33,
   "metadata": {},
   "outputs": [
    {
     "name": "stdout",
     "output_type": "stream",
     "text": [
      "Top Embbedings más lejanos de la nube  1\n",
      "--------------------\n",
      "896 - Indice nube: 292 \t Norma de la diferencia: 13.965113 \t Medida de Similitud:  19.81203632241823\n",
      "895 - Indice nube: 230 \t Norma de la diferencia: 13.640302 \t Medida de Similitud:  15.711408343215487\n",
      "894 - Indice nube: 235 \t Norma de la diferencia: 13.473086 \t Medida de Similitud:  20.300474211755\n",
      "893 - Indice nube: 219 \t Norma de la diferencia: 13.353173 \t Medida de Similitud:  16.39775071276937\n",
      "892 - Indice nube: 288 \t Norma de la diferencia: 13.320083 \t Medida de Similitud:  15.55333857196943\n",
      "891 - Indice nube: 246 \t Norma de la diferencia: 13.3195915 \t Medida de Similitud:  15.648832419949382\n",
      "890 - Indice nube: 307 \t Norma de la diferencia: 13.314717 \t Medida de Similitud:  15.969792129909006\n",
      "889 - Indice nube: 310 \t Norma de la diferencia: 13.265613 \t Medida de Similitud:  19.562719145253443\n",
      "888 - Indice nube: 291 \t Norma de la diferencia: 13.193115 \t Medida de Similitud:  19.517951385244775\n",
      "887 - Indice nube: 261 \t Norma de la diferencia: 13.191947 \t Medida de Similitud:  16.04685143412366\n",
      "886 - Indice nube: 248 \t Norma de la diferencia: 13.1796055 \t Medida de Similitud:  16.23675578912729\n"
     ]
    }
   ],
   "source": [
    "list_farest, norm_farest = print_farest_clouds(model, 1, 10)"
   ]
  },
  {
   "cell_type": "markdown",
   "metadata": {},
   "source": [
    "# 9. Visualización de las nubes de puntos cercanas"
   ]
  },
  {
   "cell_type": "code",
   "execution_count": 34,
   "metadata": {},
   "outputs": [],
   "source": [
    "import matplotlib.pyplot as plt\n",
    "import numpy as np\n",
    "\n",
    "def print_two_cloud_points(cloud_1, cloud_2):\n",
    "    num_nube = cloud_1\n",
    "    num_nube_next = cloud_2\n",
    "\n",
    "    #print(Nubes[num_nube])\n",
    "\n",
    "    # Dividir el arreglo de coordenadas en dos arreglos x e y\n",
    "    x1 = [cord[0]+Posiciones_robot[num_nube][0] for cord in Nubes[num_nube]]\n",
    "    y1 = [-cord[1]+Posiciones_robot[num_nube][1] for cord in Nubes[num_nube]]\n",
    "\n",
    "\n",
    "    #print(Posiciones_robot[num_nube][0] ,\" \", Posiciones_robot[num_nube][1])\n",
    "\n",
    "    x2 = [cord[0]+Posiciones_robot[num_nube_next][0] for cord in Nubes[num_nube_next]]\n",
    "    y2 = [-cord[1]+Posiciones_robot[num_nube_next][1] for cord in Nubes[num_nube_next]]\n",
    "\n",
    "\n",
    "    #print(Posiciones_robot[num_nube_next][0] ,\" \", Posiciones_robot[num_nube_next][1])\n",
    "\n",
    "    # Crear la figura y el eje para la gráfica\n",
    "    fig, ax = plt.subplots()\n",
    "\n",
    "    # Graficar los puntos\n",
    "    ax.scatter(y1, x1, color='red', marker='o', label='Conjunto 1')\n",
    "    ax.scatter(y2, x2, color='blue', marker='x',  label='Conjunto 2')\n",
    "    ax.scatter(Posiciones_robot[num_nube][1], Posiciones_robot[num_nube][0], color='orange', marker='o', label='Conjunto 1')\n",
    "    ax.scatter(Posiciones_robot[num_nube_next][1], Posiciones_robot[num_nube_next][0], color='green', marker='x',  label='Conjunto 2')\n",
    "\n",
    "\n",
    "    # Opcional: establecer títulos para los ejes y la gráfica\n",
    "    ax.set_title('Gráfica de Posiciones del Robot')\n",
    "    ax.set_xlabel('Eje X')\n",
    "    ax.set_ylabel('Eje Y')\n",
    "    ax.set_ylim(-5,5)\n",
    "    ax.set_xlim(-15,15)\n",
    "\n",
    "    fig.set_size_inches(3,3)\n",
    "    # Mostrar la gráfica\n",
    "    plt.show()"
   ]
  },
  {
   "cell_type": "markdown",
   "metadata": {},
   "source": [
    "## Visualización de puntos del top 5 de embeddings"
   ]
  },
  {
   "cell_type": "code",
   "execution_count": 35,
   "metadata": {},
   "outputs": [
    {
     "data": {
      "image/png": "[encoded data removed]",
      "text/plain": [
       "<Figure size 300x300 with 1 Axes>"
      ]
     },
     "metadata": {},
     "output_type": "display_data"
    }
   ],
   "source": [
    "print_two_cloud_points(1,list_closest[1])"
   ]
  },
  {
   "cell_type": "code",
   "execution_count": 36,
   "metadata": {},
   "outputs": [
    {
     "data": {
      "image/png": "[encoded data removed]",
      "text/plain": [
       "<Figure size 300x300 with 1 Axes>"
      ]
     },
     "metadata": {},
     "output_type": "display_data"
    }
   ],
   "source": [
    "print_two_cloud_points(1,list_closest[2])"
   ]
  },
  {
   "cell_type": "code",
   "execution_count": 37,
   "metadata": {},
   "outputs": [
    {
     "data": {
      "image/png": "[encoded data removed]",
      "text/plain": [
       "<Figure size 300x300 with 1 Axes>"
      ]
     },
     "metadata": {},
     "output_type": "display_data"
    }
   ],
   "source": [
    "print_two_cloud_points(1,list_closest[3])"
   ]
  },
  {
   "cell_type": "code",
   "execution_count": 38,
   "metadata": {},
   "outputs": [
    {
     "data": {
      "image/png": "[encoded data removed]",
      "text/plain": [
       "<Figure size 300x300 with 1 Axes>"
      ]
     },
     "metadata": {},
     "output_type": "display_data"
    }
   ],
   "source": [
    "print_two_cloud_points(1,list_closest[4])"
   ]
  },
  {
   "cell_type": "code",
   "execution_count": 39,
   "metadata": {},
   "outputs": [
    {
     "data": {
      "image/png": "[encoded data removed]",
      "text/plain": [
       "<Figure size 300x300 with 1 Axes>"
      ]
     },
     "metadata": {},
     "output_type": "display_data"
    }
   ],
   "source": [
    "print_two_cloud_points(1,list_closest[5])"
   ]
  },
  {
   "cell_type": "code",
   "execution_count": 40,
   "metadata": {},
   "outputs": [
    {
     "data": {
      "image/png": "[encoded data removed]",
      "text/plain": [
       "<Figure size 300x300 with 1 Axes>"
      ]
     },
     "metadata": {},
     "output_type": "display_data"
    }
   ],
   "source": [
    "print_two_cloud_points(1,list_closest[6])"
   ]
  },
  {
   "cell_type": "markdown",
   "metadata": {},
   "source": [
    "# 10. Reducción de dimensión por PCA"
   ]
  },
  {
   "cell_type": "code",
   "execution_count": 41,
   "metadata": {},
   "outputs": [],
   "source": [
    "from sklearn.decomposition import PCA\n",
    "import numpy as np\n",
    "\n",
    "np.random.seed(42) \n",
    "X =  model.cloud_embeddings(torch.tensor(range(num_clouds), dtype=torch.long)).detach().numpy()\n",
    "\n",
    "#Inicializar PCA para reducir a 2 dimensiones\n",
    "pca = PCA(n_components=2)\n",
    "\n",
    "#Ajustar y transformar los datos\n",
    "X_reduced = pca.fit_transform(X)"
   ]
  },
  {
   "cell_type": "code",
   "execution_count": 42,
   "metadata": {},
   "outputs": [
    {
     "name": "stdout",
     "output_type": "stream",
     "text": [
      "(897, 2)\n"
     ]
    }
   ],
   "source": [
    "print(X_reduced.shape)"
   ]
  },
  {
   "cell_type": "code",
   "execution_count": 43,
   "metadata": {},
   "outputs": [],
   "source": [
    "def print_closest_clouds_PCA(num_cloud, top_num):\n",
    "    cloud_PCA = X_reduced[num_cloud] \n",
    "    dists = np.linalg.norm(X_reduced - cloud_PCA, axis=1)\n",
    "    #print(dists)\n",
    "    sorted_differences = sorted(enumerate(dists), key=lambda x: x[1])\n",
    "    index_differences = [idx for idx, difference in sorted_differences]\n",
    "    val_differences = [difference for idx, difference in sorted_differences]\n",
    "    print(\"Top PCA más cercanos de la nube \", num_cloud)\n",
    "    print(\"-\"*20)\n",
    "    i = 0\n",
    "    for idx, difference in zip(index_differences[0:top_num+1], val_differences[0:top_num+1]):\n",
    "         print(i,\"- Indice nube:\", idx, \"\\t Norma de la diferencia:\", difference, \n",
    "              \"\\t Medida de Similitud: \", Nubes_Similitud[num_cloud][idx])\n",
    "         i+=1"
   ]
  },
  {
   "cell_type": "code",
   "execution_count": 44,
   "metadata": {},
   "outputs": [],
   "source": [
    "def print_farest_clouds_PCA(num_cloud, top_num):\n",
    "    cloud_PCA = X_reduced[num_cloud] \n",
    "    dists = np.linalg.norm(X_reduced - cloud_PCA, axis=1)\n",
    "    #print(dists)\n",
    "    sorted_differences = sorted(enumerate(dists), key=lambda x: x[1])\n",
    "    sorted_differences = sorted_differences[::-1]\n",
    "\n",
    "    index_differences = [idx for idx, difference in sorted_differences]\n",
    "    val_differences = [difference for idx, difference in sorted_differences]\n",
    "    print(\"Top PCA más cercanos de la nube \", num_cloud)\n",
    "    print(\"-\"*20)\n",
    "    i = 0\n",
    "    for idx, difference in zip(index_differences[0:top_num+1], val_differences[0:top_num+1]):\n",
    "         print(i,\"- Indice nube:\", idx, \"\\t Norma de la diferencia:\", difference, \n",
    "              \"\\t Medida de Similitud: \", Nubes_Similitud[num_cloud][idx])\n",
    "         i+=1"
   ]
  },
  {
   "cell_type": "code",
   "execution_count": 45,
   "metadata": {},
   "outputs": [
    {
     "name": "stdout",
     "output_type": "stream",
     "text": [
      "Top PCA más cercanos de la nube  1\n",
      "--------------------\n",
      "0 - Indice nube: 1 \t Norma de la diferencia: 0.0 \t Medida de Similitud:  0.0\n",
      "1 - Indice nube: 56 \t Norma de la diferencia: 0.05516261 \t Medida de Similitud:  1.8417835421437982\n",
      "2 - Indice nube: 6 \t Norma de la diferencia: 0.13699819 \t Medida de Similitud:  1.2074819317566483\n",
      "3 - Indice nube: 61 \t Norma de la diferencia: 0.1452492 \t Medida de Similitud:  1.4368466190946163\n",
      "4 - Indice nube: 24 \t Norma de la diferencia: 0.16633226 \t Medida de Similitud:  1.7933079708492088\n",
      "5 - Indice nube: 88 \t Norma de la diferencia: 0.19045675 \t Medida de Similitud:  1.8401632582656204\n",
      "6 - Indice nube: 91 \t Norma de la diferencia: 0.19754155 \t Medida de Similitud:  2.2510952777985422\n",
      "7 - Indice nube: 80 \t Norma de la diferencia: 0.20270358 \t Medida de Similitud:  1.3476922798251898\n",
      "8 - Indice nube: 87 \t Norma de la diferencia: 0.21183386 \t Medida de Similitud:  1.7818231869000383\n",
      "9 - Indice nube: 54 \t Norma de la diferencia: 0.25047317 \t Medida de Similitud:  1.5827745159811768\n",
      "10 - Indice nube: 65 \t Norma de la diferencia: 0.31774563 \t Medida de Similitud:  1.757124358228656\n"
     ]
    }
   ],
   "source": [
    "print_closest_clouds_PCA(1, 10)"
   ]
  },
  {
   "cell_type": "code",
   "execution_count": 46,
   "metadata": {},
   "outputs": [
    {
     "name": "stdout",
     "output_type": "stream",
     "text": [
      "Top PCA más cercanos de la nube  1\n",
      "--------------------\n",
      "0 - Indice nube: 246 \t Norma de la diferencia: 10.382976 \t Medida de Similitud:  15.648832419949382\n",
      "1 - Indice nube: 255 \t Norma de la diferencia: 10.244646 \t Medida de Similitud:  14.60099311831336\n",
      "2 - Indice nube: 257 \t Norma de la diferencia: 10.241403 \t Medida de Similitud:  14.938644546397478\n",
      "3 - Indice nube: 249 \t Norma de la diferencia: 10.233129 \t Medida de Similitud:  16.507839126564534\n",
      "4 - Indice nube: 230 \t Norma de la diferencia: 10.206504 \t Medida de Similitud:  15.711408343215487\n",
      "5 - Indice nube: 245 \t Norma de la diferencia: 10.188108 \t Medida de Similitud:  14.96638156546374\n",
      "6 - Indice nube: 244 \t Norma de la diferencia: 10.177724 \t Medida de Similitud:  14.945882913379739\n",
      "7 - Indice nube: 264 \t Norma de la diferencia: 10.1771965 \t Medida de Similitud:  17.321179560157518\n",
      "8 - Indice nube: 248 \t Norma de la diferencia: 10.158985 \t Medida de Similitud:  16.23675578912729\n",
      "9 - Indice nube: 306 \t Norma de la diferencia: 10.152358 \t Medida de Similitud:  15.099921769781417\n",
      "10 - Indice nube: 227 \t Norma de la diferencia: 10.150715 \t Medida de Similitud:  14.855084863063354\n"
     ]
    }
   ],
   "source": [
    "print_farest_clouds_PCA(1,10)"
   ]
  },
  {
   "cell_type": "markdown",
   "metadata": {},
   "source": [
    "Primeras 10 nubes y en rojo la nube más cercana a la nube 1"
   ]
  },
  {
   "cell_type": "code",
   "execution_count": 47,
   "metadata": {},
   "outputs": [
    {
     "data": {
      "image/png": "[encoded data removed]",
      "text/plain": [
       "<Figure size 500x400 with 1 Axes>"
      ]
     },
     "metadata": {},
     "output_type": "display_data"
    }
   ],
   "source": [
    "import matplotlib.pyplot as plt\n",
    "\n",
    "# Suponer que tenemos un arreglo de nombres para cada punto\n",
    "names = np.array([\"Nube {}\".format(i) for i in range(10)])\n",
    "\n",
    "# Crear una gráfica de los puntos reducidos\n",
    "plt.figure(figsize=(5, 4))\n",
    "plt.scatter(X_reduced[:10, 0], X_reduced[:10, 1])\n",
    "plt.scatter(X_reduced[list_closest[1], 0], X_reduced[list_closest[1], 1], color='red')\n",
    "\n",
    "# Anotar cada punto con su nombre correspondiente\n",
    "for i, name in enumerate(names):\n",
    "    plt.annotate(name, (X_reduced[i, 0], X_reduced[i, 1]))\n",
    "    plt.annotate(\"El mas cercano\", (X_reduced[list_closest[1], 0], X_reduced[list_closest[1],1]))\n",
    "\n",
    "\n",
    "plt.xlabel('Componente Principal 1')\n",
    "plt.ylabel('Componente Principal 2')\n",
    "plt.title('Representación de Vectores Reducidos mediante PCA')\n",
    "plt.grid(True)\n",
    "plt.show()"
   ]
  },
  {
   "cell_type": "markdown",
   "metadata": {},
   "source": [
    "Todas las nubes y resaltadas las 10 primeras nubes"
   ]
  },
  {
   "cell_type": "code",
   "execution_count": 49,
   "metadata": {},
   "outputs": [
    {
     "data": {
      "image/png": "[encoded data removed]",
      "text/plain": [
       "<Figure size 1000x800 with 1 Axes>"
      ]
     },
     "metadata": {},
     "output_type": "display_data"
    }
   ],
   "source": [
    "import matplotlib.pyplot as plt\n",
    "\n",
    "\n",
    "# Crear una gráfica de los puntos reducidos\n",
    "plt.figure(figsize=(10, 8))\n",
    "plt.scatter(X_reduced[:, 0], X_reduced[:, 1])\n",
    "\n",
    "# Anotar cada punto con su nombre correspondiente\n",
    "for i, name in enumerate(names):\n",
    "    plt.scatter(X_reduced[i, 0], X_reduced[i, 1], color=\"red\")\n",
    "    plt.annotate(name, (X_reduced[i, 0], X_reduced[i, 1]))\n",
    "\n",
    "plt.xlabel('Componente Principal 1')\n",
    "plt.ylabel('Componente Principal 2')\n",
    "plt.title('Representación de Vectores Reducidos mediante PCA')\n",
    "plt.grid(True)\n",
    "plt.show()"
   ]
  }
 ],
 "metadata": {
  "kernelspec": {
   "display_name": "Python 3",
   "language": "python",
   "name": "python3"
  },
  "language_info": {
   "codemirror_mode": {
    "name": "ipython",
    "version": 3
   },
   "file_extension": ".py",
   "mimetype": "text/x-python",
   "name": "python",
   "nbconvert_exporter": "python",
   "pygments_lexer": "ipython3",
   "version": "3.9.18"
  }
 },
 "nbformat": 4,
 "nbformat_minor": 2
}

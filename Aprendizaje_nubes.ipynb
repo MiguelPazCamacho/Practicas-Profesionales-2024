{
 "cells": [
  {
   "cell_type": "code",
   "execution_count": 1,
   "metadata": {},
   "outputs": [],
   "source": [
    "import numpy as np"
   ]
  },
  {
   "cell_type": "code",
   "execution_count": 2,
   "metadata": {},
   "outputs": [],
   "source": [
    "def read_cloud_csv(file):\n",
    "    # Leer todo el archivo y dividirlo según la solicitud\n",
    "    data = np.loadtxt(file, delimiter=',', skiprows=1)\n",
    "\n",
    "    # Separar la primera línea de los datos\n",
    "    # Dado que la primera línea son solo encabezados, ajustamos el enfoque:\n",
    "    # La solicitud original parece haberse malinterpretado debido a los encabezados. \n",
    "    # Si se desea incluir realmente la primera línea de datos en un array separado, procederemos de esa manera.\n",
    "    first_row_data = data[0, :]  # Primer renglón de datos\n",
    "    rest_data = data[1:, :]  # Resto de los datos\n",
    "\n",
    "    ##if(file == 'Nubes/mundo_26_1/intersection_points_167.csv'):\n",
    "    ##    print(first_row_data)\n",
    "    ##if(file =='Nubes/mundo_18/intersection_points_21.csv'):\n",
    "    ##    print(first_row_data)\n",
    "\n",
    "    #first_row_data, rest_data[:5]  # Mostramos la primera fila de datos y las primeras 5 del resto para verificar\n",
    "\n",
    "    return first_row_data[::-1], rest_data"
   ]
  },
  {
   "cell_type": "code",
   "execution_count": 3,
   "metadata": {},
   "outputs": [
    {
     "name": "stdout",
     "output_type": "stream",
     "text": [
      "Nubes/mundo_0 inicio: 0\n",
      "Nubes/mundo_1 inicio: 65\n",
      "Nubes/mundo_2 inicio: 126\n",
      "Nubes/mundo_2_1 inicio: 193\n",
      "Nubes/mundo_3 inicio: 193\n",
      "Nubes/mundo_3_1 inicio: 257\n",
      "Nubes/mundo_4 inicio: 257\n",
      "Nubes/mundo_4_1 inicio: 337\n",
      "Nubes/mundo_5 inicio: 337\n",
      "Nubes/mundo_5_1 inicio: 417\n",
      "Nubes/mundo_6 inicio: 417\n",
      "Nubes/mundo_7 inicio: 417\n",
      "Nubes/mundo_8 inicio: 417\n",
      "Nubes/mundo_9 inicio: 417\n",
      "Nubes/mundo_10 inicio: 417\n",
      "Nubes/mundo_11 inicio: 417\n",
      "Nubes/mundo_12 inicio: 417\n",
      "Nubes/mundo_13 inicio: 417\n",
      "Nubes/mundo_13_1 inicio: 479\n",
      "Nubes/mundo_14 inicio: 479\n",
      "Nubes/mundo_14_1 inicio: 532\n",
      "Nubes/mundo_15 inicio: 532\n",
      "Nubes/mundo_15_1 inicio: 589\n",
      "Nubes/mundo_16 inicio: 589\n",
      "Nubes/mundo_16_1 inicio: 641\n",
      "Nubes/mundo_17 inicio: 641\n",
      "Nubes/mundo_17_1 inicio: 685\n",
      "Nubes/mundo_18 inicio: 685\n",
      "Nubes/mundo_18_1 inicio: 723\n",
      "Nubes/mundo_19 inicio: 723\n",
      "Nubes/mundo_19_1 inicio: 754\n",
      "Nubes/mundo_20 inicio: 754\n",
      "Nubes/mundo_20_1 inicio: 786\n",
      "Nubes/mundo_21 inicio: 786\n",
      "Nubes/mundo_21_1 inicio: 819\n",
      "Nubes/mundo_22 inicio: 819\n",
      "Nubes/mundo_22_1 inicio: 835\n",
      "Nubes/mundo_23 inicio: 835\n",
      "Nubes/mundo_23_1 inicio: 846\n",
      "Nubes/mundo_24 inicio: 862\n",
      "Nubes/mundo_24_1 inicio: 870\n",
      "Nubes/mundo_25 inicio: 908\n",
      "Nubes/mundo_25_1 inicio: 910\n",
      "Nubes/mundo_26 inicio: 960\n",
      "Nubes/mundo_26_1 inicio: 960\n",
      "Nubes/mundo_27 inicio: 1027\n",
      "Nubes/mundo_27_1 inicio: 1027\n",
      "Nubes/mundo_28 inicio: 1103\n",
      "Nubes/mundo_29 inicio: 1146\n",
      "Nubes/mundo_30 inicio: 1196\n",
      "Nubes/mundo_31 inicio: 1263\n",
      "Nubes/mundo_32 inicio: 1334\n",
      "Nubes/mundo_33 inicio: 1404\n",
      "Nubes/mundo_34 inicio: 1467\n",
      "Nubes/mundo_35 inicio: 1509\n",
      "Nubes/mundo_36 inicio: 1509\n",
      "Nubes/mundo_37 inicio: 1509\n",
      "Nubes/mundo_38 inicio: 1509\n",
      "Nubes/mundo_39 inicio: 1509\n",
      "Nubes/mundo_40 inicio: 1509\n",
      "Nubes/mundo_41 inicio: 1509\n",
      "Nubes/mundo_42 inicio: 1509\n",
      "Nubes/mundo_43 inicio: 1509\n",
      "Nubes/mundo_44 inicio: 1509\n",
      "Nubes/mundo_45 inicio: 1509\n",
      "Nubes/mundo_46 inicio: 1509\n",
      "Nubes/mundo_47 inicio: 1509\n",
      "Nubes/mundo_48 inicio: 1509\n",
      "Nubes/mundo_49 inicio: 1509\n",
      "Nubes/mundo_50 inicio: 1509\n",
      "Nubes/mundo_51 inicio: 1509\n",
      "Nubes/mundo_52 inicio: 1568\n",
      "Nubes/mundo_53 inicio: 1622\n",
      "Nubes/mundo_54 inicio: 1677\n",
      "Nubes/mundo_55 inicio: 1725\n",
      "Nubes/mundo_56 inicio: 1775\n",
      "Nubes/mundo_57 inicio: 1827\n",
      "Nubes/mundo_58 inicio: 1873\n",
      "Nubes/mundo_59 inicio: 1920\n",
      "Nubes/mundo_60 inicio: 1971\n",
      "Nubes/mundo_61 inicio: 2019\n",
      "Nubes/mundo_62 inicio: 2099\n",
      "Nubes/mundo_63 inicio: 2179\n",
      "Nubes/mundo_64 inicio: 2259\n",
      "Nubes/mundo_65 inicio: 2339\n",
      "Nubes/mundo_66 inicio: 2419\n",
      "Nubes/mundo_67 inicio: 2496\n",
      "Nubes/mundo_68 inicio: 2568\n",
      "Nubes/mundo_69 inicio: 2643\n",
      "Nubes/mundo_70 inicio: 2719\n",
      "Nubes/mundo_71 inicio: 2799\n",
      "Nubes/mundo_72 inicio: 2879\n",
      "Nubes/mundo_73 inicio: 2959\n",
      "Nubes/mundo_74 inicio: 3039\n",
      "Nubes/mundo_75 inicio: 3119\n",
      "Nubes/mundo_76 inicio: 3199\n",
      "Nubes/mundo_77 inicio: 3277\n",
      "Nubes/mundo_78 inicio: 3352\n",
      "Nubes/mundo_79 inicio: 3424\n",
      "Nubes/mundo_80 inicio: 3490\n",
      "Nubes/mundo_81 inicio: 3549\n"
     ]
    }
   ],
   "source": [
    "import os\n",
    "\n",
    "#\n",
    "Posiciones_robot = []\n",
    "Nubes = []\n",
    "\n",
    "\n",
    "# Define la dirección (ruta) en la que deseas buscar los directorios\n",
    "ruta = 'Nubes'\n",
    "\n",
    "Elementos_en_orden = []\n",
    "for i in range(82):\n",
    "    caso1= \"mundo_\"+str(i)\n",
    "    Elementos_en_orden.append(caso1)\n",
    "    caso2= \"mundo_\"+str(i)+\"_1\"\n",
    "    Elementos_en_orden.append(caso2)\n",
    "\n",
    "#print(Elementos_en_orden[:5])\n",
    "#print(Elementos_en_orden[-1])\n",
    "\n",
    "# Lista todos los archivos y directorios en la ruta especificada\n",
    "todos_los_elementos = os.listdir(ruta)\n",
    "\n",
    "# Filtra solo los directorios\n",
    "solo_directorios = [elemento for elemento in todos_los_elementos if os.path.isdir(os.path.join(ruta, elemento))]\n",
    "\n",
    "#print(solo_directorios[:5])\n",
    "\n",
    "Directorios_nubes = []\n",
    "for n in Elementos_en_orden:\n",
    "    if n in solo_directorios:\n",
    "        Directorios_nubes.append(n)\n",
    "\n",
    "\n",
    "#print(\"Analizando \",len(solo_directorios))\n",
    "inicio = 0\n",
    "for directorio in Directorios_nubes:\n",
    "    ruta_directorio = ruta+\"/\"+directorio\n",
    "    print(ruta_directorio, \"inicio:\", inicio)\n",
    "    #Lista todos los archivos y directorios en la ruta especificada\n",
    "    len_nombres_nubes = len(os.listdir(ruta_directorio))\n",
    "    nombres_nubes = []\n",
    "    for i in range(len_nombres_nubes):\n",
    "        nombres_nubes.append(\"intersection_points_\"+str(i)+\".csv\")\n",
    "    rand_index = [i for i in np.random.randint(0, len_nombres_nubes, 80)]\n",
    "    #print(rand_index)\n",
    "    nombres_nubes= [nombres_nubes[i] for i in rand_index]\n",
    "    #print(nombres_nubes)\n",
    "    for nube in nombres_nubes:\n",
    "        ruta_nubes = ruta_directorio +\"/\"+nube\n",
    "        #if(ruta_directorio == 'Nubes/mundo_18'):\n",
    "        #    print(ruta_nubes)\n",
    "        #    pass\n",
    "        a,b = read_cloud_csv(ruta_nubes)\n",
    "        if(np.any(np.isinf(b)) == False):\n",
    "            Posiciones_robot.append(a)\n",
    "            Nubes.append(b)\n",
    "            inicio +=1\n",
    "    \n",
    "\n",
    "Posiciones_robot= np.array(Posiciones_robot)"
   ]
  },
  {
   "cell_type": "markdown",
   "metadata": {},
   "source": [
    "Se eliminaron los últimos archivos de las carpetas 27_1 y 23"
   ]
  },
  {
   "cell_type": "code",
   "execution_count": 4,
   "metadata": {},
   "outputs": [
    {
     "data": {
      "text/plain": [
       "3612"
      ]
     },
     "execution_count": 4,
     "metadata": {},
     "output_type": "execute_result"
    }
   ],
   "source": [
    "len(Posiciones_robot)"
   ]
  },
  {
   "cell_type": "code",
   "execution_count": 5,
   "metadata": {},
   "outputs": [
    {
     "data": {
      "text/plain": [
       "640"
      ]
     },
     "execution_count": 5,
     "metadata": {},
     "output_type": "execute_result"
    }
   ],
   "source": [
    "len(Nubes[0])"
   ]
  },
  {
   "cell_type": "code",
   "execution_count": 6,
   "metadata": {},
   "outputs": [
    {
     "data": {
      "text/plain": [
       "3612"
      ]
     },
     "execution_count": 6,
     "metadata": {},
     "output_type": "execute_result"
    }
   ],
   "source": [
    "len(Nubes)"
   ]
  },
  {
   "cell_type": "markdown",
   "metadata": {},
   "source": [
    "# Medidas de Similitud"
   ]
  },
  {
   "cell_type": "code",
   "execution_count": 7,
   "metadata": {},
   "outputs": [],
   "source": [
    "def mean_squared_error(nube1, nube2):\n",
    "    return np.sum( (nube1[:,0] - nube2[:,0]) ** 2 + (nube1[:,1] - nube2[:,1]) ** 2) / len(nube1)"
   ]
  },
  {
   "cell_type": "markdown",
   "metadata": {},
   "source": [
    "# Aplicando Similitud"
   ]
  },
  {
   "cell_type": "code",
   "execution_count": 8,
   "metadata": {},
   "outputs": [
    {
     "data": {
      "text/plain": [
       "0.6841867580696958"
      ]
     },
     "execution_count": 8,
     "metadata": {},
     "output_type": "execute_result"
    }
   ],
   "source": [
    "mean_squared_error(Nubes[0],Nubes[100])"
   ]
  },
  {
   "cell_type": "code",
   "execution_count": 9,
   "metadata": {},
   "outputs": [],
   "source": [
    "def get_good_and_bad_samples(Nubes_Similitud, k, n):\n",
    "\n",
    "    Good_Samples = []\n",
    "    Bad_Samples = []\n",
    "\n",
    "\n",
    "    for i in range(len(Nubes_Similitud)):\n",
    "        if(i%100 == 0):\n",
    "            print(i,\"/\",len(Nubes_Similitud))\n",
    "        #Valores ordenados de menor a mayor\n",
    "        sort_index = np.argsort(Nubes_Similitud[i])\n",
    "        #sort_values = np.sort(Nubes_Similitud[i])\n",
    "\n",
    "        #print([[i,j] for i,j in zip(np.ones(k, dtype=int)*i,sort_index[:k])])\n",
    "\n",
    "        for nn in range(n):\n",
    "            Good_Samples.append([i,sort_index[nn]])\n",
    "            #mid_point = int(len(Nubes_Similitud)/2)\n",
    "            Bad_Samples.append([[i,j] for i,j in zip(np.ones(k, dtype=int)*i,(sort_index[::-1])[k*nn:k*(nn+1)])])\n",
    "            #print(\"[\",mid_point+k*nn,\",\",mid_point+k*(nn+1),\"]\")\n",
    "\n",
    "    return Good_Samples, Bad_Samples\n"
   ]
  },
  {
   "cell_type": "code",
   "execution_count": 10,
   "metadata": {},
   "outputs": [
    {
     "name": "stdout",
     "output_type": "stream",
     "text": [
      "0 / 3612\n"
     ]
    },
    {
     "name": "stdout",
     "output_type": "stream",
     "text": [
      "100 / 3612\n",
      "200 / 3612\n",
      "300 / 3612\n",
      "400 / 3612\n",
      "500 / 3612\n",
      "600 / 3612\n",
      "700 / 3612\n",
      "800 / 3612\n",
      "900 / 3612\n",
      "1000 / 3612\n",
      "1100 / 3612\n",
      "1200 / 3612\n",
      "1300 / 3612\n",
      "1400 / 3612\n",
      "1500 / 3612\n",
      "1600 / 3612\n",
      "1700 / 3612\n",
      "1800 / 3612\n",
      "1900 / 3612\n",
      "2000 / 3612\n",
      "2100 / 3612\n",
      "2200 / 3612\n",
      "2300 / 3612\n",
      "2400 / 3612\n",
      "2500 / 3612\n",
      "2600 / 3612\n",
      "2700 / 3612\n",
      "2800 / 3612\n",
      "2900 / 3612\n",
      "3000 / 3612\n",
      "3100 / 3612\n",
      "3200 / 3612\n",
      "3300 / 3612\n",
      "3400 / 3612\n",
      "3500 / 3612\n",
      "3600 / 3612\n",
      "33.68148649280713\n"
     ]
    }
   ],
   "source": [
    "Nubes_Similitud = np.zeros((len(Nubes),len(Nubes)))\n",
    "\n",
    "max_value = 0\n",
    "\n",
    "for i in range(len(Nubes)):\n",
    "    if(i%100 == 0):\n",
    "            print(i,\"/\",len(Nubes_Similitud))\n",
    "    for j in range(len(Nubes)):\n",
    "        Nubes_Similitud[i][j] = mean_squared_error(Nubes[i], Nubes[j])\n",
    "    max_value = max(np.max(Nubes_Similitud[i]), max_value)\n",
    "\n",
    "print(max_value)"
   ]
  },
  {
   "cell_type": "code",
   "execution_count": 11,
   "metadata": {},
   "outputs": [],
   "source": [
    "sort_index = np.argsort(Nubes_Similitud[1])\n",
    "sort_values = np.sort(Nubes_Similitud[1])"
   ]
  },
  {
   "cell_type": "code",
   "execution_count": 12,
   "metadata": {},
   "outputs": [
    {
     "name": "stdout",
     "output_type": "stream",
     "text": [
      "[ 1 41 32 63 48 57  0 38 26 47]\n",
      "[0.         0.00660392 0.00660392 0.01293842 0.01389332 0.01423889\n",
      " 0.05115872 0.06329665 0.07579699 0.10427908]\n"
     ]
    }
   ],
   "source": [
    "print(sort_index[:10])\n",
    "print(sort_values[:10])"
   ]
  },
  {
   "cell_type": "code",
   "execution_count": 13,
   "metadata": {},
   "outputs": [],
   "source": [
    "K = 15"
   ]
  },
  {
   "cell_type": "code",
   "execution_count": 14,
   "metadata": {},
   "outputs": [
    {
     "name": "stdout",
     "output_type": "stream",
     "text": [
      "0 / 3612\n"
     ]
    },
    {
     "name": "stdout",
     "output_type": "stream",
     "text": [
      "100 / 3612\n",
      "200 / 3612\n",
      "300 / 3612\n",
      "400 / 3612\n",
      "500 / 3612\n",
      "600 / 3612\n",
      "700 / 3612\n",
      "800 / 3612\n",
      "900 / 3612\n",
      "1000 / 3612\n",
      "1100 / 3612\n",
      "1200 / 3612\n",
      "1300 / 3612\n",
      "1400 / 3612\n",
      "1500 / 3612\n",
      "1600 / 3612\n",
      "1700 / 3612\n",
      "1800 / 3612\n",
      "1900 / 3612\n",
      "2000 / 3612\n",
      "2100 / 3612\n",
      "2200 / 3612\n",
      "2300 / 3612\n",
      "2400 / 3612\n",
      "2500 / 3612\n",
      "2600 / 3612\n",
      "2700 / 3612\n",
      "2800 / 3612\n",
      "2900 / 3612\n",
      "3000 / 3612\n",
      "3100 / 3612\n",
      "3200 / 3612\n",
      "3300 / 3612\n",
      "3400 / 3612\n",
      "3500 / 3612\n",
      "3600 / 3612\n"
     ]
    }
   ],
   "source": [
    "Good_Samples, Bad_Samples = get_good_and_bad_samples(Nubes_Similitud, K,200)"
   ]
  },
  {
   "cell_type": "code",
   "execution_count": 15,
   "metadata": {},
   "outputs": [
    {
     "name": "stdout",
     "output_type": "stream",
     "text": [
      "2\n",
      "15\n"
     ]
    }
   ],
   "source": [
    "print(len(Good_Samples[0]))\n",
    "print(len(Bad_Samples[0]))"
   ]
  },
  {
   "cell_type": "code",
   "execution_count": 16,
   "metadata": {},
   "outputs": [
    {
     "name": "stdout",
     "output_type": "stream",
     "text": [
      "[[0, 0], [0, 38], [0, 57], [0, 63], [0, 22], [0, 47], [0, 52], [0, 1], [0, 53], [0, 41], [0, 32], [0, 48], [0, 66], [0, 111], [0, 91], [0, 70], [0, 115], [0, 45], [0, 75], [0, 74], [0, 90], [0, 26], [0, 112], [0, 96], [0, 116], [0, 76], [0, 108], [0, 11], [0, 59], [0, 85], [0, 86], [0, 94], [0, 114], [0, 60], [0, 31], [0, 33], [0, 36], [0, 106], [0, 23], [0, 46], [0, 9], [0, 82], [0, 118], [0, 113], [0, 110], [0, 171], [0, 184], [0, 155], [0, 187], [0, 175], [0, 160], [0, 163], [0, 89], [0, 158], [0, 130], [0, 120], [0, 146], [0, 54], [0, 126], [0, 182], [0, 164], [0, 4], [0, 124], [0, 172], [0, 142], [0, 143], [0, 159], [0, 189], [0, 134], [0, 180], [0, 161], [0, 40], [0, 3], [0, 58], [0, 21], [0, 27], [0, 10], [0, 20], [0, 105], [0, 119], [0, 117], [0, 127], [0, 109], [0, 137], [0, 107], [0, 169], [0, 15], [0, 152], [0, 2], [0, 88], [0, 138], [0, 185], [0, 136], [0, 141], [0, 24], [0, 100], [0, 39], [0, 133], [0, 206], [0, 214], [0, 148], [0, 229], [0, 219], [0, 239], [0, 209], [0, 51], [0, 194], [0, 202], [0, 225], [0, 68], [0, 67], [0, 50], [0, 236], [0, 208], [0, 71], [0, 203], [0, 49], [0, 12], [0, 168], [0, 14], [0, 102], [0, 44], [0, 193], [0, 79], [0, 154], [0, 183], [0, 125], [0, 200], [0, 253], [0, 223], [0, 93], [0, 83], [0, 199], [0, 186], [0, 84], [0, 201], [0, 212], [0, 210], [0, 80], [0, 65], [0, 29], [0, 213], [0, 56], [0, 77], [0, 251], [0, 230], [0, 235], [0, 162], [0, 95], [0, 98], [0, 270], [0, 254], [0, 238], [0, 129], [0, 149], [0, 268], [0, 316], [0, 308], [0, 329], [0, 261], [0, 267], [0, 324], [0, 318], [0, 99], [0, 259], [0, 265], [0, 290], [0, 5], [0, 221], [0, 217], [0, 271], [0, 279], [0, 287], [0, 305], [0, 328], [0, 226], [0, 257], [0, 167], [0, 211], [0, 101], [0, 121], [0, 157], [0, 153], [0, 369], [0, 16], [0, 64], [0, 380], [0, 375], [0, 387], [0, 303], [0, 407], [0, 362], [0, 323], [0, 349], [0, 411], [0, 338], [0, 395], [0, 55], [0, 365], [0, 264]]\n",
      "[[0, 1419], [0, 1418], [0, 1270], [0, 1413], [0, 1423], [0, 1448], [0, 1238], [0, 1426], [0, 1234], [0, 1412], [0, 1404], [0, 1433], [0, 1211], [0, 1362], [0, 1371]]\n"
     ]
    }
   ],
   "source": [
    "print(Good_Samples[0:200])\n",
    "print(Bad_Samples[0])"
   ]
  },
  {
   "cell_type": "code",
   "execution_count": 17,
   "metadata": {},
   "outputs": [
    {
     "name": "stdout",
     "output_type": "stream",
     "text": [
      "GS_Train size: 577920\n",
      "GS_Val   size: 144480\n",
      "BS_Train size: 577920\n",
      "BS_Val   size: 144480\n"
     ]
    }
   ],
   "source": [
    "from sklearn.model_selection import train_test_split\n",
    "\n",
    "Good_Samples_train,Good_Samples_val,Bad_Samples_train,Bad_Samples_val   = train_test_split(Good_Samples, Bad_Samples, test_size=0.2)\n",
    "\n",
    "print(\"GS_Train size:\", len(Good_Samples_train))\n",
    "print(\"GS_Val   size:\", len(Good_Samples_val))\n",
    "print(\"BS_Train size:\", len(Bad_Samples_train))\n",
    "print(\"BS_Val   size:\", len(Bad_Samples_val))"
   ]
  },
  {
   "cell_type": "code",
   "execution_count": 18,
   "metadata": {},
   "outputs": [],
   "source": [
    "import torch\n",
    "import torch.nn as nn\n",
    "import torch.optim as optim\n",
    "from sklearn.metrics import accuracy_score\n",
    "\n",
    "class SGNSModel(nn.Module):\n",
    "    def __init__(self, num_clouds, embedding_dim, K):\n",
    "        super(SGNSModel, self).__init__()\n",
    "        # Embedding para las nubes\n",
    "        self.word_embeddings = nn.Embedding(num_clouds, embedding_dim)\n",
    "        # Embedding para los contextos \n",
    "        self.context_embeddings = nn.Embedding(num_clouds, embedding_dim)\n",
    "        # Capa de regresión logística\n",
    "        self.logistic_regression = nn.Linear(embedding_dim, 1+K)\n",
    "        # Función de activación sigmoide\n",
    "        self.activation = nn.Sigmoid()\n",
    "        \n",
    "    def forward(self, cloud_indices, context_indices, labels):\n",
    "        # Obtener embeddings\n",
    "        cloud_embeds = self.word_embeddings(cloud_indices)\n",
    "        context_embeds = self.context_embeddings(context_indices)\n",
    "        #print(len(cloud_embeds))\n",
    "        #print(len(context_embeds))\n",
    "        # Producto punto entre la nube y el contexto\n",
    "        dot_product = (cloud_embeds * context_embeds).sum(1)\n",
    "        #len(dot_product)\n",
    "        # Pasar el producto punto a través de la regresión logística y luego a través de la sigmoide\n",
    "        predictions = self.activation(self.logistic_regression(dot_product.unsqueeze(1)))\n",
    "        return predictions\n",
    "    \n",
    "def model_eval(data, model, criterion):\n",
    "    with torch.no_grad():\n",
    "        preds, tgts = [], []\n",
    "        total_loss = 0\n",
    "        epoch_loss = []\n",
    "        for cloud_indices, context_indices, labels in data:\n",
    "\n",
    "            #Obtener predicción\n",
    "            predictions = model(cloud_indices, context_indices, labels)\n",
    "            #predictions = predictions.numpy()\n",
    "\n",
    "            tgt = labels.numpy()\n",
    "            tgts.append(tgt)\n",
    "            preds.append(predictions.squeeze())\n",
    "\n",
    "            #print(tgt)\n",
    "            #print(predictions.squeeze().numpy())\n",
    "            loss = criterion(predictions.squeeze(), labels)\n",
    "            #print(predictions.squeeze(), labels)\n",
    "            total_loss= loss.item()\n",
    "            epoch_loss.append(loss.item())\n",
    "            \n",
    "\n",
    "    tgts = [e for l in tgts for e in l]\n",
    "    preds = [e for l in preds for e in l]\n",
    "\n",
    "    return np.mean(epoch_loss)"
   ]
  },
  {
   "cell_type": "code",
   "execution_count": 19,
   "metadata": {},
   "outputs": [],
   "source": [
    "def train_model(model, train_loader, val_loader, epochs=10, learning_rate=0.001):\n",
    "    \n",
    "    #optimizer = optim.Adam(model.parameters(), lr=learning_rate)\n",
    "    #criterion = nn.BCELoss()\n",
    "    optimizer = torch.optim.SGD(model.parameters(), lr=learning_rate)\n",
    "    criterion = nn.CrossEntropyLoss()\n",
    "    \n",
    "    for epoch in range(epochs):\n",
    "        model.train()\n",
    "        total_loss = 0\n",
    "        loss_epoch = []\n",
    "\n",
    "        for cloud_indices, context_indices, labels in train_loader:\n",
    "            \n",
    "            # Forward pass\n",
    "            predictions = model(cloud_indices, context_indices, labels)\n",
    "            loss = criterion(predictions.squeeze(), labels)\n",
    "            total_loss += loss.item()\n",
    "            loss_epoch.append(loss.item())\n",
    "            \n",
    "            # Backward and optimize\n",
    "            optimizer.zero_grad()\n",
    "            loss.backward()\n",
    "            optimizer.step()\n",
    "\n",
    "        \n",
    "        #Metricas del conjunto de validación\n",
    "        model.eval()\n",
    "        tuning_metric = model_eval(val_loader, model, criterion)\n",
    "        total_loss = np.mean(loss_epoch)\n",
    "\n",
    "\n",
    "        print(f'Epoch {epoch}, Loss: {total_loss}, Val loss: {tuning_metric}')"
   ]
  },
  {
   "cell_type": "code",
   "execution_count": 20,
   "metadata": {},
   "outputs": [],
   "source": [
    "from torch.utils.data import DataLoader, TensorDataset\n",
    "\n",
    "batch_size = 32\n",
    "num_workers = 2\n",
    "\n",
    "#Entrenamiento\n",
    "train_dataset = TensorDataset(torch.tensor([ [pos_pairs[0]]+ [p[0] for p in neg_pairs] for pos_pairs, neg_pairs in zip(Good_Samples_train, Bad_Samples_train) ],dtype=torch.long), #Cloud\n",
    "                              torch.tensor([ [pos_pairs[1]]+ [p[1] for p in neg_pairs] for pos_pairs, neg_pairs in zip(Good_Samples_train, Bad_Samples_train) ],dtype=torch.long), #Context\n",
    "                              torch.tensor([[1] + [0]*(len(neg_pairs)) for pos_pairs, neg_pairs in zip(Good_Samples_train, Bad_Samples_train)] , dtype=torch.float ))\n",
    "\n",
    "train_loader = DataLoader(train_dataset,\n",
    "                          batch_size=batch_size,\n",
    "                          num_workers=num_workers,\n",
    "                          shuffle=True)\n",
    "\n",
    "#Validacion\n",
    "val_dataset = TensorDataset(torch.tensor([ [pos_pairs[0]]+ [p[0] for p in neg_pairs] for pos_pairs, neg_pairs in zip(Good_Samples_val, Bad_Samples_val) ],dtype=torch.long), #Cloud\n",
    "                              torch.tensor([ [pos_pairs[1]]+ [p[1] for p in neg_pairs] for pos_pairs, neg_pairs in zip(Good_Samples_val, Bad_Samples_val) ],dtype=torch.long), #Context\n",
    "                              torch.tensor([[1]+ [0]*(len(neg_pairs)) for pos_pairs, neg_pairs in zip(Good_Samples_val, Bad_Samples_val)] , dtype=torch.float ))\n",
    "\n",
    "val_loader = DataLoader(train_dataset,\n",
    "                          batch_size=batch_size,\n",
    "                          num_workers=num_workers,\n",
    "                          shuffle=False)\n"
   ]
  },
  {
   "cell_type": "code",
   "execution_count": 21,
   "metadata": {},
   "outputs": [
    {
     "name": "stdout",
     "output_type": "stream",
     "text": [
      "GS shape: torch.Size([32, 16])\n",
      "BS shape: torch.Size([32, 16])\n",
      "Label shape: torch.Size([32, 16])\n"
     ]
    }
   ],
   "source": [
    "batch = next(iter(train_loader))\n",
    "print(f'GS shape: {batch[0].shape}')\n",
    "print(f'BS shape: {batch[1].shape}')\n",
    "print(f'Label shape: {batch[2].shape}')"
   ]
  },
  {
   "cell_type": "code",
   "execution_count": 22,
   "metadata": {},
   "outputs": [
    {
     "data": {
      "text/plain": [
       "722400"
      ]
     },
     "execution_count": 22,
     "metadata": {},
     "output_type": "execute_result"
    }
   ],
   "source": [
    "len(Good_Samples)"
   ]
  },
  {
   "cell_type": "code",
   "execution_count": 23,
   "metadata": {},
   "outputs": [
    {
     "name": "stdout",
     "output_type": "stream",
     "text": [
      "Epoch 0, Loss: 2.791197028931061, Val loss: 2.7706630194834037\n",
      "Epoch 1, Loss: 2.7422569235165914, Val loss: 2.7067372621623913\n"
     ]
    },
    {
     "ename": "KeyboardInterrupt",
     "evalue": "",
     "output_type": "error",
     "traceback": [
      "\u001b[0;31m---------------------------------------------------------------------------\u001b[0m",
      "\u001b[0;31mKeyboardInterrupt\u001b[0m                         Traceback (most recent call last)",
      "Cell \u001b[0;32mIn[23], line 9\u001b[0m\n\u001b[1;32m      5\u001b[0m model \u001b[38;5;241m=\u001b[39m SGNSModel(num_clouds, embedding_dim, K)\n\u001b[1;32m      7\u001b[0m \u001b[38;5;66;03m#print(model.word_embeddings(torch.tensor(0, dtype=torch.long)))\u001b[39;00m\n\u001b[1;32m      8\u001b[0m \u001b[38;5;66;03m# Entrenar el modelo\u001b[39;00m\n\u001b[0;32m----> 9\u001b[0m \u001b[43mtrain_model\u001b[49m\u001b[43m(\u001b[49m\u001b[43mmodel\u001b[49m\u001b[43m,\u001b[49m\u001b[43m \u001b[49m\u001b[43mtrain_loader\u001b[49m\u001b[43m,\u001b[49m\u001b[43m \u001b[49m\u001b[43mval_loader\u001b[49m\u001b[43m,\u001b[49m\u001b[43m \u001b[49m\u001b[43mepochs\u001b[49m\u001b[38;5;241;43m=\u001b[39;49m\u001b[38;5;241;43m100\u001b[39;49m\u001b[43m,\u001b[49m\u001b[43m \u001b[49m\u001b[43mlearning_rate\u001b[49m\u001b[38;5;241;43m=\u001b[39;49m\u001b[38;5;241;43m0.0001\u001b[39;49m\u001b[43m)\u001b[49m\n\u001b[1;32m     10\u001b[0m \u001b[38;5;66;03m#print(model.word_embeddings(torch.tensor(0, dtype=torch.long)))\u001b[39;00m\n",
      "Cell \u001b[0;32mIn[19], line 22\u001b[0m, in \u001b[0;36mtrain_model\u001b[0;34m(model, train_loader, val_loader, epochs, learning_rate)\u001b[0m\n\u001b[1;32m     19\u001b[0m loss_epoch\u001b[38;5;241m.\u001b[39mappend(loss\u001b[38;5;241m.\u001b[39mitem())\n\u001b[1;32m     21\u001b[0m \u001b[38;5;66;03m# Backward and optimize\u001b[39;00m\n\u001b[0;32m---> 22\u001b[0m \u001b[43moptimizer\u001b[49m\u001b[38;5;241;43m.\u001b[39;49m\u001b[43mzero_grad\u001b[49m\u001b[43m(\u001b[49m\u001b[43m)\u001b[49m\n\u001b[1;32m     23\u001b[0m loss\u001b[38;5;241m.\u001b[39mbackward()\n\u001b[1;32m     24\u001b[0m optimizer\u001b[38;5;241m.\u001b[39mstep()\n",
      "File \u001b[0;32m~/anaconda3/envs/machine-learning/lib/python3.9/site-packages/torch/_compile.py:24\u001b[0m, in \u001b[0;36m_disable_dynamo.<locals>.inner\u001b[0;34m(*args, **kwargs)\u001b[0m\n\u001b[1;32m     20\u001b[0m \u001b[38;5;129m@functools\u001b[39m\u001b[38;5;241m.\u001b[39mwraps(fn)\n\u001b[1;32m     21\u001b[0m \u001b[38;5;28;01mdef\u001b[39;00m \u001b[38;5;21minner\u001b[39m(\u001b[38;5;241m*\u001b[39margs, \u001b[38;5;241m*\u001b[39m\u001b[38;5;241m*\u001b[39mkwargs):\n\u001b[1;32m     22\u001b[0m     \u001b[38;5;28;01mimport\u001b[39;00m \u001b[38;5;21;01mtorch\u001b[39;00m\u001b[38;5;21;01m.\u001b[39;00m\u001b[38;5;21;01m_dynamo\u001b[39;00m\n\u001b[0;32m---> 24\u001b[0m     \u001b[38;5;28;01mreturn\u001b[39;00m \u001b[43mtorch\u001b[49m\u001b[38;5;241;43m.\u001b[39;49m\u001b[43m_dynamo\u001b[49m\u001b[38;5;241;43m.\u001b[39;49m\u001b[43mdisable\u001b[49m\u001b[43m(\u001b[49m\u001b[43mfn\u001b[49m\u001b[43m,\u001b[49m\u001b[43m \u001b[49m\u001b[43mrecursive\u001b[49m\u001b[43m)\u001b[49m\u001b[43m(\u001b[49m\u001b[38;5;241;43m*\u001b[39;49m\u001b[43margs\u001b[49m\u001b[43m,\u001b[49m\u001b[43m \u001b[49m\u001b[38;5;241;43m*\u001b[39;49m\u001b[38;5;241;43m*\u001b[39;49m\u001b[43mkwargs\u001b[49m\u001b[43m)\u001b[49m\n",
      "File \u001b[0;32m~/anaconda3/envs/machine-learning/lib/python3.9/site-packages/torch/_dynamo/eval_frame.py:492\u001b[0m, in \u001b[0;36m_TorchDynamoContext.__call__.<locals>._fn\u001b[0;34m(*args, **kwargs)\u001b[0m\n\u001b[1;32m    490\u001b[0m \u001b[38;5;28;01mfinally\u001b[39;00m:\n\u001b[1;32m    491\u001b[0m     set_eval_frame(prior)\n\u001b[0;32m--> 492\u001b[0m     \u001b[38;5;28;01mif\u001b[39;00m \u001b[38;5;28;43mself\u001b[39;49m\u001b[38;5;241;43m.\u001b[39;49m\u001b[43msave_config\u001b[49m:\n\u001b[1;32m    493\u001b[0m         dynamo_config_ctx\u001b[38;5;241m.\u001b[39m\u001b[38;5;21m__exit__\u001b[39m(\u001b[38;5;28;01mNone\u001b[39;00m, \u001b[38;5;28;01mNone\u001b[39;00m, \u001b[38;5;28;01mNone\u001b[39;00m)\n\u001b[1;32m    494\u001b[0m     backend_ctx\u001b[38;5;241m.\u001b[39m\u001b[38;5;21m__exit__\u001b[39m(\u001b[38;5;28;01mNone\u001b[39;00m, \u001b[38;5;28;01mNone\u001b[39;00m, \u001b[38;5;28;01mNone\u001b[39;00m)\n",
      "\u001b[0;31mKeyboardInterrupt\u001b[0m: "
     ]
    }
   ],
   "source": [
    "num_clouds = len(Nubes)\n",
    "embedding_dim = 50\n",
    "\n",
    "# Inicializar modelo\n",
    "model = SGNSModel(num_clouds, embedding_dim, K)\n",
    "\n",
    "#print(model.word_embeddings(torch.tensor(0, dtype=torch.long)))\n",
    "# Entrenar el modelo\n",
    "train_model(model, train_loader, val_loader, epochs=100, learning_rate=0.0001)\n",
    "#print(model.word_embeddings(torch.tensor(0, dtype=torch.long)))"
   ]
  },
  {
   "cell_type": "code",
   "execution_count": null,
   "metadata": {},
   "outputs": [
    {
     "data": {
      "text/plain": [
       "0.9010021835977885"
      ]
     },
     "execution_count": 45,
     "metadata": {},
     "output_type": "execute_result"
    }
   ],
   "source": [
    "model_eval(val_loader, model, nn.BCELoss())"
   ]
  },
  {
   "cell_type": "code",
   "execution_count": null,
   "metadata": {},
   "outputs": [],
   "source": [
    "def print_closest_clouds(model, cloud):\n",
    "    cloud_emb = model.word_embeddings(torch.tensor(cloud, dtype=torch.long))\n",
    "    dists = torch.norm(model.word_embeddings.weight - cloud_emb, dim=1 ).detach()\n",
    "    #print(dists)\n",
    "    lst = sorted(enumerate(dists.numpy()), key=lambda x: x[1])\n",
    "    print(lst)\n",
    "    for idx, difference in lst[1:10+1]:\n",
    "        print(\"idx:\", idx, \"dif:\", difference)\n",
    "\n",
    "    return lst[1:10+1]"
   ]
  },
  {
   "cell_type": "code",
   "execution_count": null,
   "metadata": {},
   "outputs": [
    {
     "name": "stdout",
     "output_type": "stream",
     "text": [
      "[(1, 0.0), (703, 7.0829234), (546, 7.414237), (1920, 7.436479), (743, 7.4612637), (1631, 7.5890546), (77, 7.606358), (959, 7.6510687), (301, 7.7678175), (2570, 7.7733827), (998, 7.8263083), (2312, 7.826765), (2254, 7.865558), (2996, 7.8983374), (3151, 7.9111576), (3185, 7.9424863), (3118, 7.944272), (837, 7.9668913), (64, 7.992539), (2567, 8.021534), (3287, 8.077697), (2939, 8.096482), (3052, 8.104875), (1298, 8.143309), (1143, 8.158969), (1483, 8.172576), (803, 8.195781), (1564, 8.201587), (1256, 8.204476), (2099, 8.211643), (1779, 8.267351), (2944, 8.275453), (1703, 8.27761), (2441, 8.27937), (3605, 8.283614), (1932, 8.283923), (736, 8.2879095), (745, 8.290983), (1508, 8.306344), (1705, 8.306842), (1296, 8.309659), (1930, 8.324193), (2170, 8.329973), (1277, 8.345503), (479, 8.347055), (2427, 8.3497305), (3484, 8.36144), (448, 8.370953), (1719, 8.377271), (1879, 8.387008), (887, 8.388208), (2005, 8.402353), (7, 8.40872), (2087, 8.42561), (2810, 8.4281645), (1914, 8.435479), (2279, 8.437746), (1653, 8.451643), (784, 8.468661), (1610, 8.480412), (794, 8.481474), (1694, 8.485761), (2557, 8.491276), (1165, 8.493082), (2592, 8.496293), (3126, 8.498587), (876, 8.515242), (1690, 8.517061), (1188, 8.520611), (826, 8.522404), (1091, 8.527896), (2487, 8.535567), (231, 8.543066), (53, 8.551137), (394, 8.553321), (3481, 8.553668), (1702, 8.55839), (1815, 8.558494), (1581, 8.560389), (3559, 8.567532), (2667, 8.57092), (2967, 8.571673), (1286, 8.576608), (2910, 8.577147), (890, 8.578784), (2379, 8.582791), (2349, 8.588939), (1608, 8.590633), (3261, 8.593418), (2131, 8.593721), (3585, 8.593775), (2811, 8.601693), (776, 8.605469), (1522, 8.607624), (1385, 8.610519), (1947, 8.61275), (1720, 8.6144495), (824, 8.622761), (1021, 8.624376), (2296, 8.62839), (1176, 8.62984), (2622, 8.631939), (89, 8.639325), (692, 8.64547), (582, 8.645844), (1324, 8.6518755), (2020, 8.654227), (821, 8.65954), (2673, 8.663332), (33, 8.669477), (1748, 8.670549), (176, 8.671658), (2154, 8.681743), (2052, 8.685997), (760, 8.6948), (2912, 8.697049), (2064, 8.701139), (3095, 8.701917), (3178, 8.702527), (1791, 8.706749), (343, 8.70881), (2970, 8.709413), (1073, 8.711273), (3103, 8.711602), (219, 8.715414), (152, 8.717561), (926, 8.719281), (3492, 8.72362), (2356, 8.726615), (1146, 8.726865), (2392, 8.727108), (1591, 8.73518), (131, 8.735512), (805, 8.737271), (1036, 8.740561), (3102, 8.747218), (3591, 8.757551), (120, 8.758129), (481, 8.758247), (2375, 8.761717), (2184, 8.761938), (1380, 8.765315), (2851, 8.773775), (3387, 8.776578), (1218, 8.785379), (2596, 8.786263), (1900, 8.791771), (1562, 8.79392), (207, 8.795303), (531, 8.796203), (3242, 8.797348), (222, 8.798996), (2680, 8.801346), (2059, 8.802063), (2887, 8.808065), (1484, 8.810598), (3549, 8.81336), (2525, 8.816769), (100, 8.82184), (2913, 8.827238), (1253, 8.82831), (3303, 8.829493), (3606, 8.832294), (680, 8.83633), (171, 8.836971), (3416, 8.83758), (3587, 8.842759), (2095, 8.84497), (216, 8.852027), (2691, 8.852876), (2300, 8.853799), (170, 8.857787), (75, 8.866121), (2568, 8.867132), (1529, 8.875428), (381, 8.878912), (1279, 8.879491), (1744, 8.880188), (2435, 8.880491), (1975, 8.881777), (2101, 8.8835945), (124, 8.886043), (261, 8.890988), (2171, 8.89567), (1787, 8.896219), (3411, 8.896275), (2607, 8.898259), (2160, 8.902026), (2988, 8.906283), (1024, 8.908403), (1217, 8.9091425), (2774, 8.909148), (624, 8.910149), (1238, 8.911327), (1576, 8.911708), (715, 8.912416), (3132, 8.9129305), (3159, 8.914534), (2827, 8.915358), (315, 8.917969), (3433, 8.922272), (1572, 8.922717), (2534, 8.926263), (1683, 8.929039), (1548, 8.932951), (439, 8.93472), (2183, 8.940887), (3027, 8.942495), (3454, 8.942877), (3152, 8.943771), (385, 8.944524), (1655, 8.946065), (1513, 8.949093), (266, 8.950036), (1439, 8.952152), (2840, 8.957076), (1741, 8.957662), (397, 8.959722), (1403, 8.9598055), (3542, 8.960847), (2847, 8.961779), (1054, 8.961785), (3554, 8.964035), (2238, 8.965297), (2431, 8.968488), (2278, 8.9697485), (3345, 8.973689), (698, 8.975115), (1793, 8.9818735), (2102, 8.984887), (1213, 8.985083), (2499, 8.988417), (1821, 8.991291), (3330, 8.9928), (187, 8.997487), (3548, 8.997815), (3477, 8.998766), (1665, 8.999659), (699, 9.000172), (3442, 9.001397), (2764, 9.002311), (1903, 9.003383), (742, 9.005112), (2444, 9.00887), (2425, 9.015318), (3545, 9.017813), (903, 9.0214205), (1711, 9.022733), (2504, 9.02394), (213, 9.024668), (3490, 9.0276), (1841, 9.028837), (2869, 9.030685), (3082, 9.031164), (402, 9.032906), (568, 9.034251), (2096, 9.035737), (3302, 9.0362425), (3025, 9.036254), (1727, 9.036878), (1183, 9.039771), (2333, 9.040333), (565, 9.041955), (741, 9.047361), (2208, 9.050064), (25, 9.050138), (349, 9.050219), (1100, 9.052427), (3556, 9.052971), (3410, 9.053329), (1735, 9.05374), (1762, 9.055166), (3188, 9.056804), (3467, 9.059435), (810, 9.060372), (2294, 9.060821), (717, 9.061442), (917, 9.062471), (30, 9.063947), (1085, 9.06626), (3216, 9.069344), (2659, 9.06979), (3491, 9.070769), (2325, 9.071247), (2559, 9.079083), (2031, 9.079246), (1084, 9.080266), (1424, 9.080807), (1682, 9.082522), (472, 9.08269), (2775, 9.083041), (746, 9.083542), (2190, 9.086474), (1500, 9.090047), (2784, 9.091081), (2075, 9.092378), (2084, 9.098384), (2326, 9.099013), (1260, 9.100223), (1826, 9.101814), (2773, 9.103349), (2706, 9.104138), (3469, 9.104158), (800, 9.105249), (678, 9.108161), (3282, 9.1098), (2409, 9.112431), (1230, 9.113438), (2419, 9.113598), (3112, 9.113933), (616, 9.116381), (3083, 9.118166), (2932, 9.119373), (1606, 9.120023), (2903, 9.120054), (3029, 9.1200695), (3091, 9.121233), (3044, 9.123323), (1427, 9.124538), (622, 9.12543), (81, 9.125478), (3440, 9.1257925), (2066, 9.129243), (3080, 9.1353), (2973, 9.138962), (3038, 9.139054), (3439, 9.141433), (809, 9.143141), (151, 9.144281), (3028, 9.146384), (2708, 9.147368), (1292, 9.14849), (2601, 9.150206), (1657, 9.15383), (2086, 9.158138), (640, 9.158205), (3090, 9.159187), (2971, 9.161862), (2532, 9.162459), (2640, 9.164355), (3607, 9.165072), (182, 9.166409), (2770, 9.167085), (312, 9.168938), (965, 9.170159), (3195, 9.171967), (589, 9.172343), (754, 9.173449), (2002, 9.174339), (339, 9.174847), (3567, 9.177299), (101, 9.179037), (949, 9.180982), (1282, 9.181869), (422, 9.182149), (2446, 9.185126), (538, 9.186923), (275, 9.187294), (3182, 9.18861), (700, 9.189604), (3023, 9.189989), (585, 9.190905), (2223, 9.191515), (1769, 9.193726), (475, 9.196345), (1057, 9.196423), (3374, 9.196793), (2172, 9.197227), (3124, 9.198327), (2247, 9.198398), (3464, 9.199935), (1222, 9.201791), (1185, 9.201945), (2290, 9.203357), (1710, 9.204132), (1209, 9.208155), (426, 9.208791), (2210, 9.21118), (2547, 9.21243), (2360, 9.213216), (577, 9.216284), (3356, 9.216659), (1550, 9.217466), (1008, 9.217793), (3241, 9.218994), (3146, 9.220319), (2553, 9.220364), (1389, 9.220732), (1652, 9.222762), (814, 9.2235365), (1511, 9.22421), (1490, 9.224582), (849, 9.22847), (2122, 9.229687), (3296, 9.233503), (2617, 9.234997), (2405, 9.235842), (3017, 9.236079), (2188, 9.239766), (628, 9.240292), (2047, 9.241634), (1133, 9.244255), (613, 9.246282), (979, 9.246735), (2353, 9.248415), (1760, 9.249765), (3063, 9.250262), (1539, 9.250701), (750, 9.252261), (2907, 9.252416), (854, 9.252425), (1262, 9.255987), (1374, 9.256477), (3291, 9.256777), (2014, 9.258516), (2920, 9.259199), (2561, 9.260087), (2815, 9.262569), (3354, 9.266834), (572, 9.268795), (1386, 9.27042), (1973, 9.271778), (2307, 9.271789), (825, 9.274342), (1595, 9.274849), (132, 9.275165), (1736, 9.275303), (569, 9.27572), (3462, 9.276232), (969, 9.276732), (2671, 9.277409), (648, 9.278162), (1890, 9.281943), (1569, 9.282583), (1448, 9.282921), (2565, 9.283839), (464, 9.284705), (1560, 9.2849655), (1967, 9.285239), (574, 9.288068), (2661, 9.288878), (1593, 9.289976), (3243, 9.29), (2941, 9.290154), (827, 9.29037), (2399, 9.290875), (924, 9.2909355), (992, 9.292815), (3311, 9.295), (1818, 9.295693), (852, 9.295771), (2388, 9.296852), (1196, 9.29722), (56, 9.297846), (491, 9.29899), (2776, 9.299197), (1928, 9.299524), (1554, 9.300628), (766, 9.302765), (1750, 9.304295), (2019, 9.304942), (2422, 9.305653), (155, 9.306233), (3154, 9.306876), (1345, 9.306959), (84, 9.307129), (323, 9.308005), (2569, 9.308871), (183, 9.31022), (3405, 9.312956), (2077, 9.315136), (1472, 9.316402), (2894, 9.316965), (608, 9.318648), (2844, 9.318731), (2647, 9.319276), (3079, 9.320728), (1171, 9.322071), (2878, 9.323153), (1609, 9.325807), (1528, 9.326001), (2169, 9.326854), (3355, 9.328566), (425, 9.328601), (2178, 9.333769), (753, 9.334282), (1972, 9.33448), (18, 9.335181), (431, 9.336037), (2806, 9.336128), (782, 9.336364), (870, 9.337521), (1014, 9.3387985), (487, 9.339153), (1319, 9.340235), (1784, 9.341064), (600, 9.341104), (2076, 9.344072), (3211, 9.346288), (1622, 9.347165), (2291, 9.349233), (459, 9.349622), (1808, 9.350625), (490, 9.352306), (2856, 9.352386), (861, 9.354083), (723, 9.354314), (1820, 9.355619), (3541, 9.356067), (1934, 9.356749), (2653, 9.357734), (3096, 9.359339), (1193, 9.359628), (2090, 9.360429), (3267, 9.360741), (891, 9.361625), (117, 9.363056), (2818, 9.364174), (2824, 9.365484), (285, 9.367249), (894, 9.369043), (1214, 9.369292), (2737, 9.369999), (2371, 9.373653), (364, 9.374106), (3298, 9.374257), (109, 9.374712), (2928, 9.374724), (23, 9.376461), (1749, 9.376565), (2934, 9.376867), (1158, 9.382566), (3110, 9.382631), (1992, 9.385366), (2402, 9.386003), (2145, 9.389473), (2202, 9.39401), (1317, 9.394364), (2662, 9.394573), (2916, 9.394596), (1489, 9.39805), (2923, 9.3983755), (1481, 9.400132), (2309, 9.400334), (2955, 9.4005785), (2926, 9.401231), (3156, 9.403617), (2522, 9.403807), (1263, 9.404055), (2250, 9.405699), (775, 9.406282), (602, 9.407547), (2107, 9.410127), (1895, 9.410276), (1237, 9.412896), (2248, 9.412921), (3262, 9.413421), (2864, 9.414313), (2519, 9.414509), (591, 9.414632), (811, 9.415581), (17, 9.415952), (2629, 9.416307), (208, 9.418372), (260, 9.42081), (264, 9.421011), (1831, 9.421281), (1757, 9.42214), (1077, 9.424058), (2195, 9.424178), (617, 9.424253), (2165, 9.424599), (532, 9.425115), (1541, 9.429821), (3164, 9.432491), (2136, 9.433624), (1701, 9.434261), (1544, 9.435843), (2449, 9.435985), (3294, 9.438455), (653, 9.439466), (3493, 9.440646), (3538, 9.440856), (2346, 9.441772), (2965, 9.443946), (3601, 9.4453), (2408, 9.445439), (2242, 9.446493), (1729, 9.446518), (652, 9.448792), (644, 9.450003), (3427, 9.45097), (449, 9.45152), (2432, 9.455569), (2779, 9.459648), (731, 9.460168), (1398, 9.462405), (435, 9.463995), (3320, 9.465164), (592, 9.467842), (3137, 9.46812), (2884, 9.46866), (223, 9.468783), (2056, 9.469088), (3224, 9.470104), (1566, 9.470254), (1015, 9.47063), (2537, 9.471039), (1517, 9.471331), (886, 9.47153), (1368, 9.472826), (2273, 9.475029), (2861, 9.475046), (1123, 9.478375), (586, 9.479345), (2100, 9.4807205), (287, 9.481244), (1413, 9.481619), (797, 9.48354), (3158, 9.484295), (3172, 9.487398), (553, 9.487695), (530, 9.488449), (3349, 9.489319), (1850, 9.48943), (2699, 9.4895), (3120, 9.489778), (2576, 9.490947), (466, 9.493186), (1881, 9.4939995), (3322, 9.49516), (158, 9.495206), (1518, 9.496544), (2572, 9.497192), (1614, 9.498362), (3238, 9.501167), (2527, 9.501385), (631, 9.50153), (2437, 9.50246), (3077, 9.504143), (36, 9.504914), (978, 9.505291), (3461, 9.50562), (610, 9.507216), (2269, 9.509574), (633, 9.510764), (2558, 9.5114975), (1944, 9.512162), (2836, 9.512475), (2571, 9.513935), (399, 9.5140505), (2664, 9.515025), (1300, 9.515406), (1338, 9.516725), (1445, 9.517313), (3255, 9.518441), (1250, 9.518722), (638, 9.51905), (262, 9.519113), (2272, 9.521576), (443, 9.523919), (1038, 9.524759), (3073, 9.52625), (895, 9.528203), (2796, 9.528634), (2456, 9.529737), (932, 9.530424), (878, 9.530839), (1033, 9.530958), (130, 9.531766), (1469, 9.532563), (3279, 9.532925), (1886, 9.533324), (3245, 9.534987), (3147, 9.5359335), (1278, 9.536225), (118, 9.536943), (2543, 9.537282), (962, 9.5374975), (892, 9.539238), (3438, 9.540045), (768, 9.5413), (2618, 9.541609), (2482, 9.541977), (241, 9.543072), (2937, 9.543884), (3328, 9.543979), (1836, 9.544359), (2486, 9.544455), (3119, 9.544683), (2452, 9.546142), (2528, 9.546689), (62, 9.548131), (2153, 9.549054), (3519, 9.550257), (1892, 9.551534), (1069, 9.552395), (3397, 9.553757), (1458, 9.555614), (2890, 9.556905), (1181, 9.5594425), (1965, 9.56101), (1063, 9.561196), (3043, 9.562438), (3127, 9.564887), (2270, 9.566842), (3396, 9.566862), (3174, 9.567017), (3076, 9.567302), (2829, 9.56829), (783, 9.568798), (3388, 9.56974), (217, 9.5701885), (748, 9.570434), (966, 9.572358), (20, 9.572966), (3248, 9.574902), (1041, 9.578594), (635, 9.579194), (889, 9.579452), (3050, 9.582829), (180, 9.58372), (242, 9.58551), (2072, 9.586577), (3058, 9.588055), (2906, 9.588865), (1661, 9.588996), (172, 9.589212), (362, 9.59004), (1819, 9.590226), (3213, 9.591422), (2716, 9.592365), (3107, 9.592601), (1578, 9.593144), (2968, 9.593304), (3344, 9.593485), (816, 9.595626), (457, 9.598359), (2078, 9.598378), (3167, 9.599642), (2670, 9.600257), (535, 9.601024), (961, 9.60108), (1221, 9.6014185), (340, 9.601818), (2458, 9.602248), (1812, 9.603205), (2007, 9.603871), (3257, 9.604064), (450, 9.60467), (785, 9.606463), (3210, 9.606651), (211, 9.607165), (2070, 9.608671), (3308, 9.610714), (2118, 9.610944), (2930, 9.611792), (1079, 9.61206), (415, 9.612118), (1205, 9.613009), (2641, 9.613016), (2174, 9.6137085), (2605, 9.614962), (2173, 9.615179), (383, 9.615333), (440, 9.616312), (350, 9.616423), (1322, 9.6166), (807, 9.616702), (1860, 9.61833), (1971, 9.620786), (1451, 9.621071), (3476, 9.622581), (2382, 9.622892), (3239, 9.623229), (2879, 9.623237), (83, 9.623481), (1998, 9.624148), (1478, 9.625651), (2123, 9.626965), (1868, 9.628187), (1830, 9.631807), (3293, 9.63393), (1939, 9.634943), (1186, 9.635199), (2181, 9.635746), (1023, 9.636266), (1224, 9.636719), (2292, 9.637001), (1206, 9.638447), (3389, 9.639626), (1575, 9.640004), (2992, 9.640375), (1108, 9.641736), (1463, 9.642495), (1596, 9.643326), (1743, 9.643341), (673, 9.644689), (661, 9.646258), (382, 9.646669), (1646, 9.647354), (2466, 9.648313), (19, 9.648359), (1407, 9.650482), (3506, 9.651563), (650, 9.652109), (1259, 9.653691), (3270, 9.654423), (1558, 9.655284), (787, 9.655884), (1283, 9.657233), (2293, 9.657292), (1546, 9.66021), (1288, 9.66053), (1538, 9.662295), (3041, 9.662452), (3013, 9.662965), (576, 9.6632185), (3141, 9.664833), (190, 9.665118), (2331, 9.665811), (1468, 9.666327), (413, 9.666334), (453, 9.667774), (1025, 9.668334), (2587, 9.669764), (1144, 9.670193), (2041, 9.670214), (3375, 9.670695), (1810, 9.671087), (3289, 9.671186), (1405, 9.672415), (2358, 9.673989), (977, 9.674549), (2335, 9.675549), (308, 9.678203), (659, 9.680894), (94, 9.68097), (660, 9.681841), (1082, 9.682041), (2901, 9.682463), (2317, 9.682494), (1020, 9.683674), (1098, 9.684092), (3598, 9.685566), (65, 9.686923), (2832, 9.687534), (3009, 9.687931), (3018, 9.689512), (1822, 9.689585), (1833, 9.689977), (2438, 9.691048), (1157, 9.691455), (571, 9.691702), (2253, 9.69293), (2989, 9.693463), (3325, 9.693585), (881, 9.694471), (215, 9.694725), (1806, 9.695425), (3339, 9.697322), (1013, 9.6981945), (1189, 9.699841), (1706, 9.69993), (163, 9.700526), (238, 9.701503), (2624, 9.702385), (943, 9.703146), (1611, 9.703826), (2479, 9.703843), (2891, 9.704938), (1505, 9.705098), (1270, 9.70679), (2026, 9.70686), (1242, 9.7079115), (1137, 9.708163), (390, 9.708602), (3393, 9.709205), (3551, 9.709711), (964, 9.709885), (251, 9.710703), (1587, 9.711497), (2889, 9.711577), (3022, 9.712036), (2702, 9.714418), (533, 9.715172), (729, 9.715349), (247, 9.715527), (1096, 9.715947), (3558, 9.716065), (2696, 9.717256), (1219, 9.71821), (3465, 9.71821), (2735, 9.718332), (50, 9.718703), (1697, 9.720983), (1919, 9.721275), (1620, 9.722981), (2347, 9.723065), (947, 9.723273), (1921, 9.7236185), (1579, 9.723623), (1470, 9.723686), (1236, 9.723958), (119, 9.724321), (2660, 9.72529), (1343, 9.727611), (1922, 9.728513), (3150, 9.728942), (3001, 9.729576), (2497, 9.729901), (3069, 9.73031), (866, 9.730763), (2021, 9.731092), (2853, 9.731358), (2715, 9.732233), (2193, 9.732494), (3128, 9.733145), (3065, 9.73486), (913, 9.735554), (2073, 9.736125), (1459, 9.736769), (1331, 9.737478), (2230, 9.737602), (3532, 9.737651), (2442, 9.737705), (1304, 9.738455), (874, 9.73886), (1585, 9.739042), (136, 9.739563), (657, 9.739863), (2509, 9.74088), (2134, 9.741656), (3602, 9.7417345), (2980, 9.742404), (1637, 9.743168), (2597, 9.74357), (2914, 9.743794), (901, 9.744129), (1605, 9.744279), (1759, 9.7443285), (831, 9.744834), (1337, 9.747316), (134, 9.747467), (2620, 9.747562), (2155, 9.74837), (470, 9.748461), (228, 9.748783), (3297, 9.749729), (3104, 9.750775), (3312, 9.751725), (3005, 9.751756), (2785, 9.751887), (619, 9.755689), (373, 9.757464), (942, 9.759802), (2249, 9.760321), (3447, 9.761341), (1078, 9.761684), (1600, 9.761849), (544, 9.76222), (2531, 9.763282), (2448, 9.764814), (2854, 9.765436), (68, 9.767003), (2389, 9.768031), (3571, 9.77011), (1896, 9.770411), (994, 9.772978), (2697, 9.773144), (418, 9.774531), (1943, 9.774996), (335, 9.776294), (2615, 9.776817), (3227, 9.776972), (2608, 9.778313), (2712, 9.778593), (1461, 9.778853), (985, 9.779414), (2067, 9.779989), (567, 9.780421), (2562, 9.781451), (2943, 9.781889), (3031, 9.781949), (1925, 9.783919), (2976, 9.785203), (948, 9.785368), (1068, 9.786581), (1882, 9.787071), (1945, 9.787546), (3603, 9.788039), (1570, 9.788314), (3007, 9.788457), (769, 9.789016), (1872, 9.789091), (3517, 9.789122), (527, 9.791493), (1154, 9.792538), (2831, 9.792777), (54, 9.793381), (1807, 9.794039), (1124, 9.794308), (3336, 9.795083), (1803, 9.796338), (2045, 9.797737), (642, 9.798224), (1773, 9.799966), (2665, 9.800843), (2830, 9.800929), (1179, 9.800932), (725, 9.801272), (1329, 9.801295), (138, 9.801762), (1377, 9.8021), (1507, 9.802426), (2822, 9.802789), (3149, 9.803402), (1423, 9.804003), (1869, 9.804562), (3125, 9.805943), (1409, 9.805967), (393, 9.806632), (1047, 9.808435), (2722, 9.808623), (548, 9.809591), (1115, 9.809764), (70, 9.809807), (2625, 9.809976), (3342, 9.810123), (2044, 9.810481), (3445, 9.811211), (1633, 9.811512), (1476, 9.811972), (102, 9.8120985), (1160, 9.812925), (1061, 9.812983), (1933, 9.813547), (2885, 9.81426), (685, 9.815764), (3483, 9.81588), (2942, 9.816122), (528, 9.817475), (695, 9.8179245), (801, 9.818726), (583, 9.818803), (2872, 9.819567), (3301, 9.819719), (1274, 9.820127), (552, 9.821172), (1220, 9.821829), (1432, 9.822145), (414, 9.822827), (468, 9.823227), (259, 9.823702), (2581, 9.82435), (408, 9.824353), (3340, 9.827847), (59, 9.828), (3422, 9.829448), (3049, 9.829777), (713, 9.829817), (3352, 9.830184), (361, 9.830645), (3324, 9.831017), (3498, 9.831244), (877, 9.8320875), (2369, 9.832428), (2643, 9.833291), (2225, 9.833804), (3569, 9.8341), (1669, 9.834534), (3317, 9.835223), (1580, 9.835443), (3600, 9.835886), (179, 9.836126), (3290, 9.836919), (980, 9.837876), (1632, 9.838491), (2475, 9.838645), (489, 9.838717), (1401, 9.839982), (3016, 9.8400755), (1856, 9.840308), (2595, 9.842303), (2211, 9.8427725), (1899, 9.842825), (1871, 9.842829), (1984, 9.843385), (87, 9.843891), (3263, 9.845649), (1852, 9.847727), (103, 9.848516), (563, 9.8503065), (3408, 9.850664), (3513, 9.850969), (392, 9.851415), (1027, 9.851868), (1346, 9.851929), (738, 9.852121), (1854, 9.852293), (1577, 9.852374), (764, 9.852394), (244, 9.854449), (2062, 9.854801), (727, 9.855035), (596, 9.855316), (2627, 9.856269), (2460, 9.858797), (2731, 9.858931), (2642, 9.859034), (469, 9.860295), (1396, 9.860383), (1848, 9.861302), (1117, 9.863557), (1094, 9.864563), (3381, 9.865513), (1917, 9.865942), (792, 9.866671), (2908, 9.868586), (612, 9.868676), (2674, 9.868876), (1334, 9.869975), (3285, 9.870458), (3343, 9.871068), (1358, 9.871652), (1902, 9.871698), (1516, 9.871785), (3184, 9.87276), (3430, 9.874366), (2098, 9.874837), (2039, 9.874927), (508, 9.875873), (2414, 9.876875), (1060, 9.877475), (2909, 9.878079), (192, 9.878248), (2430, 9.879805), (3020, 9.880601), (3046, 9.881863), (1383, 9.881874), (3192, 9.8822565), (2152, 9.883124), (2089, 9.883536), (618, 9.883982), (1166, 9.884979), (1297, 9.885351), (2304, 9.885514), (2900, 9.886099), (319, 9.888134), (126, 9.888526), (3575, 9.888602), (1691, 9.8889065), (184, 9.889553), (389, 9.890413), (488, 9.891633), (57, 9.891712), (39, 9.892149), (868, 9.8923645), (234, 9.892585), (375, 9.893073), (836, 9.89448), (2835, 9.894886), (2063, 9.897897), (1849, 9.898421), (2401, 9.898904), (630, 9.898951), (927, 9.899654), (2471, 9.899743), (2841, 9.900283), (1924, 9.900506), (1583, 9.900993), (882, 9.901598), (796, 9.90269), (3163, 9.903041), (684, 9.903071), (2103, 9.903593), (3468, 9.903961), (1106, 9.905695), (1162, 9.905992), (2009, 9.906148), (485, 9.9065075), (930, 9.906886), (2277, 9.908708), (1443, 9.909198), (263, 9.909369), (3443, 9.911109), (3064, 9.911305), (3265, 9.912047), (356, 9.912352), (201, 9.912467), (2609, 9.912675), (1961, 9.913776), (2787, 9.915206), (1574, 9.916194), (202, 9.916309), (793, 9.916869), (2893, 9.917577), (1202, 9.918128), (791, 9.919183), (1672, 9.9191885), (2501, 9.920052), (510, 9.922568), (2995, 9.923414), (545, 9.92442), (3441, 9.92523), (1910, 9.925744), (900, 9.92595), (626, 9.928853), (2880, 9.930123), (1475, 9.930127), (1251, 9.930786), (225, 9.931278), (963, 9.931722), (1999, 9.931764), (2166, 9.932814), (3181, 9.932935), (1118, 9.933293), (558, 9.933328), (194, 9.933467), (2149, 9.933676), (844, 9.934356), (2113, 9.936387), (1246, 9.93659), (1913, 9.93732), (309, 9.938228), (115, 9.938235), (1859, 9.9383), (3269, 9.938391), (2224, 9.941371), (3254, 9.941836), (1043, 9.942707), (1132, 9.943034), (500, 9.943279), (1212, 9.9434185), (1695, 9.943488), (2472, 9.944778), (1768, 9.945133), (26, 9.94662), (1210, 9.947372), (2797, 9.94818), (1693, 9.948385), (1780, 9.948989), (2330, 9.95154), (3271, 9.952277), (3299, 9.95263), (1012, 9.952754), (1226, 9.953328), (2342, 9.954342), (326, 9.954564), (2081, 9.955005), (3580, 9.9550495), (2071, 9.95577), (675, 9.956098), (3518, 9.95627), (82, 9.958519), (2895, 9.958699), (2544, 9.958934), (555, 9.959186), (1460, 9.959797), (846, 9.960513), (1422, 9.960883), (1093, 9.96122), (3456, 9.962268), (570, 9.96336), (495, 9.963459), (1624, 9.963957), (47, 9.964341), (63, 9.964523), (701, 9.964927), (2470, 9.96598), (1360, 9.966119), (1722, 9.966196), (1001, 9.966805), (1387, 9.967769), (1929, 9.967899), (2839, 9.969101), (248, 9.970963), (2337, 9.971875), (2450, 9.972247), (597, 9.972374), (1509, 9.973187), (1291, 9.974559), (1976, 9.974663), (655, 9.976076), (1444, 9.976646), (2686, 9.977199), (936, 9.977309), (1128, 9.978154), (3326, 9.978638), (781, 9.978946), (996, 9.979197), (2882, 9.979589), (10, 9.979814), (1563, 9.980134), (1333, 9.980303), (1688, 9.981122), (2053, 9.982084), (169, 9.982209), (730, 9.982879), (598, 9.983183), (177, 9.983237), (1497, 9.983427), (3191, 9.983644), (2837, 9.983738), (1643, 9.984379), (3212, 9.986449), (1140, 9.986474), (929, 9.986654), (3139, 9.986975), (654, 9.987301), (780, 9.987604), (407, 9.98892), (436, 9.989822), (2949, 9.990197), (604, 9.990848), (3505, 9.991013), (2948, 9.991328), (1994, 9.991336), (462, 9.991958), (1173, 9.991995), (305, 9.993179), (1276, 9.994425), (2613, 9.994664), (1359, 9.996037), (1067, 9.99733), (1433, 9.997998), (2384, 9.99873), (3557, 9.998761), (2069, 9.999356), (1734, 9.99941), (2383, 9.999418), (3419, 10.00092), (2428, 10.000935), (1875, 10.001022), (185, 10.001035), (1169, 10.001557), (1621, 10.002062), (2991, 10.002538), (2046, 10.004972), (306, 10.0055275), (1255, 10.006117), (1290, 10.006804), (590, 10.007026), (818, 10.007556), (2477, 10.007799), (2505, 10.008102), (1271, 10.008386), (434, 10.010105), (928, 10.010622), (3307, 10.011317), (2245, 10.012245), (1824, 10.012278), (504, 10.013349), (1635, 10.013669), (1829, 10.014964), (1731, 10.017327), (1363, 10.0185585), (956, 10.01979), (1105, 10.020919), (946, 10.021523), (72, 10.021801), (1281, 10.023795), (2876, 10.025826), (2555, 10.02605), (3466, 10.027504), (3244, 10.027547), (3186, 10.027717), (1056, 10.028313), (1678, 10.028883), (2439, 10.028963), (3281, 10.029292), (3264, 10.03019), (1547, 10.030883), (1482, 10.03191), (2585, 10.032047), (726, 10.033207), (3249, 10.033321), (3594, 10.034067), (857, 10.037111), (149, 10.0377445), (3070, 10.038216), (759, 10.039249), (855, 10.039382), (1659, 10.041036), (1184, 10.041239), (629, 10.041594), (1228, 10.042554), (442, 10.042733), (1467, 10.043545), (3003, 10.0447645), (2654, 10.045234), (38, 10.046799), (2649, 10.046807), (1216, 10.048063), (990, 10.049004), (2012, 10.049099), (833, 10.04934), (2982, 10.049928), (3385, 10.050054), (2032, 10.050641), (3392, 10.05186), (2109, 10.052547), (2738, 10.053251), (733, 10.054203), (1430, 10.055574), (2436, 10.055692), (697, 10.056166), (3364, 10.056868), (2406, 10.05723), (1502, 10.057279), (188, 10.057561), (1790, 10.057882), (2701, 10.058196), (3304, 10.060609), (1601, 10.061894), (1640, 10.0636215), (2917, 10.064411), (1011, 10.064587), (2385, 10.064954), (2748, 10.065678), (166, 10.066626), (1048, 10.067198), (1724, 10.067823), (159, 10.06942), (1083, 10.069736), (842, 10.069795), (719, 10.0714855), (429, 10.071757), (2142, 10.072438), (384, 10.073327), (2311, 10.073486), (1411, 10.074013), (3272, 10.074283), (2663, 10.074365), (478, 10.074643), (1182, 10.074734), (92, 10.075718), (14, 10.076044), (804, 10.077562), (752, 10.078183), (2138, 10.078303), (2986, 10.07893), (322, 10.079862), (860, 10.080121), (3133, 10.080332), (2234, 10.080708), (2997, 10.082863), (139, 10.083214), (3341, 10.083846), (3260, 10.083881), (1155, 10.084178), (1634, 10.085592), (2132, 10.085952), (1553, 10.086814), (1323, 10.087027), (3335, 10.087682), (2362, 10.088311), (3305, 10.088425), (154, 10.08847), (3360, 10.089193), (3599, 10.090275), (2252, 10.091529), (2447, 10.092148), (2484, 10.093293), (812, 10.093494), (1225, 10.093619), (497, 10.094851), (1840, 10.095267), (3592, 10.095745), (921, 10.096205), (1617, 10.097915), (922, 10.098368), (2301, 10.099107), (2990, 10.099218), (1029, 10.09962), (707, 10.099886), (599, 10.100727), (2105, 10.102147), (564, 10.102762), (2902, 10.10283), (2116, 10.102831), (1775, 10.103052), (195, 10.103152), (1017, 10.103418), (2218, 10.103745), (2875, 10.105671), (3246, 10.1058445), (773, 10.105939), (2316, 10.107127), (1597, 10.1074705), (252, 10.108194), (3382, 10.113204), (122, 10.113595), (712, 10.114872), (1235, 10.115491), (2652, 10.115893), (767, 10.116443), (1485, 10.116632), (432, 10.116681), (1607, 10.117118), (2578, 10.117145), (1320, 10.117744), (2074, 10.118272), (802, 10.1188755), (3300, 10.118951), (2244, 10.119111), (1712, 10.119194), (1316, 10.119705), (663, 10.119831), (3522, 10.121041), (2280, 10.121938), (517, 10.122166), (524, 10.122542), (239, 10.123006), (1177, 10.123448), (156, 10.124312), (1121, 10.12507), (1437, 10.125741), (3134, 10.126404), (3423, 10.126725), (3568, 10.127198), (2368, 10.1276), (197, 10.12768), (314, 10.127686), (80, 10.127977), (3108, 10.128313), (12, 10.128335), (2018, 10.1311455), (603, 10.132125), (1347, 10.132177), (1471, 10.13218), (1152, 10.132814), (2626, 10.134341), (2289, 10.134773), (2378, 10.135974), (1503, 10.136513), (2198, 10.137178), (2421, 10.13783), (1556, 10.137941), (1120, 10.139817), (2219, 10.139825), (774, 10.140804), (549, 10.14158), (1480, 10.141754), (3232, 10.142139), (806, 10.142274), (2488, 10.142562), (2604, 10.14291), (914, 10.143249), (2411, 10.144342), (3004, 10.14455), (1794, 10.144649), (3380, 10.145117), (2329, 10.145922), (2037, 10.1460495), (272, 10.14646), (1813, 10.146687), (1986, 10.147), (676, 10.148101), (3480, 10.148122), (1215, 10.148359), (643, 10.149511), (3489, 10.1495695), (1644, 10.150005), (24, 10.150372), (2340, 10.151012), (2877, 10.151524), (1044, 10.152022), (2632, 10.15213), (193, 10.154096), (2681, 10.154657), (828, 10.154949), (3200, 10.155477), (3612, 10.155522), (1675, 10.1557865), (3378, 10.155916), (1335, 10.155934), (458, 10.156428), (2862, 10.157785), (904, 10.159513), (2130, 10.159571), (2196, 10.159639), (1046, 10.159995), (2022, 10.162472), (307, 10.162737), (2804, 10.163481), (3019, 10.163763), (997, 10.164455), (1434, 10.1648445), (112, 10.164857), (1809, 10.165499), (542, 10.16633), (3501, 10.166524), (3259, 10.16702), (2963, 10.167084), (3362, 10.167202), (1625, 10.168219), (2960, 10.168437), (667, 10.168529), (1269, 10.169418), (2034, 10.169685), (3482, 10.17002), (3173, 10.17157), (1937, 10.172007), (2305, 10.172068), (621, 10.173353), (237, 10.173503), (916, 10.173932), (365, 10.174132), (353, 10.174431), (230, 10.175406), (3563, 10.176218), (1355, 10.178944), (2899, 10.179195), (1677, 10.179966), (2001, 10.180687), (1732, 10.181543), (2540, 10.181603), (2639, 10.183075), (677, 10.183419), (1960, 10.183987), (2809, 10.184566), (786, 10.184951), (3371, 10.185448), (1692, 10.185767), (2258, 10.187529), (295, 10.188053), (1679, 10.188763), (3026, 10.188795), (3391, 10.188855), (2015, 10.19062), (146, 10.190921), (1616, 10.19228), (611, 10.193006), (1568, 10.193377), (1707, 10.194744), (2332, 10.19707), (88, 10.197188), (1893, 10.197258), (2518, 10.1979265), (270, 10.198998), (3316, 10.2001095), (902, 10.200675), (1016, 10.20109), (3047, 10.201533), (1716, 10.201626), (755, 10.201807), (529, 10.203271), (2924, 10.2046385), (496, 10.206018), (271, 10.206055), (1356, 10.206705), (1349, 10.206962), (920, 10.207812), (2339, 10.208272), (3333, 10.208834), (2148, 10.2095585), (28, 10.20989), (2377, 10.210151), (3160, 10.210675), (639, 10.211175), (3228, 10.211192), (2789, 10.211221), (1454, 10.211942), (2474, 10.214691), (1315, 10.215305), (286, 10.215458), (2376, 10.216528), (3284, 10.217881), (296, 10.218192), (337, 10.219256), (406, 10.2196245), (747, 10.220617), (3395, 10.222131), (2550, 10.222876), (1532, 10.223755), (3074, 10.223978), (3472, 10.224966), (2788, 10.225175), (2162, 10.225617), (2896, 10.225709), (3060, 10.226187), (1650, 10.226254), (1878, 10.226722), (721, 10.227067), (3530, 10.227123), (142, 10.227248), (3596, 10.22747), (1116, 10.227744), (2612, 10.228372), (1109, 10.229095), (1798, 10.230182), (2091, 10.230373), (1457, 10.230553), (2678, 10.230585), (21, 10.231397), (1167, 10.231679), (1512, 10.232324), (2503, 10.232442), (1388, 10.232698), (292, 10.232937), (1163, 10.233284), (1306, 10.233347), (1211, 10.234625), (666, 10.235556), (3087, 10.236106), (1174, 10.237427), (2496, 10.237525), (1897, 10.2376), (1075, 10.238137), (410, 10.238229), (2781, 10.238449), (1050, 10.239708), (1567, 10.240172), (1125, 10.240406), (1161, 10.240615), (1289, 10.24066), (445, 10.240763), (147, 10.240852), (249, 10.242359), (2493, 10.242699), (1149, 10.243119), (1723, 10.243273), (2732, 10.243976), (49, 10.244674), (73, 10.245097), (1598, 10.245668), (1535, 10.246366), (607, 10.246432), (2283, 10.246877), (2741, 10.249156), (1104, 10.249294), (232, 10.249654), (557, 10.251289), (2704, 10.251376), (772, 10.252541), (2843, 10.252609), (3171, 10.252702), (420, 10.253114), (2319, 10.253209), (2826, 10.254173), (3168, 10.254867), (584, 10.255181), (1966, 10.256634), (3572, 10.256637), (2010, 10.256795), (3062, 10.257245), (1438, 10.259275), (1142, 10.259514), (3478, 10.260519), (1039, 10.260683), (2310, 10.260798), (2267, 10.260927), (2092, 10.261146), (1909, 10.26125), (2417, 10.261802), (1145, 10.262152), (999, 10.262383), (1138, 10.26244), (269, 10.262704), (1344, 10.262774), (2792, 10.264196), (302, 10.264589), (451, 10.264647), (830, 10.26479), (1792, 10.264936), (2724, 10.26494), (950, 10.265097), (388, 10.265242), (2733, 10.266834), (363, 10.267219), (226, 10.267847), (3436, 10.268312), (1828, 10.268695), (452, 10.268931), (1656, 10.270753), (3093, 10.271288), (347, 10.271603), (880, 10.271739), (411, 10.271748), (2143, 10.2722), (1523, 10.273232), (1494, 10.273556), (2295, 10.275002), (371, 10.275124), (137, 10.275405), (111, 10.275419), (369, 10.275566), (2754, 10.276945), (1783, 10.2771), (1958, 10.277375), (1950, 10.2780485), (3546, 10.278336), (2821, 10.278351), (227, 10.278558), (1326, 10.278933), (2936, 10.279289), (3406, 10.279681), (883, 10.27971), (121, 10.280126), (1533, 10.280548), (1164, 10.280631), (688, 10.280633), (2560, 10.280693), (740, 10.282097), (1847, 10.282818), (1800, 10.282965), (3597, 10.283852), (3494, 10.284495), (645, 10.284697), (1584, 10.284769), (3225, 10.285012), (1404, 10.28576), (3097, 10.285944), (888, 10.286177), (2259, 10.287253), (3359, 10.287299), (74, 10.287416), (1515, 10.287806), (758, 10.287875), (203, 10.287901), (1492, 10.28869), (2755, 10.2889595), (991, 10.289065), (31, 10.290256), (1726, 10.290296), (502, 10.290793), (3535, 10.291133), (2182, 10.2917385), (2556, 10.29208), (474, 10.2923), (328, 10.293451), (670, 10.294395), (3475, 10.2947235), (1153, 10.294868), (867, 10.295243), (2120, 10.295747), (427, 10.296095), (3502, 10.29617), (2187, 10.296628), (2051, 10.297089), (160, 10.297142), (1774, 10.297142), (243, 10.29825), (2008, 10.29842), (3527, 10.298455), (3576, 10.298571), (1441, 10.298936), (871, 10.299088), (522, 10.299115), (2705, 10.301296), (3611, 10.301506), (372, 10.302), (843, 10.3039255), (42, 10.304497), (647, 10.305039), (2398, 10.305185), (76, 10.305615), (1453, 10.305852), (1823, 10.305908), (3000, 10.306518), (291, 10.306646), (3321, 10.30752), (3034, 10.307628), (1136, 10.308405), (313, 10.308668), (3539, 10.308892), (2264, 10.309918), (3088, 10.310719), (509, 10.311763), (1510, 10.311837), (3014, 10.31186), (1031, 10.312038), (2146, 10.312826), (368, 10.313066), (1446, 10.31351), (683, 10.313716), (1449, 10.314722), (2725, 10.315525), (3153, 10.315538), (2416, 10.318709), (1266, 10.3189945), (1265, 10.319108), (1351, 10.319303), (78, 10.32022), (2977, 10.320445), (1839, 10.320746), (1369, 10.320834), (3346, 10.321246), (521, 10.3215275), (2767, 10.323037), (380, 10.324165), (1969, 10.324283), (2397, 10.324634), (2478, 10.325031), (2520, 10.325888), (3199, 10.326296), (198, 10.326349), (1295, 10.32637), (2929, 10.326745), (1832, 10.3268175), (2006, 10.326917), (3075, 10.329011), (289, 10.331343), (2957, 10.332258), (3536, 10.332282), (1658, 10.332683), (1066, 10.333938), (2711, 10.334784), (3197, 10.334815), (1168, 10.335304), (2958, 10.33535), (3275, 10.335511), (254, 10.335551), (2723, 10.336011), (221, 10.336079), (1428, 10.336202), (1070, 10.3392105), (91, 10.33947), (2858, 10.340726), (2275, 10.341262), (1751, 10.341552), (896, 10.341869), (1885, 10.342241), (1912, 10.342721), (606, 10.342958), (3056, 10.343447), (1935, 10.34387), (206, 10.344445), (808, 10.3447), (1799, 10.345428), (1064, 10.345558), (2813, 10.346283), (2766, 10.3468275), (360, 10.347009), (3384, 10.347063), (3292, 10.347155), (6, 10.347278), (1855, 10.347421), (1864, 10.347527), (1208, 10.347903), (3081, 10.348908), (3032, 10.349246), (3247, 10.349454), (503, 10.349677), (338, 10.353657), (938, 10.354112), (282, 10.354792), (1772, 10.355304), (1874, 10.355887), (2465, 10.356333), (515, 10.356395), (214, 10.35685), (540, 10.358181), (1858, 10.35891), (199, 10.359346), (288, 10.360533), (463, 10.360793), (1802, 10.361035), (1795, 10.36117), (2933, 10.362366), (480, 10.362509), (967, 10.3628435), (2695, 10.362923), (316, 10.363249), (3564, 10.365889), (3117, 10.365894), (1156, 10.366924), (1514, 10.367377), (153, 10.368239), (550, 10.371226), (1002, 10.3715105), (1375, 10.371514), (1330, 10.372925), (482, 10.373354), (2370, 10.373724), (2842, 10.374033), (2298, 10.37426), (2947, 10.375674), (795, 10.375894), (1037, 10.376027), (1951, 10.376404), (1530, 10.376622), (2978, 10.377209), (412, 10.377306), (1447, 10.377831), (1861, 10.378384), (3123, 10.37894), (2424, 10.379275), (1313, 10.379511), (3337, 10.379602), (1988, 10.3803215), (290, 10.380835), (2380, 10.381146), (446, 10.382736), (1880, 10.383391), (2761, 10.383613), (3092, 10.384433), (1996, 10.384767), (2599, 10.385172), (1876, 10.385225), (2819, 10.385598), (1673, 10.386139), (2675, 10.386383), (939, 10.387679), (1718, 10.38922), (395, 10.389669), (396, 10.390011), (3114, 10.390431), (2794, 10.3904505), (1275, 10.390846), (2176, 10.3910055), (1097, 10.391272), (3169, 10.392169), (294, 10.393154), (1645, 10.393709), (2394, 10.394028), (716, 10.394165), (2454, 10.394429), (1045, 10.394498), (35, 10.395451), (1376, 10.396821), (2713, 10.39739), (2434, 10.397697), (128, 10.39918), (693, 10.399881), (1227, 10.400188), (417, 10.400204), (539, 10.400927), (1406, 10.401836), (2423, 10.401896), (2744, 10.402254), (1612, 10.403061), (2463, 10.404455), (2038, 10.406804), (173, 10.406867), (739, 10.407852), (2668, 10.409327), (2139, 10.410506), (2961, 10.41062), (1455, 10.410988), (3386, 10.411073), (3361, 10.41184), (1366, 10.412207), (2802, 10.412278), (3514, 10.412513), (224, 10.412886), (110, 10.413436), (756, 10.413524), (1594, 10.414617), (875, 10.415697), (2507, 10.416421), (971, 10.417648), (303, 10.419396), (403, 10.420478), (884, 10.421349), (2350, 10.422043), (2644, 10.422724), (1257, 10.423957), (3537, 10.42426), (737, 10.42433), (2798, 10.4265), (2623, 10.428463), (3066, 10.4285145), (1915, 10.428844), (1789, 10.429831), (3189, 10.430219), (2321, 10.430344), (1053, 10.430609), (357, 10.431026), (2200, 10.431433), (3048, 10.431644), (1766, 10.431762), (1908, 10.432495), (3220, 10.434269), (1139, 10.43567), (3011, 10.43629), (3203, 10.436481), (771, 10.437131), (3051, 10.437164), (1700, 10.43792), (437, 10.43927), (798, 10.440069), (2407, 10.440604), (1204, 10.441504), (2786, 10.44155), (2677, 10.44265), (2508, 10.443026), (1456, 10.44442), (1379, 10.445222), (2366, 10.4474325), (438, 10.447682), (3177, 10.449177), (2097, 10.451358), (71, 10.451904), (3219, 10.451957), (1599, 10.4536085), (2506, 10.453883), (2969, 10.454633), (358, 10.455626), (1312, 10.455854), (3053, 10.456286), (2481, 10.456292), (523, 10.457197), (819, 10.457307), (1293, 10.457537), (2110, 10.458737), (3235, 10.459277), (1689, 10.460015), (3398, 10.461651), (3421, 10.462331), (2860, 10.463261), (3377, 10.4633665), (2717, 10.463622), (1200, 10.463859), (3198, 10.464088), (561, 10.464276), (2341, 10.464533), (45, 10.466398), (501, 10.467287), (2672, 10.468212), (3078, 10.468526), (3240, 10.468732), (1384, 10.468771), (423, 10.469153), (1995, 10.469156), (3586, 10.469379), (283, 10.470757), (2214, 10.470876), (2575, 10.471593), (1883, 10.471662), (79, 10.471736), (162, 10.472765), (1954, 10.473461), (2780, 10.473806), (273, 10.474083), (3121, 10.475715), (3510, 10.475769), (1372, 10.476116), (2373, 10.47627), (3010, 10.477016), (1752, 10.479192), (1613, 10.479337), (1641, 10.480294), (1977, 10.481746), (588, 10.482277), (157, 10.48241), (2820, 10.482417), (973, 10.482881), (3369, 10.482881), (518, 10.4843445), (1781, 10.48442), (865, 10.484493), (1194, 10.48467), (1536, 10.486447), (2683, 10.486697), (1753, 10.487148), (3593, 10.488763), (560, 10.489132), (2495, 10.489975), (366, 10.490309), (2140, 10.490922), (3323, 10.491465), (304, 10.492025), (359, 10.492225), (1294, 10.492503), (1708, 10.493223), (108, 10.493458), (2867, 10.493788), (3458, 10.494424), (993, 10.494813), (2266, 10.495305), (2158, 10.495583), (1501, 10.495961), (140, 10.497393), (1526, 10.498632), (3089, 10.4987), (1970, 10.500425), (3145, 10.500597), (2108, 10.500624), (477, 10.501548), (915, 10.5024395), (520, 10.503452), (615, 10.505356), (1531, 10.505618), (1627, 10.506241), (1685, 10.506765), (1590, 10.506795), (1285, 10.507008), (1863, 10.507912), (1747, 10.508441), (1862, 10.508888), (3425, 10.509291), (813, 10.509779), (1223, 10.510028), (1838, 10.510126), (2563, 10.510785), (3414, 10.510848), (499, 10.511317), (2987, 10.511673), (957, 10.511819), (229, 10.515234), (2410, 10.5156355), (912, 10.515973), (512, 10.517295), (2036, 10.517783), (2634, 10.519103), (3223, 10.519396), (3613, 10.520417), (2079, 10.520813), (714, 10.522226), (3111, 10.522378), (15, 10.522464), (2128, 10.525025), (3209, 10.525424), (352, 10.525595), (2284, 10.526334), (387, 10.526821), (2783, 10.5280075), (3037, 10.528292), (918, 10.529231), (168, 10.529264), (1782, 10.52928), (1004, 10.529317), (1232, 10.529361), (2418, 10.529423), (580, 10.529558), (3130, 10.529952), (3318, 10.530432), (1785, 10.530932), (1524, 10.530975), (1715, 10.531064), (3531, 10.531786), (1378, 10.531885), (2197, 10.53272), (1667, 10.533348), (1042, 10.534968), (3523, 10.5351925), (2241, 10.535456), (3426, 10.535724), (2655, 10.537329), (2055, 10.538208), (2745, 10.538788), (3429, 10.539969), (2185, 10.5406475), (1853, 10.540716), (822, 10.541346), (1717, 10.541525), (2464, 10.543091), (847, 10.543582), (3061, 10.543683), (125, 10.544145), (97, 10.544407), (3015, 10.545799), (506, 10.546835), (3488, 10.547964), (2233, 10.548798), (3280, 10.549737), (1207, 10.550945), (3431, 10.551216), (2703, 10.551711), (341, 10.553013), (1676, 10.554943), (933, 10.555123), (3367, 10.556918), (1311, 10.557469), (594, 10.558041), (2042, 10.558564), (3208, 10.558633), (982, 10.558919), (1767, 10.5592), (525, 10.559663), (2938, 10.560764), (2141, 10.561941), (3400, 10.562036), (253, 10.562245), (682, 10.563018), (2050, 10.563819), (1058, 10.564443), (2648, 10.564686), (374, 10.564775), (2315, 10.565907), (27, 10.566162), (1662, 10.566729), (3363, 10.566923), (2554, 10.567016), (1938, 10.567302), (3055, 10.567676), (2302, 10.568056), (2848, 10.568578), (3521, 10.568817), (1203, 10.57049), (2857, 10.570892), (3148, 10.571028), (1927, 10.571697), (1477, 10.5719185), (2953, 10.572966), (1525, 10.573165), (1867, 10.573613), (838, 10.57378), (1367, 10.574343), (1504, 10.574388), (3204, 10.576075), (205, 10.576515), (2855, 10.576793), (1918, 10.577344), (367, 10.577929), (9, 10.578204), (954, 10.5783415), (16, 10.578577), (1474, 10.578799), (99, 10.580811), (476, 10.580949), (1076, 10.582736), (3581, 10.583008), (1498, 10.584805), (1721, 10.584921), (2892, 10.586697), (2117, 10.587292), (2480, 10.588272), (709, 10.589154), (1442, 10.5893), (2931, 10.589338), (735, 10.589423), (646, 10.589852), (1465, 10.590164), (3474, 10.59133), (2054, 10.591402), (3338, 10.5914345), (1630, 10.592956), (1884, 10.595254), (1233, 10.595888), (1555, 10.597141), (507, 10.597346), (257, 10.597789), (2739, 10.598253), (2265, 10.598912), (2135, 10.599898), (405, 10.60032), (2124, 10.600921), (2033, 10.601975), (2729, 10.602647), (1642, 10.602873), (191, 10.603046), (3234, 10.603084), (3217, 10.6031475), (55, 10.603214), (2177, 10.603289), (562, 10.603838), (1698, 10.6045), (3008, 10.604595), (2159, 10.60495), (1034, 10.605016), (2476, 10.605107), (299, 10.605341), (278, 10.605598), (989, 10.6069565), (51, 10.6079), (1592, 10.6081915), (2657, 10.609374), (2771, 10.609535), (2911, 10.6105795), (1415, 10.610822), (1993, 10.6113205), (2365, 10.612256), (1639, 10.612385), (2035, 10.612871), (1873, 10.613639), (2814, 10.6145), (3473, 10.614742), (3583, 10.615363), (2372, 10.616297), (587, 10.617424), (1540, 10.617773), (98, 10.617792), (3252, 10.619217), (1009, 10.619902), (2048, 10.619981), (255, 10.620504), (1521, 10.62151), (3193, 10.621909), (1777, 10.622059), (3256, 10.623239), (2126, 10.623725), (3190, 10.62375), (1426, 10.623769), (1648, 10.62425), (3470, 10.624343), (2954, 10.625371), (674, 10.625705), (2994, 10.62593), (3463, 10.627054), (465, 10.627792), (2023, 10.627833), (3366, 10.628384), (911, 10.628576), (879, 10.629069), (3529, 10.6303835), (106, 10.632033), (658, 10.632164), (672, 10.632714), (543, 10.633882), (3215, 10.634281), (1092, 10.635216), (2065, 10.637157), (1365, 10.639124), (1582, 10.640036), (762, 10.641832), (336, 10.642243), (3383, 10.643184), (3205, 10.643882), (3295, 10.644974), (2768, 10.6454), (3166, 10.645405), (2859, 10.645862), (1195, 10.647343), (656, 10.649997), (2426, 10.650212), (3407, 10.650967), (44, 10.651956), (2491, 10.652318), (1243, 10.653526), (1559, 10.654707), (2747, 10.655075), (2972, 10.655189), (1397, 10.655713), (2336, 10.657159), (1332, 10.657977), (2542, 10.658919), (2966, 10.659049), (2753, 10.659999), (2115, 10.661464), (2693, 10.662128), (2468, 10.662213), (3180, 10.662903), (2881, 10.664045), (1955, 10.66484), (3402, 10.665192), (2536, 10.665695), (595, 10.666366), (107, 10.666587), (1466, 10.667843), (1299, 10.66811), (1745, 10.668681), (433, 10.668914), (281, 10.669153), (1464, 10.669712), (1254, 10.670757), (95, 10.670783), (460, 10.672135), (1308, 10.673307), (1866, 10.674619), (3555, 10.675453), (2526, 10.675977), (1537, 10.676396), (2633, 10.676821), (3579, 10.678175), (2231, 10.678345), (2915, 10.679057), (1327, 10.679647), (1491, 10.6803055), (2359, 10.680816), (3071, 10.68187), (210, 10.682643), (1713, 10.682654), (906, 10.683727), (983, 10.684944), (2710, 10.68814), (2959, 10.690551), (1110, 10.690858), (441, 10.692522), (376, 10.693324), (1175, 10.694153), (3059, 10.695178), (2676, 10.697193), (2025, 10.697828), (1835, 10.69797), (2736, 10.698055), (3030, 10.698309), (346, 10.698618), (60, 10.698946), (2685, 10.699029), (3437, 10.699462), (2222, 10.700534), (1199, 10.700639), (2404, 10.70175), (1081, 10.7018), (898, 10.701822), (3144, 10.702565), (1936, 10.702937), (1394, 10.703621), (3042, 10.703958), (1412, 10.704063), (1957, 10.704457), (342, 10.704747), (3175, 10.705296), (3122, 10.705309), (1534, 10.706836), (1843, 10.707029), (2646, 10.707988), (3251, 10.709158), (2390, 10.709176), (1788, 10.709343), (3420, 10.710435), (3508, 10.710915), (541, 10.712051), (34, 10.712265), (872, 10.716776), (1842, 10.717072), (1192, 10.717878), (1408, 10.718822), (704, 10.719156), (2594, 10.719735), (3459, 10.719907), (3231, 10.720171), (2621, 10.721004), (671, 10.721169), (2935, 10.722412), (2203, 10.723153), (2514, 10.723364), (2133, 10.723522), (790, 10.723769), (3526, 10.72413), (2299, 10.72465), (2602, 10.72535), (2863, 10.725466), (41, 10.726081), (3365, 10.726966), (728, 10.727236), (3086, 10.728328), (2256, 10.728556), (1159, 10.730459), (3449, 10.731891), (1197, 10.733734), (1268, 10.733955), (1699, 10.734612), (2956, 10.735102), (559, 10.736259), (3610, 10.736955), (1974, 10.737031), (1742, 10.739397), (280, 10.7400875), (3516, 10.741663), (2186, 10.743849), (2106, 10.743961), (3577, 10.744597), (2011, 10.744942), (1989, 10.745297), (547, 10.745793), (593, 10.746227), (1006, 10.748456), (3457, 10.749481), (749, 10.74975), (1147, 10.75053), (995, 10.751315), (3033, 10.751509), (3098, 10.752794), (1111, 10.753087), (1436, 10.753814), (690, 10.755074), (1390, 10.756133), (3487, 10.756223), (1898, 10.756239), (869, 10.756294), (1357, 10.756392), (2511, 10.756549), (2246, 10.757141), (2945, 10.757189), (3273, 10.757334), (1629, 10.758018), (2793, 10.758132), (2111, 10.758181), (3589, 10.758488), (2257, 10.758645), (2871, 10.76067), (2168, 10.760832), (1877, 10.761176), (1429, 10.761431), (1244, 10.762441), (1740, 10.762766), (1361, 10.763048), (2616, 10.763157), (129, 10.763356), (1674, 10.76346), (2805, 10.764466), (2548, 10.764558), (164, 10.7652445), (2212, 10.766922), (3504, 10.76814), (1431, 10.768332), (554, 10.768978), (1402, 10.769714), (566, 10.77022), (378, 10.771874), (511, 10.772779), (467, 10.773303), (114, 10.77364), (2150, 10.775604), (2619, 10.775635), (2232, 10.775797), (516, 10.776045), (1010, 10.77734), (2016, 10.777724), (3045, 10.777735), (3534, 10.779354), (848, 10.779398), (1170, 10.781239), (2921, 10.781526), (835, 10.783108), (2838, 10.78413), (1086, 10.78437), (841, 10.784457), (1907, 10.785092), (2898, 10.785338), (1834, 10.786026), (1870, 10.787021), (937, 10.788163), (2726, 10.789741), (1763, 10.789878), (1122, 10.7921915), (1602, 10.794408), (3588, 10.795172), (1845, 10.795843), (834, 10.796235), (975, 10.796785), (2314, 10.797206), (1506, 10.79733), (3054, 10.7973385), (3570, 10.797696), (3113, 10.798477), (1649, 10.798709), (2682, 10.798855), (1314, 10.798863), (1739, 10.799013), (3590, 10.799198), (3497, 10.799837), (514, 10.7999), (85, 10.800179), (11, 10.800441), (1307, 10.800993), (348, 10.801184), (461, 10.801219), (2734, 10.801352), (1354, 10.801902), (2320, 10.80197), (2451, 10.80282), (1287, 10.802885), (641, 10.803076), (1952, 10.804155), (1987, 10.804777), (2236, 10.805881), (3072, 10.806015), (681, 10.806324), (2204, 10.806338), (454, 10.807886), (1052, 10.808283), (1247, 10.809046), (5, 10.809756), (250, 10.811385), (2228, 10.812988), (2445, 10.81487), (2121, 10.814931), (953, 10.816575), (897, 10.816665), (2433, 10.81702), (386, 10.81716), (2260, 10.817416), (2669, 10.8188095), (815, 10.818959), (3237, 10.819182), (1604, 10.820086), (3140, 10.82077), (3006, 10.820897), (702, 10.820904), (3358, 10.822568), (2679, 10.822786), (689, 10.823274), (1419, 10.824105), (310, 10.824397), (90, 10.826664), (2816, 10.828536), (2925, 10.828613), (2453, 10.828999), (3485, 10.830112), (297, 10.832638), (2027, 10.833113), (1239, 10.833621), (1916, 10.835093), (1095, 10.835343), (3450, 10.836859), (2338, 10.837344), (1103, 10.8377695), (2221, 10.838023), (2400, 10.838201), (2974, 10.839137), (1099, 10.839886), (3161, 10.840089), (1671, 10.84021), (2473, 10.841151), (3434, 10.841368), (634, 10.841861), (1844, 10.842267), (579, 10.843463), (1395, 10.843907), (1771, 10.845095), (1030, 10.846422), (2521, 10.847021), (2888, 10.849764), (3448, 10.850251), (2927, 10.852321), (1371, 10.852756), (2281, 10.853386), (1240, 10.855075), (2013, 10.855818), (935, 10.856454), (1341, 10.856892), (664, 10.857033), (636, 10.857274), (2897, 10.859292), (761, 10.860314), (167, 10.860639), (1636, 10.860738), (931, 10.861826), (2868, 10.862489), (620, 10.862628), (1827, 10.863811), (2586, 10.863846), (2263, 10.864407), (1520, 10.86443), (3277, 10.865085), (1663, 10.866265), (1765, 10.867077), (3562, 10.867565), (2262, 10.868161), (2403, 10.868673), (2391, 10.868738), (1888, 10.869371), (1059, 10.869669), (3327, 10.870885), (1135, 10.871199), (3129, 10.871307), (3138, 10.871674), (505, 10.871972), (2429, 10.872511), (3116, 10.873502), (2666, 10.87436), (1997, 10.874889), (1350, 10.876202), (2112, 10.876362), (2631, 10.877478), (2191, 10.877641), (1851, 10.878403), (2940, 10.878416), (1229, 10.878704), (1963, 10.881124), (2517, 10.882015), (455, 10.882189), (143, 10.88238), (3196, 10.884366), (3334, 10.884579), (1473, 10.885318), (2873, 10.885526), (2524, 10.88556), (2999, 10.886215), (2790, 10.886531), (424, 10.887074), (494, 10.887424), (2082, 10.889415), (2057, 10.890381), (2828, 10.890473), (1049, 10.890708), (820, 10.891439), (1487, 10.89216), (2251, 10.89355), (907, 10.895476), (2502, 10.896304), (1825, 10.89646), (2420, 10.897718), (1982, 10.899038), (398, 10.90119), (2180, 10.901318), (2760, 10.902149), (325, 10.902545), (3520, 10.904409), (37, 10.905348), (2523, 10.906521), (2206, 10.9068), (113, 10.90762), (145, 10.910732), (2194, 10.910886), (2498, 10.911621), (1400, 10.911652), (1420, 10.912801), (484, 10.9129305), (1309, 10.913644), (1571, 10.915405), (2817, 10.915543), (724, 10.915793), (1551, 10.915872), (623, 10.916212), (2387, 10.919546), (212, 10.920479), (2951, 10.920504), (181, 10.922335), (404, 10.923821), (1090, 10.924134), (236, 10.924476), (1370, 10.925502), (3511, 10.925546), (332, 10.925572), (1249, 10.9264765), (3332, 10.927926), (2650, 10.92967), (1942, 10.930708), (1589, 10.93099), (1310, 10.931891), (370, 10.932337), (632, 10.932375), (3024, 10.933249), (377, 10.933919), (1245, 10.935449), (2393, 10.935611), (2318, 10.936835), (1887, 10.936913), (2946, 10.936972), (1738, 10.938931), (2591, 10.939148), (1191, 10.941073), (2395, 10.942359), (2552, 10.943123), (3525, 10.94371), (2216, 10.945732), (1805, 10.946787), (1949, 10.94697), (391, 10.947091), (3460, 10.947301), (1681, 10.94784), (637, 10.947938), (2235, 10.948142), (2094, 10.948156), (1923, 10.948164), (2984, 10.949144), (1761, 10.950307), (1696, 10.950503), (1151, 10.9507885), (3403, 10.952578), (1837, 10.953919), (1764, 10.954689), (1234, 10.955512), (2357, 10.957164), (2061, 10.957557), (2870, 10.957674), (1985, 10.958006), (67, 10.958614), (1552, 10.958787), (2598, 10.959323), (22, 10.960904), (2769, 10.961173), (732, 10.961937), (2396, 10.961998), (722, 10.964723), (2757, 10.965365), (1565, 10.965515), (1561, 10.966418), (1022, 10.966548), (1005, 10.968077), (144, 10.969694), (2566, 10.972687), (829, 10.972872), (1425, 10.973167), (258, 10.973285), (718, 10.974177), (3500, 10.974597), (757, 10.977461), (778, 10.977516), (2720, 10.977618), (3560, 10.978014), (1340, 10.978307), (940, 10.979352), (3417, 10.979433), (2918, 10.980065), (2348, 10.980423), (3021, 10.981099), (1737, 10.983226), (3278, 10.983268), (1119, 10.984223), (2374, 10.98459), (2983, 10.984916), (3515, 10.986925), (1980, 10.987565), (1816, 10.9886675), (2981, 10.989135), (2645, 10.990456), (3451, 10.991009), (2564, 10.991242), (2694, 10.992192), (2490, 10.993905), (2351, 10.994465), (1618, 10.995285), (1817, 10.995565), (344, 10.995987), (2975, 10.996689), (2865, 10.998652), (1981, 10.999397), (3202, 11.001142), (2603, 11.003196), (2324, 11.007554), (2201, 11.008839), (2698, 11.010061), (2979, 11.0114565), (2801, 11.013507), (988, 11.014509), (1364, 11.014523), (2207, 11.01514), (1150, 11.019734), (3528, 11.020293), (3309, 11.022535), (2322, 11.023134), (1328, 11.02327), (2742, 11.023946), (2386, 11.024469), (2845, 11.024657), (1303, 11.024724), (1626, 11.025555), (970, 11.0293045), (1495, 11.030039), (66, 11.030715), (3479, 11.030731), (3206, 11.030739), (175, 11.030952), (186, 11.034664), (1756, 11.035746), (2323, 11.036283), (1709, 11.038238), (1241, 11.0392685), (2700, 11.040581), (3509, 11.041236), (2714, 11.04318), (3573, 11.04377), (1190, 11.045742), (1003, 11.046449), (2577, 11.04663), (2535, 11.04777), (765, 11.048471), (2582, 11.049033), (2765, 11.05179), (2866, 11.054165), (331, 11.054275), (3143, 11.055014), (3499, 11.05521), (345, 11.055244), (1102, 11.055488), (1032, 11.056421), (2516, 11.059351), (3347, 11.060039), (3540, 11.060637), (311, 11.060883), (2692, 11.060894), (1496, 11.065428), (1280, 11.065721), (3201, 11.068188), (534, 11.068507), (944, 11.069337), (668, 11.069601), (2361, 11.070686), (1129, 11.071301), (1557, 11.0730295), (694, 11.075743), (2459, 11.076628), (3306, 11.07786), (1801, 11.07978), (2538, 11.080548), (3390, 11.080854), (2530, 11.0828495), (1755, 11.082984), (1891, 11.083931), (3582, 11.084285), (327, 11.08442), (2777, 11.084425), (2688, 11.087114), (1450, 11.089703), (1811, 11.092492), (976, 11.093114), (1628, 11.093371), (2728, 11.09444), (204, 11.094596), (235, 11.095014), (2119, 11.09505), (1248, 11.095704), (1321, 11.096646), (416, 11.096839), (329, 11.096899), (3561, 11.097046), (2515, 11.097258), (3230, 11.097576), (2919, 11.097841), (3236, 11.09833), (3543, 11.100574), (245, 11.103209), (1267, 11.10331), (1126, 11.108037), (691, 11.108937), (3057, 11.109071), (2308, 11.109409), (2271, 11.112144), (3533, 11.112589), (421, 11.112886), (2485, 11.113298), (537, 11.114208), (981, 11.116177), (1979, 11.116409), (265, 11.119628), (32, 11.120338), (3495, 11.12069), (3351, 11.120826), (274, 11.127863), (3142, 11.128556), (200, 11.129013), (1906, 11.129342), (2750, 11.130616), (1040, 11.131222), (1051, 11.131349), (1028, 11.131543), (1134, 11.132341), (2883, 11.133603), (1588, 11.1336565), (1071, 11.135519), (1348, 11.136262), (1273, 11.1370325), (3446, 11.137467), (2584, 11.138722), (1187, 11.139387), (885, 11.140488), (893, 11.140496), (1865, 11.140671), (2137, 11.141259), (379, 11.142087), (2282, 11.142925), (984, 11.144283), (1488, 11.146184), (2028, 11.147739), (2144, 11.147959), (536, 11.148149), (2545, 11.1481905), (3503, 11.149712), (1148, 11.151948), (3353, 11.153193), (2651, 11.155952), (3379, 11.156316), (864, 11.156444), (679, 11.157452), (3115, 11.157776), (3258, 11.15918), (1393, 11.160731), (2363, 11.161579), (788, 11.161669), (2415, 11.161701), (2237, 11.16206), (770, 11.163698), (3250, 11.163846), (2727, 11.164078), (1000, 11.164308), (246, 11.164395), (974, 11.165404), (1231, 11.166105), (2573, 11.166197), (2904, 11.166308), (2412, 11.16908), (850, 11.169576), (1486, 11.170548), (419, 11.17142), (2255, 11.171804), (2274, 11.174974), (3109, 11.176492), (40, 11.176616), (2276, 11.1794405), (665, 11.181052), (2823, 11.181875), (705, 11.183633), (165, 11.183999), (1931, 11.185364), (2962, 11.188507), (3404, 11.1895275), (1007, 11.189572), (3094, 11.189605), (2758, 11.192514), (3, 11.193814), (3370, 11.195147), (2718, 11.195622), (351, 11.196512), (483, 11.198782), (3496, 11.203724), (1603, 11.20391), (96, 11.205012), (2199, 11.20515), (799, 11.206556), (1964, 11.206556), (832, 11.209539), (1797, 11.212266), (2684, 11.213859), (1301, 11.217291), (2457, 11.217303), (428, 11.218142), (150, 11.219234), (3471, 11.21933), (2533, 11.220191), (2004, 11.222763), (2590, 11.22384), (1666, 11.224055), (324, 11.226273), (13, 11.228517), (2085, 11.22962), (1088, 11.230448), (1018, 11.231088), (3595, 11.231995), (1435, 11.232948), (2483, 11.235473), (401, 11.237329), (2635, 11.237665), (2017, 11.2379875), (2588, 11.238263), (493, 11.241523), (968, 11.241993), (2243, 11.242253), (1074, 11.243098), (3286, 11.244134), (696, 11.247325), (1416, 11.249025), (498, 11.249267), (3435, 11.2501545), (123, 11.25217), (2068, 11.25335), (3155, 11.254701), (1065, 11.25483), (174, 11.255136), (3039, 11.257021), (1201, 11.258346), (2083, 11.259126), (1754, 11.259171), (3444, 11.260938), (2998, 11.2611475), (3105, 11.2619295), (135, 11.262627), (196, 11.263126), (1730, 11.264222), (2849, 11.267152), (29, 11.267232), (1543, 11.26731), (355, 11.269002), (925, 11.269148), (2205, 11.269161), (2209, 11.269392), (1421, 11.270524), (1342, 11.2720375), (3002, 11.274542), (853, 11.276413), (3012, 11.277061), (3288, 11.277684), (2161, 11.278233), (3067, 11.279738), (1452, 11.28056), (2812, 11.285659), (1814, 11.286498), (2268, 11.287705), (1941, 11.288512), (1926, 11.289521), (1686, 11.289945), (3101, 11.291086), (2600, 11.293003), (2381, 11.293392), (2886, 11.294553), (1956, 11.294906), (2803, 11.295331), (3507, 11.295985), (3350, 11.296089), (1141, 11.296274), (840, 11.296502), (3348, 11.296788), (2220, 11.299934), (817, 11.303113), (2719, 11.303784), (93, 11.304387), (3512, 11.30467), (1978, 11.306364), (178, 11.308124), (1261, 11.308637), (710, 11.308865), (2313, 11.3092985), (1381, 11.311382), (649, 11.311518), (2922, 11.313648), (3068, 11.31371), (430, 11.314076), (104, 11.314706), (909, 11.314766), (2500, 11.315986), (2489, 11.318481), (2574, 11.320504), (3314, 11.323858), (526, 11.325388), (2743, 11.325752), (318, 11.325969), (2455, 11.329334), (856, 11.329664), (1089, 11.331279), (69, 11.33179), (3524, 11.334423), (952, 11.338164), (575, 11.338843), (1391, 11.342367), (2799, 11.3433895), (2104, 11.344139), (447, 11.346445), (1305, 11.347728), (1687, 11.350814), (2638, 11.352547), (1911, 11.35311), (1549, 11.353595), (2721, 11.354121), (2952, 11.355404), (1991, 11.356037), (720, 11.357923), (3136, 11.35804), (1615, 11.360709), (2510, 11.362101), (3233, 11.362306), (2213, 11.363707), (3565, 11.36756), (3276, 11.368086), (3274, 11.368997), (910, 11.37074), (1113, 11.371726), (2355, 11.37283), (3418, 11.374395), (2759, 11.377801), (687, 11.37834), (1962, 11.384852), (2513, 11.385432), (1684, 11.385769), (578, 11.389459), (1770, 11.389785), (1670, 11.393616), (3604, 11.394238), (354, 11.3987665), (923, 11.39951), (268, 11.399979), (48, 11.4004965), (2467, 11.400677), (2791, 11.401418), (3609, 11.404906), (2328, 11.405093), (1479, 11.408359), (1440, 11.408579), (3036, 11.410743), (960, 11.41211), (1654, 11.413374), (3394, 11.413874), (1336, 11.416849), (2227, 11.41986), (1302, 11.420061), (2656, 11.421029), (1680, 11.421077), (2539, 11.42123), (2164, 11.421406), (1499, 11.423254), (789, 11.423761), (2874, 11.425234), (2772, 11.425237), (473, 11.425329), (2709, 11.425356), (2189, 11.42555), (2689, 11.428166), (1904, 11.428647), (863, 11.429157), (919, 11.430437), (2127, 11.431677), (3357, 11.433888), (2306, 11.43443), (763, 11.43446), (2049, 11.435087), (3253, 11.4386835), (2093, 11.440507), (3368, 11.44217), (686, 11.442182), (987, 11.442852), (2129, 11.445918), (1080, 11.447086), (945, 11.447153), (3486, 11.448554), (1894, 11.449538), (1746, 11.453937), (240, 11.454298), (1414, 11.455339), (2687, 11.455423), (2628, 11.456626), (2985, 11.456814), (3455, 11.459449), (2024, 11.46169), (2492, 11.461924), (3315, 11.462506), (1946, 11.463297), (1638, 11.463588), (2850, 11.463667), (1318, 11.464808), (845, 11.467578), (2000, 11.469399), (61, 11.470275), (3608, 11.472118), (3222, 11.472194), (1127, 11.473215), (2950, 11.475969), (3578, 11.4762), (899, 11.479668), (1714, 11.483682), (1072, 11.48428), (3413, 11.485239), (3170, 11.487008), (456, 11.487699), (2756, 11.488466), (127, 11.488798), (86, 11.490997), (958, 11.491408), (46, 11.491473), (1284, 11.4917145), (934, 11.49237), (2852, 11.494062), (2964, 11.496657), (1623, 11.498368), (2494, 11.499365), (1796, 11.504532), (3183, 11.508495), (1417, 11.509676), (1586, 11.511266), (3373, 11.51145), (105, 11.511796), (823, 11.512652), (1619, 11.514126), (1990, 11.514447), (862, 11.515258), (1905, 11.5159025), (277, 11.520892), (1647, 11.521414), (3428, 11.522358), (3229, 11.528954), (1272, 11.531626), (3399, 11.535863), (2163, 11.535957), (2354, 11.538562), (2297, 11.550179), (3106, 11.550251), (3376, 11.550338), (519, 11.553424), (298, 11.55966), (330, 11.560283), (2060, 11.562316), (2, 11.564229), (2040, 11.564366), (3283, 11.565332), (3310, 11.565472), (2583, 11.5667925), (3226, 11.571374), (2364, 11.572851), (3131, 11.573043), (3268, 11.574802), (3584, 11.575385), (189, 11.575415), (43, 11.575455), (777, 11.576131), (3432, 11.577707), (3552, 11.578399), (486, 11.579654), (8, 11.580603), (1889, 11.583515), (2327, 11.584836), (2344, 11.586036), (3313, 11.586654), (2151, 11.587425), (941, 11.588271), (2611, 11.58835), (148, 11.590874), (2080, 11.598913), (1573, 11.60073), (1055, 11.601556), (1131, 11.601992), (2058, 11.603115), (3550, 11.605417), (1786, 11.606003), (779, 11.607883), (1087, 11.609472), (2795, 11.615892), (3574, 11.618897), (1519, 11.620992), (1258, 11.622542), (1545, 11.62753), (1953, 11.62786), (2114, 11.627904), (2782, 11.62982), (2352, 11.629836), (279, 11.632467), (2993, 11.642842), (2752, 11.644879), (955, 11.644893), (651, 11.64547), (3187, 11.645541), (256, 11.646794), (2807, 11.647494), (300, 11.649983), (4, 11.650548), (333, 11.65424), (1733, 11.657382), (2261, 11.657685), (2413, 11.660944), (492, 11.663463), (1725, 11.663755), (334, 11.664088), (1180, 11.665508), (2541, 11.668211), (2443, 11.668814), (1704, 11.669606), (3547, 11.669657), (1778, 11.671869), (2512, 11.673669), (3424, 11.678332), (2088, 11.682782), (1846, 11.684413), (471, 11.693935), (972, 11.697455), (986, 11.698058), (317, 11.700806), (2240, 11.702024), (2707, 11.70382), (3157, 11.707933), (3040, 11.70907), (2551, 11.7126), (2751, 11.713388), (400, 11.715499), (2239, 11.716691), (2549, 11.722579), (2125, 11.724186), (2030, 11.727543), (2589, 11.731979), (2215, 11.732762), (873, 11.735637), (2179, 11.74019), (1901, 11.741615), (2808, 11.748052), (1382, 11.75038), (284, 11.750935), (3085, 11.753415), (573, 11.75429), (3221, 11.758664), (1107, 11.7590685), (58, 11.761088), (1172, 11.761581), (2469, 11.761788), (1101, 11.762429), (3372, 11.762782), (1178, 11.767491), (859, 11.769276), (220, 11.769823), (218, 11.770908), (1493, 11.773677), (1252, 11.775392), (1948, 11.775765), (2637, 11.777124), (161, 11.778021), (2217, 11.779162), (2800, 11.786558), (2345, 11.794508), (2285, 11.799325), (2043, 11.802109), (905, 11.802161), (3331, 11.804282), (1399, 11.812517), (3329, 11.814862), (3214, 11.820078), (2580, 11.822533), (2778, 11.823922), (951, 11.825564), (1026, 11.830463), (3135, 11.832733), (625, 11.834174), (3162, 11.838535), (2157, 11.838605), (1035, 11.845094), (2003, 11.847391), (605, 11.852609), (1804, 11.854037), (662, 11.857531), (1758, 11.858013), (1112, 11.8601885), (1668, 11.874334), (1410, 11.877001), (1776, 11.877025), (627, 11.878637), (1527, 11.88059), (3100, 11.881281), (444, 11.887108), (551, 11.894), (2740, 11.901338), (614, 11.901958), (2658, 11.902451), (2175, 11.903566), (734, 11.904791), (1392, 11.909241), (2833, 11.912489), (1325, 11.917276), (1660, 11.929607), (2606, 11.930384), (706, 11.933845), (1019, 11.936992), (2343, 11.939953), (2749, 11.940158), (2610, 11.9475155), (2147, 11.954495), (1728, 11.962864), (267, 11.962885), (0, 11.96576), (2462, 11.971947), (3207, 11.97297), (2825, 11.981142), (3035, 11.9850445), (1373, 11.990226), (2167, 11.998389), (116, 12.002953), (2690, 12.007086), (609, 12.008986), (513, 12.0091305), (1542, 12.014066), (556, 12.016779), (233, 12.032908), (1857, 12.035844), (581, 12.0382395), (321, 12.039226), (3453, 12.050116), (839, 12.051737), (1983, 12.060964), (52, 12.072596), (1940, 12.076282), (2226, 12.078792), (1114, 12.082206), (2614, 12.092149), (1968, 12.093991), (1353, 12.098484), (2579, 12.104093), (3566, 12.104176), (908, 12.104383), (209, 12.11744), (851, 12.125215), (3319, 12.12695), (1062, 12.127012), (669, 12.12952), (744, 12.137031), (3218, 12.139294), (1959, 12.139432), (3409, 12.160028), (3194, 12.181947), (1651, 12.18414), (711, 12.192001), (751, 12.193349), (3099, 12.210451), (2730, 12.214221), (1462, 12.217982), (2334, 12.23578), (3553, 12.237025), (2762, 12.243285), (2288, 12.247756), (2546, 12.248545), (2846, 12.273304), (2630, 12.275429), (858, 12.278956), (293, 12.284358), (133, 12.307257), (3401, 12.317861), (3544, 12.344963), (2303, 12.348917), (2746, 12.355302), (2834, 12.358315), (2286, 12.37159), (2229, 12.371891), (3084, 12.381917), (1362, 12.395496), (409, 12.396673), (2192, 12.419912), (601, 12.419919), (2287, 12.442096), (3452, 12.449851), (1339, 12.460029), (1264, 12.502924), (2593, 12.503725), (2763, 12.50422), (2156, 12.510957), (2636, 12.516271), (141, 12.5225315), (276, 12.553662), (3412, 12.557174), (1130, 12.572536), (3266, 12.576053), (3176, 12.589549), (2029, 12.589926), (320, 12.6142845), (1198, 12.6346855), (2440, 12.645326), (3415, 12.646298), (1664, 12.647497), (2905, 12.65723), (708, 12.659676), (3165, 12.671706), (1418, 12.678106), (3179, 13.033073), (2529, 13.080705), (2367, 13.088905), (2461, 13.236192), (1352, 13.353798)]\n",
      "idx: 703 dif: 7.0829234\n",
      "idx: 546 dif: 7.414237\n",
      "idx: 1920 dif: 7.436479\n",
      "idx: 743 dif: 7.4612637\n",
      "idx: 1631 dif: 7.5890546\n",
      "idx: 77 dif: 7.606358\n",
      "idx: 959 dif: 7.6510687\n",
      "idx: 301 dif: 7.7678175\n",
      "idx: 2570 dif: 7.7733827\n",
      "idx: 998 dif: 7.8263083\n"
     ]
    }
   ],
   "source": [
    "lst = print_closest_clouds(model, 1)"
   ]
  },
  {
   "cell_type": "code",
   "execution_count": null,
   "metadata": {},
   "outputs": [
    {
     "name": "stdout",
     "output_type": "stream",
     "text": [
      "[0, 57]\n",
      "[[0, 3271], [0, 3091], [0, 3140], [0, 3267], [0, 1747], [0, 2469], [0, 3255], [0, 2608], [0, 3082], [0, 1522], [0, 1702], [0, 3269], [0, 3262], [0, 2484], [0, 3283]]\n"
     ]
    }
   ],
   "source": [
    "print(Good_Samples[2])\n",
    "print(Bad_Samples[2])\n"
   ]
  },
  {
   "cell_type": "code",
   "execution_count": null,
   "metadata": {},
   "outputs": [
    {
     "name": "stdout",
     "output_type": "stream",
     "text": [
      "[[-1.12564743e+00 -7.06718552e-07]\n",
      " [-1.12566870e+00 -1.10695821e-02]\n",
      " [-1.12564977e+00 -2.21402261e-02]\n",
      " ...\n",
      " [-1.12561473e+00  2.21397822e-02]\n",
      " [-1.12564783e+00  1.10696223e-02]\n",
      " [-1.12564039e+00  9.52024364e-07]]\n",
      "-1.369377007509068   -10.000002703726143\n",
      "-1.5442138088907436   -9.750002570804785\n"
     ]
    },
    {
     "data": {
      "image/png": "[encoded data removed]",
      "text/plain": [
       "<Figure size 640x480 with 1 Axes>"
      ]
     },
     "metadata": {},
     "output_type": "display_data"
    }
   ],
   "source": [
    "import matplotlib.pyplot as plt\n",
    "import numpy as np\n",
    "\n",
    "num_nube = 0\n",
    "num_nube_next = 77\n",
    "\n",
    "print(Nubes[num_nube])\n",
    "\n",
    "# Dividir el arreglo de coordenadas en dos arreglos x e y\n",
    "x1 = [cord[0]+Posiciones_robot[num_nube][0] for cord in Nubes[num_nube]]\n",
    "y1 = [-cord[1]+Posiciones_robot[num_nube][1] for cord in Nubes[num_nube]]\n",
    "\n",
    "#x1.append(Posiciones_robot[num_nube][0])\n",
    "#y1.append(Posiciones_robot[num_nube][1])\n",
    "\n",
    "print(Posiciones_robot[num_nube][0] ,\" \", Posiciones_robot[num_nube][1])\n",
    "\n",
    "x2 = [cord[0]+Posiciones_robot[num_nube_next][0] for cord in Nubes[num_nube_next]]\n",
    "y2 = [-cord[1]+Posiciones_robot[num_nube_next][1] for cord in Nubes[num_nube_next]]\n",
    "\n",
    "#x2.append(Posiciones_robot[num_nube_next][0])\n",
    "#y2.append(Posiciones_robot[num_nube_next][1])\n",
    "\n",
    "print(Posiciones_robot[num_nube_next][0] ,\" \", Posiciones_robot[num_nube_next][1])\n",
    "\n",
    "# Crear la figura y el eje para la gráfica\n",
    "fig, ax = plt.subplots()\n",
    "\n",
    "# Graficar los puntos\n",
    "ax.scatter(y1, x1, color='red', marker='o', label='Conjunto 1')\n",
    "ax.scatter(y2, x2, color='blue', marker='x',  label='Conjunto 2')\n",
    "ax.scatter(Posiciones_robot[num_nube][1], Posiciones_robot[num_nube][0], color='orange', marker='o', label='Conjunto 1')\n",
    "ax.scatter(Posiciones_robot[num_nube_next][1], Posiciones_robot[num_nube_next][0], color='green', marker='x',  label='Conjunto 2')\n",
    "\n",
    "\n",
    "# Opcional: establecer títulos para los ejes y la gráfica\n",
    "ax.set_title('Gráfica de Posiciones del Robot')\n",
    "ax.set_xlabel('Eje X')\n",
    "ax.set_ylabel('Eje Y')\n",
    "ax.set_ylim(-5,5)\n",
    "ax.set_xlim(-15,15)\n",
    "\n",
    "\n",
    "# Mostrar la gráfica\n",
    "plt.show()"
   ]
  },
  {
   "cell_type": "code",
   "execution_count": null,
   "metadata": {},
   "outputs": [],
   "source": [
    "from sklearn.decomposition import PCA\n",
    "import numpy as np\n",
    "\n",
    "np.random.seed(42) # Para reproducibilidad\n",
    "X =  model.word_embeddings(torch.tensor(range(num_clouds), dtype=torch.long)).detach().numpy()\n",
    "\n",
    "\n",
    "# Inicializar PCA para reducir a 2 dimensiones\n",
    "pca = PCA(n_components=2)\n",
    "\n",
    "# Ajustar y transformar los datos\n",
    "X_reduced = pca.fit_transform(X)"
   ]
  },
  {
   "cell_type": "code",
   "execution_count": null,
   "metadata": {},
   "outputs": [
    {
     "name": "stdout",
     "output_type": "stream",
     "text": [
      "[[ 1.6586436  -0.51091   ]\n",
      " [-1.3672479  -0.3567195 ]\n",
      " [-0.5419576   0.46418402]\n",
      " ...\n",
      " [ 2.2782557   1.2680715 ]\n",
      " [-0.41273892 -0.5220318 ]\n",
      " [-1.5288978  -0.37901315]]\n"
     ]
    }
   ],
   "source": [
    "print(X_reduced)"
   ]
  },
  {
   "cell_type": "code",
   "execution_count": null,
   "metadata": {},
   "outputs": [
    {
     "data": {
      "image/png": "[encoded data removed]",
      "text/plain": [
       "<Figure size 1000x800 with 1 Axes>"
      ]
     },
     "metadata": {},
     "output_type": "display_data"
    }
   ],
   "source": [
    "import matplotlib.pyplot as plt\n",
    "\n",
    "# Suponer que tenemos un arreglo de nombres para cada punto\n",
    "names = np.array([\"Nube {}\".format(i+1) for i in range(10)])\n",
    "\n",
    "# Crear una gráfica de los puntos reducidos\n",
    "plt.figure(figsize=(10, 8))\n",
    "plt.scatter(X_reduced[:10, 0], X_reduced[:10, 1])\n",
    "plt.scatter(X_reduced[3091, 0], X_reduced[3091, 1], color='red')\n",
    "\n",
    "# Anotar cada punto con su nombre correspondiente\n",
    "for i, name in enumerate(names):\n",
    "    plt.annotate(name, (X_reduced[i, 0], X_reduced[i, 1]))\n",
    "    plt.annotate(\"muy alejado\", (X_reduced[3091, 0], X_reduced[3091,1]))\n",
    "\n",
    "plt.xlabel('Componente Principal 1')\n",
    "plt.ylabel('Componente Principal 2')\n",
    "plt.title('Representación de Vectores Reducidos mediante PCA')\n",
    "plt.grid(True)\n",
    "plt.show()"
   ]
  }
 ],
 "metadata": {
  "kernelspec": {
   "display_name": "Python 3",
   "language": "python",
   "name": "python3"
  },
  "language_info": {
   "codemirror_mode": {
    "name": "ipython",
    "version": 3
   },
   "file_extension": ".py",
   "mimetype": "text/x-python",
   "name": "python",
   "nbconvert_exporter": "python",
   "pygments_lexer": "ipython3",
   "version": "3.9.18"
  }
 },
 "nbformat": 4,
 "nbformat_minor": 2
}
